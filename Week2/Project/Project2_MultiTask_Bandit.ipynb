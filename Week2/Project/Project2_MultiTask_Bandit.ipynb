{
 "cells": [
  {
   "cell_type": "markdown",
   "id": "IMDtFpsBbZPF",
   "metadata": {
    "id": "IMDtFpsBbZPF"
   },
   "source": [
    "<h4><i><font color='red'>The project has many components, and we encourage you to complete as many as you can! That said, we highly encourage you to submit your work even if your notebook is only partially completed - the TA can help review your work and provide tips on any places that you got stuck or have further questions!</font></i></h4>"
   ]
  },
  {
   "cell_type": "markdown",
   "id": "wIHxLWre9THR",
   "metadata": {
    "id": "wIHxLWre9THR"
   },
   "source": [
    "<font size=\"6\">**Table of Contents:**</font>  \n",
    "<br>\n",
    "<font size=\"5\">\n",
    "<u>Single- and Multi-task Models:</u>  \n",
    "&emsp;&emsp;1\\. [Introduction](#scrollTo=ETXp_Ixa9xVH&uniqifier=1)  \n",
    "&emsp;&emsp;2\\. [Setup](#scrollTo=CcKGfQtEDte3&uniqifier=1)  \n",
    "&emsp;&emsp;3\\. [Simple Feature Preprocessing](#scrollTo=8k4D0ZUPEXJ5&uniqifier=1)  \n",
    "&emsp;&emsp;4\\. [Negative Sampling](#scrollTo=ZOyl7LPbGeFQ&uniqifier=1)  \n",
    "&emsp;&emsp;5\\. [Single-Task Ranker](#scrollTo=ADo5s7YWHOoR&uniqifier=1)  \n",
    "&emsp;&emsp;6\\. [Evaluation](#scrollTo=MtAo2yv4H4jg&uniqifier=1)  \n",
    "&emsp;&emsp;7\\. [Multi-Task Ranker](#scrollTo=NI-XuLBcJld0&uniqifier=1)  \n",
    "</font>\n",
    "<font size=\"4\">\n",
    "&emsp;&emsp;&emsp;&emsp;a\\. [TODO 2.1: Add a Second Label](#scrollTo=ibq1uMfTL2H9&uniqifier=1)  \n",
    "&emsp;&emsp;&emsp;&emsp;b\\. [Model Training](#scrollTo=aMIjykLIMHZW&uniqifier=1)  \n",
    "&emsp;&emsp;&emsp;&emsp;c\\. [Freezing Layers for Secondary Tasks](#scrollTo=09LGM73ePNZK&uniqifier=1)  \n",
    "</font>\n",
    "<font size=\"5\">\n",
    "&emsp;&emsp;8\\. [TODO 2.2: Model Improvement (Optional)](#scrollTo=NTgBnh2-PrNL&uniqifier=1)  \n",
    "<br>\n",
    "<u>Bandits for Recommendations:</u>  \n",
    "&emsp;&emsp;1\\. [Introduction](#scrollTo=MAFpygeZumu1&uniqifier=1)  \n",
    "&emsp;&emsp;2\\. [Setup](#scrollTo=mGMwRjXuDxm9&uniqifier=1)  \n",
    "&emsp;&emsp;3\\. [Implement ϵ-greedy Policy](#scrollTo=s_bLy59XFaz7&uniqifier=1)  \n",
    "&emsp;&emsp;4\\. [Policy Evaluation](#scrollTo=NHsNS6B1JTrO&uniqifier=1)  \n",
    "&emsp;&emsp;5\\. [TODO 2.3: Implement UCB1](#scrollTo=aM2H5Jm4OqFb&uniqifier=1)  \n",
    "</font>"
   ]
  },
  {
   "cell_type": "markdown",
   "id": "NWpqDtwiKSyN",
   "metadata": {
    "id": "NWpqDtwiKSyN"
   },
   "source": [
    "# **Single- and Multi-task Models:**\n",
    "\n"
   ]
  },
  {
   "cell_type": "markdown",
   "id": "ETXp_Ixa9xVH",
   "metadata": {
    "id": "ETXp_Ixa9xVH"
   },
   "source": [
    "## **1. Introduction**\n",
    "[back to top](#scrollTo=wIHxLWre9THR&uniqifier=1)"
   ]
  },
  {
   "cell_type": "markdown",
   "id": "837f0383-ee06-41a4-b431-032c431dfcbb",
   "metadata": {
    "id": "837f0383-ee06-41a4-b431-032c431dfcbb"
   },
   "source": [
    "Congratulations on making it to week 2! 👏 In the first week of this course, we covered the basics of how to design personalized recommendation systems. We then provided some system design examples for large scale recommenders from corporations like Spotify and YouTube, as well as techniques for candidate generation, specifically the two-tower model being used at Twitter and Pinterest.\n",
    "\n",
    "This week, we'll cover details of ML approaches for recommendations: Multi-task recommenders and contextual bandits.  \n",
    "  \n",
    "<br>We first begin by developing a simple multi-task model, and then cover a contextual bandit model. For ease of use, we will re-use our H&M dataset from week 1 for the Single- and Multi-task models, and will switch to using Yahoo! news dataset for the contextual bandit model in the second section of this notebook.  \n",
    "  \n",
    "<br>**Single-task Recommender:** We will start by deveoping a single task model that makes predictions about whether the user will purchase the article or not.\n",
    "  \n",
    "\n",
    "<br>**Multi-task Recommender:** We then expand the scope to consider auxilliary prediction tasks in order to improve the recommendation performance.\n",
    "\n",
    "Specifically, we make the following two predictions using a multi-task setup:\n",
    "1. Predicting which specific item the user will buy, as done with the single-task model.  \n",
    "2. Predicting which category the user will make purchase in.  \n",
    "\n",
    "  \n",
    "Example architecture:\n",
    "<div>\n",
    "<img src=\"https://miro.medium.com/max/3688/1*rrIJOpJO8fkFECNHlwq-jQ.png\" width=\"500\"/>\n",
    "</div>  \n",
    "  \n",
    "<br>**Negative Sampling:**\n",
    "It is important to note that the dataset is only of positive cases -- cases wherein the user bought an article. To train our models, we will have to resort to negative sampling to develop a mixed dataset comprising of positive and negative examples. We will use random negative sampling in this notebook.  \n",
    "  \n",
    "<br>**Evaluation:**\n",
    "We will evaluate the ranker performance on various ranking metrics.\n",
    "  \n",
    "<br>**This notebook benefits from using a GPU!**  \n",
    "You can use it for free, in Google Colab, by going to the menu bar above, selecting `Runtime`, then `Change runtime type`, then selecting `GPU` as the `Hardware accelerator`."
   ]
  },
  {
   "cell_type": "markdown",
   "id": "CcKGfQtEDte3",
   "metadata": {
    "id": "CcKGfQtEDte3"
   },
   "source": [
    "## **2. Setup**\n",
    "[back to top](#scrollTo=wIHxLWre9THR&uniqifier=1)"
   ]
  },
  {
   "cell_type": "code",
   "execution_count": 1,
   "id": "add75169-0279-469c-98c2-36e6fc28ebdd",
   "metadata": {
    "id": "add75169-0279-469c-98c2-36e6fc28ebdd"
   },
   "outputs": [],
   "source": [
    "# Installs and imports\n",
    "import pandas as pd\n",
    "import numpy as np\n",
    "import seaborn as sns\n",
    "from matplotlib import pyplot as plt\n",
    "from tqdm.notebook import tqdm\n",
    "from typing import Dict, Text\n",
    "import tensorflow as tf\n",
    "import random\n",
    "from datetime import timedelta\n",
    "import gc\n",
    "from sklearn.metrics import confusion_matrix, ConfusionMatrixDisplay\n",
    "from IPython.display import clear_output\n",
    "\n",
    "# Download data\n",
    "!pip install -U --no-cache-dir gdown --pre\n",
    "!gdown --no-cookies --folder https://drive.google.com/drive/folders/1j9QpkSKwqFfpgohbVxdPDKuwmwJXZ6yz?usp=sharing\n",
    "\n",
    "clear_output()"
   ]
  },
  {
   "cell_type": "code",
   "execution_count": 2,
   "id": "vvZex8kEBj-Q",
   "metadata": {
    "id": "vvZex8kEBj-Q"
   },
   "outputs": [],
   "source": [
    "# Read data into memory\n",
    "article_df = pd.read_csv(\"hmdata/articles.csv.zip\")\n",
    "customer_df = pd.read_csv(\"hmdata/customers.csv.zip\")\n",
    "transaction_df = pd.read_csv('hmdata/transactions_train.csv.zip')"
   ]
  },
  {
   "cell_type": "code",
   "execution_count": 3,
   "id": "3081bc7b-ab90-41c0-9c21-35dfe59b4228",
   "metadata": {
    "colab": {
     "base_uri": "https://localhost:8080/"
    },
    "executionInfo": {
     "elapsed": 7641,
     "status": "ok",
     "timestamp": 1676216744081,
     "user": {
      "displayName": "David Albrecht",
      "userId": "10653802693122892742"
     },
     "user_tz": 480
    },
    "id": "3081bc7b-ab90-41c0-9c21-35dfe59b4228",
    "outputId": "e22a5973-8688-45d7-a034-50249e51cb64"
   },
   "outputs": [
    {
     "data": {
      "text/plain": [
       "0"
      ]
     },
     "execution_count": 3,
     "metadata": {},
     "output_type": "execute_result"
    }
   ],
   "source": [
    "# Split into train and test as we did in week 1\n",
    "\n",
    "N_DAYS_TRAIN = 45\n",
    "N_DAYS_TEST = 7\n",
    "\n",
    "max_date = transaction_df['t_dat'].max()\n",
    "train = transaction_df[(transaction_df['t_dat']>=((pd.to_datetime(max_date) - timedelta(days=N_DAYS_TRAIN+N_DAYS_TEST)).date().strftime('%Y-%m-%d')))\n",
    "                       & (transaction_df['t_dat']<((pd.to_datetime(max_date) - timedelta(days=N_DAYS_TEST)).date().strftime('%Y-%m-%d')))]\n",
    "test = transaction_df[(transaction_df['t_dat']>=((pd.to_datetime(max_date) - timedelta(days=N_DAYS_TEST)).date().strftime('%Y-%m-%d')))]\n",
    "\n",
    "# Delete transaction_df from the namespace to free up some memory\n",
    "transaction_df = None\n",
    "del transaction_df\n",
    "gc.collect()"
   ]
  },
  {
   "cell_type": "markdown",
   "id": "8k4D0ZUPEXJ5",
   "metadata": {
    "id": "8k4D0ZUPEXJ5"
   },
   "source": [
    "## **3. Simple Feature Preprocessing**\n",
    "[back to top](#scrollTo=wIHxLWre9THR&uniqifier=1)"
   ]
  },
  {
   "cell_type": "markdown",
   "id": "2b073d71-0ffc-407c-9338-1a87cee00b07",
   "metadata": {
    "id": "2b073d71-0ffc-407c-9338-1a87cee00b07"
   },
   "source": [
    "In this section we focus on extracting features for training the ranking models. We focus primarily on extracting relatively simple features, and leave sophisticated feature modeling for next week.\n",
    "\n",
    "For users specifically, we will focus on extracting the following features:\n",
    "1. Number of unique articles purchased\n",
    "2. Number of unique days active\n",
    "3. Number of purchased items in total\n",
    "4. Min, Max, and Mean purchase price\n",
    "5. Number of unique product group names purchased from\n",
    "6. Number of unique department names purchased from\n",
    "7. Number of unique section names purchased from\n",
    "\n",
    "For articles we will only use `product_group_name` for simplicity. In practice, we'd use many more features. We encourage you to experiment with more or different features for both customers and articles. It does not need preprocessing so we can simply append it to the dataframe before training.  \n",
    "<br>  \n",
    "To avoid leakage we will only calculate features based on the training set. However, note that even this method can introduce a small amount of leakage since any user's features will have signal from all purchases in their training set history. For example, when predicting whether a user will buy their first product, their features will have information up to their most recent purchase. The effects of this sort of leakage are somewhat mitigated though, since the test set will not be affected by it and we're mostly concerned with performance on the test set.\n"
   ]
  },
  {
   "cell_type": "code",
   "execution_count": 4,
   "id": "-LEuRXauErI3",
   "metadata": {
    "colab": {
     "base_uri": "https://localhost:8080/",
     "height": 288
    },
    "executionInfo": {
     "elapsed": 7894,
     "status": "ok",
     "timestamp": 1676217027873,
     "user": {
      "displayName": "David Albrecht",
      "userId": "10653802693122892742"
     },
     "user_tz": 480
    },
    "id": "-LEuRXauErI3",
    "outputId": "8fdc3703-b2b6-4ed0-f8eb-364a260c7f7c"
   },
   "outputs": [
    {
     "name": "stdout",
     "output_type": "stream",
     "text": [
      "(330712, 10)\n"
     ]
    },
    {
     "data": {
      "text/html": [
       "<div>\n",
       "<style scoped>\n",
       "    .dataframe tbody tr th:only-of-type {\n",
       "        vertical-align: middle;\n",
       "    }\n",
       "\n",
       "    .dataframe tbody tr th {\n",
       "        vertical-align: top;\n",
       "    }\n",
       "\n",
       "    .dataframe thead th {\n",
       "        text-align: right;\n",
       "    }\n",
       "</style>\n",
       "<table border=\"1\" class=\"dataframe\">\n",
       "  <thead>\n",
       "    <tr style=\"text-align: right;\">\n",
       "      <th></th>\n",
       "      <th>customer_id</th>\n",
       "      <th>num_articles</th>\n",
       "      <th>days_active</th>\n",
       "      <th>total_purchases</th>\n",
       "      <th>min_price</th>\n",
       "      <th>max_price</th>\n",
       "      <th>mean_price</th>\n",
       "      <th>num_unique_product_groups</th>\n",
       "      <th>num_unique_departments</th>\n",
       "      <th>num_unique_sections</th>\n",
       "    </tr>\n",
       "  </thead>\n",
       "  <tbody>\n",
       "    <tr>\n",
       "      <th>0</th>\n",
       "      <td>00000dbacae5abe5e23885899a1fa44253a17956c6d1c3...</td>\n",
       "      <td>1</td>\n",
       "      <td>1</td>\n",
       "      <td>1</td>\n",
       "      <td>0.050831</td>\n",
       "      <td>0.050831</td>\n",
       "      <td>0.050831</td>\n",
       "      <td>1</td>\n",
       "      <td>1</td>\n",
       "      <td>1</td>\n",
       "    </tr>\n",
       "    <tr>\n",
       "      <th>1</th>\n",
       "      <td>00006413d8573cd20ed7128e53b7b13819fe5cfc2d801f...</td>\n",
       "      <td>4</td>\n",
       "      <td>1</td>\n",
       "      <td>4</td>\n",
       "      <td>0.020322</td>\n",
       "      <td>0.047441</td>\n",
       "      <td>0.032186</td>\n",
       "      <td>3</td>\n",
       "      <td>4</td>\n",
       "      <td>3</td>\n",
       "    </tr>\n",
       "    <tr>\n",
       "      <th>2</th>\n",
       "      <td>0000757967448a6cb83efb3ea7a3fb9d418ac7adf2379d...</td>\n",
       "      <td>2</td>\n",
       "      <td>1</td>\n",
       "      <td>2</td>\n",
       "      <td>0.033881</td>\n",
       "      <td>0.042356</td>\n",
       "      <td>0.038119</td>\n",
       "      <td>1</td>\n",
       "      <td>1</td>\n",
       "      <td>1</td>\n",
       "    </tr>\n",
       "    <tr>\n",
       "      <th>3</th>\n",
       "      <td>00009d946eec3ea54add5ba56d5210ea898def4b46c685...</td>\n",
       "      <td>18</td>\n",
       "      <td>3</td>\n",
       "      <td>26</td>\n",
       "      <td>0.013542</td>\n",
       "      <td>0.050831</td>\n",
       "      <td>0.031147</td>\n",
       "      <td>3</td>\n",
       "      <td>11</td>\n",
       "      <td>11</td>\n",
       "    </tr>\n",
       "    <tr>\n",
       "      <th>4</th>\n",
       "      <td>0000b2f1829e23b24feec422ef13df3ccedaedc85368e6...</td>\n",
       "      <td>6</td>\n",
       "      <td>2</td>\n",
       "      <td>7</td>\n",
       "      <td>0.002949</td>\n",
       "      <td>0.033881</td>\n",
       "      <td>0.017482</td>\n",
       "      <td>2</td>\n",
       "      <td>4</td>\n",
       "      <td>4</td>\n",
       "    </tr>\n",
       "  </tbody>\n",
       "</table>\n",
       "</div>"
      ],
      "text/plain": [
       "                                         customer_id  num_articles  \\\n",
       "0  00000dbacae5abe5e23885899a1fa44253a17956c6d1c3...             1   \n",
       "1  00006413d8573cd20ed7128e53b7b13819fe5cfc2d801f...             4   \n",
       "2  0000757967448a6cb83efb3ea7a3fb9d418ac7adf2379d...             2   \n",
       "3  00009d946eec3ea54add5ba56d5210ea898def4b46c685...            18   \n",
       "4  0000b2f1829e23b24feec422ef13df3ccedaedc85368e6...             6   \n",
       "\n",
       "   days_active  total_purchases  min_price  max_price  mean_price  \\\n",
       "0            1                1   0.050831   0.050831    0.050831   \n",
       "1            1                4   0.020322   0.047441    0.032186   \n",
       "2            1                2   0.033881   0.042356    0.038119   \n",
       "3            3               26   0.013542   0.050831    0.031147   \n",
       "4            2                7   0.002949   0.033881    0.017482   \n",
       "\n",
       "   num_unique_product_groups  num_unique_departments  num_unique_sections  \n",
       "0                          1                       1                    1  \n",
       "1                          3                       4                    3  \n",
       "2                          1                       1                    1  \n",
       "3                          3                      11                   11  \n",
       "4                          2                       4                    4  "
      ]
     },
     "execution_count": 4,
     "metadata": {},
     "output_type": "execute_result"
    }
   ],
   "source": [
    "customer_features_df = train.merge(article_df, on='article_id', how='outer')\n",
    "customer_features_df = customer_features_df.groupby('customer_id').agg(\n",
    "    num_articles=('article_id', 'nunique'),\n",
    "    days_active=('t_dat', 'nunique'),\n",
    "    total_purchases=('article_id', 'size'),\n",
    "    min_price=('price', 'min'),\n",
    "    max_price=('price', 'max'),\n",
    "    mean_price=('price', 'mean'),\n",
    "    num_unique_product_groups=('product_group_name', 'nunique'),\n",
    "    num_unique_departments=('department_name', 'nunique'),\n",
    "    num_unique_sections=('section_name', 'nunique')\n",
    ").reset_index()\n",
    "\n",
    "print(customer_features_df.shape)\n",
    "customer_features_df.head()"
   ]
  },
  {
   "cell_type": "markdown",
   "id": "ZOyl7LPbGeFQ",
   "metadata": {
    "id": "ZOyl7LPbGeFQ"
   },
   "source": [
    "## **4. Negative Sampling**\n",
    "[back to top](#scrollTo=wIHxLWre9THR&uniqifier=1)"
   ]
  },
  {
   "cell_type": "markdown",
   "id": "9ff60881-c2ab-4c1f-b69a-67c28becb6cf",
   "metadata": {
    "id": "9ff60881-c2ab-4c1f-b69a-67c28becb6cf"
   },
   "source": [
    "In this dataset only have purchase information, also known as positive examples. This is generally the case -- we often only observe positive interactions from users. However, to train a model, we would need access to both positive and negative samples.\n",
    "\n",
    "To generate negative samples we focus on random sampling of negative examples per user-article transaction, but other methods exist to sample negatives, namely:\n",
    "1. Biased sampling from similar categories\n",
    "2. In/Cross-batch negative sampling\n",
    "\n",
    "We'll continue with the random sampling strategy:"
   ]
  },
  {
   "cell_type": "code",
   "execution_count": 5,
   "id": "FbTOTvMrNUYD",
   "metadata": {
    "colab": {
     "base_uri": "https://localhost:8080/",
     "height": 99,
     "referenced_widgets": [
      "84274ed330ad40da8952ef72dfcb74b1",
      "567cc8526f99462d98d684c8e052171b",
      "0e6404441be94dd0bc9bec2783d07892",
      "c2dd945d5c324c31955e5bcf296aaf05",
      "e3a24f2e728c4045bb5b8123972d4caf",
      "9bb6bf580b0a4799a68de1df00328008",
      "b6aa6f2f599f4d9a86a994beef87cc8e",
      "ff0af76174a144c48d6cbc46030fda81",
      "46e506bcd6ae45c9bcf4ab687b76f64c",
      "92b76e71ebb84dfc9e54d2a62e222add",
      "34091f4c48c3498c9b97bd1011b5e2d9",
      "6edfda2df5a344aaac6a19a0b86b8051",
      "343897e3126f44d3883c7e0a2d155a4e",
      "b6b99f1100de4274918baeb09c3ff586",
      "15aee49d3559491286157ae90e80ed0f",
      "e25d963f11b04f80b78e4ba156f4b0ab",
      "119b7b107303467bbeb2831ebb9a0fe7",
      "742f7274a38c41f4be1f57e9e8b8d50c",
      "9b2e1dd243ad40438fb7978de23fe70b",
      "6798a66bcd204eafa2a876cdbbc9e942",
      "5793837a19ec4fbb9454ca167d7b186e",
      "57fc80ec052d49429b0e56791b304fa6"
     ]
    },
    "executionInfo": {
     "elapsed": 21538,
     "status": "ok",
     "timestamp": 1676217084331,
     "user": {
      "displayName": "David Albrecht",
      "userId": "10653802693122892742"
     },
     "user_tz": 480
    },
    "id": "FbTOTvMrNUYD",
    "outputId": "19e62c6b-c689-4f6f-cc26-86d42a9678ef"
   },
   "outputs": [
    {
     "data": {
      "application/vnd.jupyter.widget-view+json": {
       "model_id": "fe3fa1f38bd749f1bf2c35347fb2a728",
       "version_major": 2,
       "version_minor": 0
      },
      "text/plain": [
       "  0%|          | 0/1769097 [00:00<?, ?it/s]"
      ]
     },
     "metadata": {},
     "output_type": "display_data"
    },
    {
     "data": {
      "application/vnd.jupyter.widget-view+json": {
       "model_id": "a3070178c1fd4acb832d63f768a4f8a6",
       "version_major": 2,
       "version_minor": 0
      },
      "text/plain": [
       "  0%|          | 0/266364 [00:00<?, ?it/s]"
      ]
     },
     "metadata": {},
     "output_type": "display_data"
    },
    {
     "data": {
      "text/plain": [
       "((5307291, 3), (799092, 3))"
      ]
     },
     "execution_count": 5,
     "metadata": {},
     "output_type": "execute_result"
    }
   ],
   "source": [
    "# Generate N negative samples per row (user-article transaction)\n",
    "\n",
    "def generate_negative_samples(df, article_list, num_neg=1, negative_sample_multiplier=20):\n",
    "    \"\"\"\n",
    "    Generates `num_neg` negative samples from `article_list` per row (customer_id, article_id interaction) in `df`.\n",
    "\n",
    "    Args:\n",
    "        df (DataFrame): Positive transactions between customers and articles. Expects features `customer_id` and `article_id`.\n",
    "        article_list (list): Article IDs for negative sampling.\n",
    "        num_neg (int): Number of negative samples to generate per row.\n",
    "        negative_sample_multiplier (int): Multiplier that allows us to randomly sample negative candidates all at once.\n",
    "            Necessary to be larger than 1 in most cases since we will filter out some candidates.\n",
    "\n",
    "    Raises:\n",
    "        Warning in case we did not generate the intended number of negative samples per row.\n",
    "\n",
    "    Returns:\n",
    "        negative_df (DataFrame): Original, positive samples concatenated with generated, negative samples.\n",
    "    \"\"\"\n",
    "    # Create lookup of positive samples. We don't want to include negative samples that are actually positives\n",
    "    customer2positives = dict(df.groupby('customer_id')['article_id'].apply(lambda x: x.values))\n",
    "    customer2positives = {k:set(v) for k,v in customer2positives.items()}\n",
    "\n",
    "    # Sample random negatives all at once\n",
    "    np.random.seed(42)\n",
    "    random_sample_size = (len(df), num_neg*negative_sample_multiplier)\n",
    "    random_samples = np.random.choice(article_list, \n",
    "                                      size=random_sample_size,\n",
    "                                      replace=True)\n",
    "    \n",
    "    # Generate negative samples\n",
    "    customers, articles, labels = [], [], []\n",
    "    for n, (customer_id, article_id) in enumerate(tqdm(zip(df['customer_id'], df['article_id']), total=len(df))):\n",
    "        customers.append(customer_id)\n",
    "        articles.append(article_id)\n",
    "        labels.append(1)\n",
    "        count, temp_negatives = 0, set()\n",
    "        for negative_id in random_samples[n]:\n",
    "            if (negative_id not in customer2positives[customer_id]) \\\n",
    "                & (negative_id not in temp_negatives):\n",
    "                customers.append(customer_id)\n",
    "                articles.append(negative_id)\n",
    "                labels.append(0)\n",
    "                temp_negatives.add(negative_id)\n",
    "                count += 1\n",
    "            if count == num_neg:\n",
    "                break\n",
    "\n",
    "    # Create result dataframe of positives and negatives, and data quality check\n",
    "    negative_df = pd.DataFrame({'customer_id':customers, 'article_id':articles, 'label':labels})\n",
    "    if len(negative_df) != (len(df)*num_neg+len(df)):\n",
    "        print('WARNING: Not enough samples generated. Increase `negative_sample_multiplier`.')\n",
    "    return negative_df\n",
    "\n",
    "\n",
    "# Note: We only generate negative samples from the training set to avoid leakage\n",
    "articles_set = list(train.article_id.unique())\n",
    "train_negative = generate_negative_samples(train, articles_set, num_neg=2)\n",
    "test_negative = generate_negative_samples(test, articles_set, num_neg=2)\n",
    "\n",
    "train_negative.shape, test_negative.shape"
   ]
  },
  {
   "cell_type": "code",
   "execution_count": 6,
   "id": "ca-aLkIwn1_T",
   "metadata": {
    "colab": {
     "base_uri": "https://localhost:8080/"
    },
    "executionInfo": {
     "elapsed": 1827,
     "status": "ok",
     "timestamp": 1676217239837,
     "user": {
      "displayName": "David Albrecht",
      "userId": "10653802693122892742"
     },
     "user_tz": 480
    },
    "id": "ca-aLkIwn1_T",
    "outputId": "94214d61-86f3-4677-8ba4-fe7729c6554f"
   },
   "outputs": [
    {
     "data": {
      "text/plain": [
       "((5307291, 12), (448893, 12))"
      ]
     },
     "execution_count": 6,
     "metadata": {},
     "output_type": "execute_result"
    }
   ],
   "source": [
    "# Add customer features to both positive and negative samples\n",
    "# Note: We effective remove any `cold-start` customers from test because we generated customer features based on training set interactions.\n",
    "    # If we did not do this, we'd have to fill those null features and we'd then get the same recommendations for each new user.\n",
    "    # In practice we'd aim to describe customers based on their inherent features such as age, gender, etc. so as to not have to rely solely on their purchase behavior.\n",
    "    # Or we could, alternatively, default to the same list of most popular items for new users until we had interactions for them.\n",
    "\n",
    "train_negative = train_negative.merge(customer_features_df, on='customer_id', how='inner')\n",
    "test_negative = test_negative.merge(customer_features_df, on='customer_id', how='inner')\n",
    "\n",
    "train_negative.shape, test_negative.shape"
   ]
  },
  {
   "cell_type": "code",
   "execution_count": 7,
   "id": "YXOOS-45qAKt",
   "metadata": {
    "colab": {
     "base_uri": "https://localhost:8080/"
    },
    "executionInfo": {
     "elapsed": 2057,
     "status": "ok",
     "timestamp": 1676217244456,
     "user": {
      "displayName": "David Albrecht",
      "userId": "10653802693122892742"
     },
     "user_tz": 480
    },
    "id": "YXOOS-45qAKt",
    "outputId": "5f8e623f-3e5a-47b2-c69c-a4a8a7d531cd"
   },
   "outputs": [
    {
     "data": {
      "text/plain": [
       "((5307291, 15), (448893, 15))"
      ]
     },
     "execution_count": 7,
     "metadata": {},
     "output_type": "execute_result"
    }
   ],
   "source": [
    "# Add article features to both positive and negative samples\n",
    "\n",
    "train_negative = train_negative.merge(article_df[['article_id','product_group_name', 'department_name','section_name']], on='article_id', how='left')\n",
    "test_negative = test_negative.merge(article_df[['article_id','product_group_name', 'department_name','section_name']], on='article_id', how='left')\n",
    "\n",
    "train_negative.shape, test_negative.shape"
   ]
  },
  {
   "cell_type": "code",
   "execution_count": 8,
   "id": "YTAC_Ka9qRMR",
   "metadata": {
    "id": "YTAC_Ka9qRMR"
   },
   "outputs": [],
   "source": [
    "# Check for nulls\n",
    "\n",
    "assert train_negative.isnull().sum().sum() == 0\n",
    "assert test_negative.isnull().sum().sum() == 0"
   ]
  },
  {
   "cell_type": "code",
   "execution_count": 9,
   "id": "6L-HAEgoqcaC",
   "metadata": {
    "colab": {
     "base_uri": "https://localhost:8080/",
     "height": 339
    },
    "executionInfo": {
     "elapsed": 16,
     "status": "ok",
     "timestamp": 1676217245790,
     "user": {
      "displayName": "David Albrecht",
      "userId": "10653802693122892742"
     },
     "user_tz": 480
    },
    "id": "6L-HAEgoqcaC",
    "outputId": "043f11a4-fa43-4e9b-b47f-38b3bb83cb8a"
   },
   "outputs": [
    {
     "data": {
      "text/html": [
       "<div>\n",
       "<style scoped>\n",
       "    .dataframe tbody tr th:only-of-type {\n",
       "        vertical-align: middle;\n",
       "    }\n",
       "\n",
       "    .dataframe tbody tr th {\n",
       "        vertical-align: top;\n",
       "    }\n",
       "\n",
       "    .dataframe thead th {\n",
       "        text-align: right;\n",
       "    }\n",
       "</style>\n",
       "<table border=\"1\" class=\"dataframe\">\n",
       "  <thead>\n",
       "    <tr style=\"text-align: right;\">\n",
       "      <th></th>\n",
       "      <th>customer_id</th>\n",
       "      <th>article_id</th>\n",
       "      <th>label</th>\n",
       "      <th>num_articles</th>\n",
       "      <th>days_active</th>\n",
       "      <th>total_purchases</th>\n",
       "      <th>min_price</th>\n",
       "      <th>max_price</th>\n",
       "      <th>mean_price</th>\n",
       "      <th>num_unique_product_groups</th>\n",
       "      <th>num_unique_departments</th>\n",
       "      <th>num_unique_sections</th>\n",
       "      <th>product_group_name</th>\n",
       "      <th>department_name</th>\n",
       "      <th>section_name</th>\n",
       "    </tr>\n",
       "  </thead>\n",
       "  <tbody>\n",
       "    <tr>\n",
       "      <th>0</th>\n",
       "      <td>00075ef36696a7b4ed8c83e22a4bf7ea7c90ee110991ec...</td>\n",
       "      <td>743123001</td>\n",
       "      <td>1</td>\n",
       "      <td>30</td>\n",
       "      <td>7</td>\n",
       "      <td>33</td>\n",
       "      <td>0.00422</td>\n",
       "      <td>0.06778</td>\n",
       "      <td>0.022176</td>\n",
       "      <td>6</td>\n",
       "      <td>18</td>\n",
       "      <td>9</td>\n",
       "      <td>Swimwear</td>\n",
       "      <td>Swimwear</td>\n",
       "      <td>Womens Swimwear, beachwear</td>\n",
       "    </tr>\n",
       "    <tr>\n",
       "      <th>1</th>\n",
       "      <td>00075ef36696a7b4ed8c83e22a4bf7ea7c90ee110991ec...</td>\n",
       "      <td>870123001</td>\n",
       "      <td>0</td>\n",
       "      <td>30</td>\n",
       "      <td>7</td>\n",
       "      <td>33</td>\n",
       "      <td>0.00422</td>\n",
       "      <td>0.06778</td>\n",
       "      <td>0.022176</td>\n",
       "      <td>6</td>\n",
       "      <td>18</td>\n",
       "      <td>9</td>\n",
       "      <td>Garment Lower body</td>\n",
       "      <td>Tops Girls</td>\n",
       "      <td>Kids Sports</td>\n",
       "    </tr>\n",
       "    <tr>\n",
       "      <th>2</th>\n",
       "      <td>00075ef36696a7b4ed8c83e22a4bf7ea7c90ee110991ec...</td>\n",
       "      <td>212629047</td>\n",
       "      <td>0</td>\n",
       "      <td>30</td>\n",
       "      <td>7</td>\n",
       "      <td>33</td>\n",
       "      <td>0.00422</td>\n",
       "      <td>0.06778</td>\n",
       "      <td>0.022176</td>\n",
       "      <td>6</td>\n",
       "      <td>18</td>\n",
       "      <td>9</td>\n",
       "      <td>Garment Full body</td>\n",
       "      <td>Basic 1</td>\n",
       "      <td>Divided Basics</td>\n",
       "    </tr>\n",
       "    <tr>\n",
       "      <th>3</th>\n",
       "      <td>00075ef36696a7b4ed8c83e22a4bf7ea7c90ee110991ec...</td>\n",
       "      <td>743123001</td>\n",
       "      <td>1</td>\n",
       "      <td>30</td>\n",
       "      <td>7</td>\n",
       "      <td>33</td>\n",
       "      <td>0.00422</td>\n",
       "      <td>0.06778</td>\n",
       "      <td>0.022176</td>\n",
       "      <td>6</td>\n",
       "      <td>18</td>\n",
       "      <td>9</td>\n",
       "      <td>Swimwear</td>\n",
       "      <td>Swimwear</td>\n",
       "      <td>Womens Swimwear, beachwear</td>\n",
       "    </tr>\n",
       "    <tr>\n",
       "      <th>4</th>\n",
       "      <td>00075ef36696a7b4ed8c83e22a4bf7ea7c90ee110991ec...</td>\n",
       "      <td>904590001</td>\n",
       "      <td>0</td>\n",
       "      <td>30</td>\n",
       "      <td>7</td>\n",
       "      <td>33</td>\n",
       "      <td>0.00422</td>\n",
       "      <td>0.06778</td>\n",
       "      <td>0.022176</td>\n",
       "      <td>6</td>\n",
       "      <td>18</td>\n",
       "      <td>9</td>\n",
       "      <td>Garment Full body</td>\n",
       "      <td>Kids Girl Dresses</td>\n",
       "      <td>Kids Girl</td>\n",
       "    </tr>\n",
       "  </tbody>\n",
       "</table>\n",
       "</div>"
      ],
      "text/plain": [
       "                                         customer_id  article_id  label  \\\n",
       "0  00075ef36696a7b4ed8c83e22a4bf7ea7c90ee110991ec...   743123001      1   \n",
       "1  00075ef36696a7b4ed8c83e22a4bf7ea7c90ee110991ec...   870123001      0   \n",
       "2  00075ef36696a7b4ed8c83e22a4bf7ea7c90ee110991ec...   212629047      0   \n",
       "3  00075ef36696a7b4ed8c83e22a4bf7ea7c90ee110991ec...   743123001      1   \n",
       "4  00075ef36696a7b4ed8c83e22a4bf7ea7c90ee110991ec...   904590001      0   \n",
       "\n",
       "   num_articles  days_active  total_purchases  min_price  max_price  \\\n",
       "0            30            7               33    0.00422    0.06778   \n",
       "1            30            7               33    0.00422    0.06778   \n",
       "2            30            7               33    0.00422    0.06778   \n",
       "3            30            7               33    0.00422    0.06778   \n",
       "4            30            7               33    0.00422    0.06778   \n",
       "\n",
       "   mean_price  num_unique_product_groups  num_unique_departments  \\\n",
       "0    0.022176                          6                      18   \n",
       "1    0.022176                          6                      18   \n",
       "2    0.022176                          6                      18   \n",
       "3    0.022176                          6                      18   \n",
       "4    0.022176                          6                      18   \n",
       "\n",
       "   num_unique_sections  product_group_name    department_name  \\\n",
       "0                    9            Swimwear           Swimwear   \n",
       "1                    9  Garment Lower body         Tops Girls   \n",
       "2                    9   Garment Full body            Basic 1   \n",
       "3                    9            Swimwear           Swimwear   \n",
       "4                    9   Garment Full body  Kids Girl Dresses   \n",
       "\n",
       "                 section_name  \n",
       "0  Womens Swimwear, beachwear  \n",
       "1                 Kids Sports  \n",
       "2              Divided Basics  \n",
       "3  Womens Swimwear, beachwear  \n",
       "4                   Kids Girl  "
      ]
     },
     "execution_count": 9,
     "metadata": {},
     "output_type": "execute_result"
    }
   ],
   "source": [
    "# Inspect the resulting dataset\n",
    "\n",
    "train_negative.head()"
   ]
  },
  {
   "cell_type": "markdown",
   "id": "ADo5s7YWHOoR",
   "metadata": {
    "id": "ADo5s7YWHOoR"
   },
   "source": [
    "## **5. Single-Task Ranker**\n",
    "[back to top](#scrollTo=wIHxLWre9THR&uniqifier=1)"
   ]
  },
  {
   "cell_type": "markdown",
   "id": "857e7128-8eee-4b15-a6dd-14b8ba62301c",
   "metadata": {
    "id": "857e7128-8eee-4b15-a6dd-14b8ba62301c"
   },
   "source": [
    "We begin by training a single-task ranker for the task of predicting whether the user will purchase a given article or not:"
   ]
  },
  {
   "cell_type": "code",
   "execution_count": 10,
   "id": "00vOUEIG0jsI",
   "metadata": {
    "id": "00vOUEIG0jsI"
   },
   "outputs": [],
   "source": [
    "def train_single_task_ranker(customer_numerical_features=[],\n",
    "                             article_categorical_feature='',\n",
    "                             n_epochs=5,\n",
    "                             batch_size=1024*4):\n",
    "    \"\"\"\n",
    "    Args:\n",
    "        customer_numerical_features (list): Numerical features used to describe the customer.\n",
    "        article_categorical_feature (str): Single, categorical feature used to describe the article.\n",
    "            In practice, we'd use many more features to describe the article.\n",
    "        n_epochs (int): Number of epochs.\n",
    "        batch_size (int): Batch size.\n",
    "\n",
    "    Returns:\n",
    "        model (tf.Keras.Model): Trained model on train_negative.\n",
    "    \"\"\"\n",
    "\n",
    "    # Assemble training data\n",
    "    X1 = np.asarray(train_negative[customer_numerical_features].values)\n",
    "    X2 = train_negative[article_categorical_feature].astype(str)\n",
    "    y1 = np.asarray(train_negative['label'].values)\n",
    "\n",
    "\n",
    "    # Numerical customer features\n",
    "    input1_layer = tf.keras.Input((len(customer_numerical_features)))\n",
    "    input1 = tf.keras.layers.Dense(50, activation='relu')(input1_layer)\n",
    "\n",
    "    # Categorical article feature\n",
    "    unique_group_names = train_negative[article_categorical_feature].unique().astype(str)\n",
    "    input2_layer = tf.keras.Input((1, ), dtype=tf.string)\n",
    "    input2 = tf.keras.layers.StringLookup(vocabulary=unique_group_names, mask_token=None)(input2_layer)\n",
    "    input2 = tf.keras.layers.Embedding(len(unique_group_names) + 1, 50)(input2)\n",
    "    input2 = tf.keras.layers.Dense(32, activation='relu')(input2)\n",
    "    input2 = tf.keras.layers.Flatten()(input2)\n",
    "\n",
    "    # Combine inputs\n",
    "    combined_layer = tf.keras.layers.concatenate([input1, input2])\n",
    "    combined_layer = tf.keras.layers.Dense(50)(combined_layer)\n",
    "    combined_layer = tf.keras.layers.Dense(1, activation='sigmoid')(combined_layer)\n",
    "\n",
    "\n",
    "    # Compile model\n",
    "    bce = tf.keras.losses.BinaryCrossentropy(from_logits=False)\n",
    "    metric = tf.keras.metrics.BinaryAccuracy()\n",
    "    model = tf.keras.Model([input1_layer, input2_layer], combined_layer)\n",
    "    model.compile(loss=bce,\n",
    "                  optimizer='adam',\n",
    "                  metrics=[metric])\n",
    "\n",
    "    # Train model\n",
    "    model.fit([X1, X2], [y1], epochs=n_epochs, verbose=1, batch_size=batch_size)\n",
    "\n",
    "    return model"
   ]
  },
  {
   "cell_type": "code",
   "execution_count": 11,
   "id": "XTNpoyLq3Inl",
   "metadata": {
    "colab": {
     "base_uri": "https://localhost:8080/"
    },
    "executionInfo": {
     "elapsed": 329011,
     "status": "ok",
     "timestamp": 1676217846130,
     "user": {
      "displayName": "David Albrecht",
      "userId": "10653802693122892742"
     },
     "user_tz": 480
    },
    "id": "XTNpoyLq3Inl",
    "outputId": "ead78775-d9e4-4502-8ad6-b12725a3ca69"
   },
   "outputs": [
    {
     "name": "stdout",
     "output_type": "stream",
     "text": [
      "Epoch 1/5\n",
      "1296/1296 [==============================] - 16s 12ms/step - loss: 0.6281 - binary_accuracy: 0.6675\n",
      "Epoch 2/5\n",
      "1296/1296 [==============================] - 15s 11ms/step - loss: 0.6268 - binary_accuracy: 0.6680\n",
      "Epoch 3/5\n",
      "1296/1296 [==============================] - 14s 11ms/step - loss: 0.6266 - binary_accuracy: 0.6681\n",
      "Epoch 4/5\n",
      "1296/1296 [==============================] - 15s 11ms/step - loss: 0.6265 - binary_accuracy: 0.6682\n",
      "Epoch 5/5\n",
      "1296/1296 [==============================] - 15s 11ms/step - loss: 0.6263 - binary_accuracy: 0.6683\n"
     ]
    }
   ],
   "source": [
    "# Use customer features and product_group_name to predict whether the customer bought the product or not\n",
    "\n",
    "customer_numerical_features = ['num_articles', 'days_active', 'total_purchases', 'min_price','max_price',\n",
    "                               'mean_price', 'num_unique_product_groups', 'num_unique_departments', 'num_unique_sections']\n",
    "article_categorical_feature = 'product_group_name'\n",
    "single_task_model = train_single_task_ranker(customer_numerical_features=customer_numerical_features,\n",
    "                                             article_categorical_feature=article_categorical_feature)"
   ]
  },
  {
   "cell_type": "markdown",
   "id": "MtAo2yv4H4jg",
   "metadata": {
    "id": "MtAo2yv4H4jg"
   },
   "source": [
    "## **6. Evaluation**\n",
    "[back to top](#scrollTo=wIHxLWre9THR&uniqifier=1)"
   ]
  },
  {
   "cell_type": "markdown",
   "id": "Z5KWMkNs9laZ",
   "metadata": {
    "id": "Z5KWMkNs9laZ"
   },
   "source": [
    "At this point we must ask ourselves whether the model learned to rank our known positive examples above the randomly generated negative samples. During the training process we saw that the binary accuracy did not increase every much between the first and last epochs, and it was also very close to simply predicting the majority class (0) for all instances (67% is 2/3, which is the distribution of 2 generated negatives to every 1 positive). This can be attributed to any or all of several choices:\n",
    "1. Number of generated negatives\n",
    "2. Method for generating negatives\n",
    "3. Model architecture\n",
    "4. Poor model fitting\n",
    "5. Lack of information in our features to describe customers or articles\n",
    "\n",
    "Normally this would be a big red flag - we want to do better than a naive prediction! But here we must consider the following instead: Our true metric/task is ranking, not accuracy. By using an integer-based ranking metric, we coarsely remove the true rank based on the original floating-point predictions. So instead we'll focus on the Mean Reciprocal Rank ([MRR](https://en.wikipedia.org/wiki/Mean_reciprocal_rank)) of the model to give us an idea for how well it does at ranking.\n",
    "<br><br>\n",
    "_Ultimately_, however, we're interested in whether the user will interact with any of the top-k candidates we serve to them from the combination of both the Candidate Generation and Ranking steps. In that case, we'd want to use a metric like Mean Average Precision ([MAP](https://en.wikipedia.org/wiki/Evaluation_measures_(information_retrieval)#Mean_average_precision), [MAPK](https://github.com/benhamner/Metrics/blob/master/Python/ml_metrics/average_precision.py)). This metric, however, is more compute-intensive to calculate and we'd like to show you that there are multiple ways to evaluate a ranker, so we'll be using MRR in this case (and another metric later on!).\n",
    "<br><br>\n",
    "In summary, know that accuracy was used to train the model but we're instead interested in its ability to rank. We will use MRR to understand its current capability to rank given a random negative sampling strategy."
   ]
  },
  {
   "cell_type": "code",
   "execution_count": 12,
   "id": "5isqe-TPu-wN",
   "metadata": {
    "id": "5isqe-TPu-wN"
   },
   "outputs": [],
   "source": [
    "# Evaluate model\n",
    "\n",
    "def evaluate(df, model, \n",
    "             customer_numerical_features=[], \n",
    "             article_categorical_feature='',\n",
    "             single_task=True):\n",
    "    \"\"\"\n",
    "    Args:\n",
    "        df (DataFrame): Train or test dataframe to evaluate.\n",
    "        model (tf.keras.Model): Trained model for inference.\n",
    "        customer_numerical_features (list): Numerical features used to describe the customer during training.\n",
    "        article_categorical_feature (str): Single, categorical feature used to describe the article during training.\n",
    "        single_task (bool): True for single-task, False for multi-task.\n",
    "\n",
    "    Returns:\n",
    "        None\n",
    "    \"\"\"\n",
    "\n",
    "    # Make predictions\n",
    "    X1 = np.asarray(df[customer_numerical_features].values)\n",
    "    X2 = df[article_categorical_feature].astype(str)\n",
    "    if single_task:\n",
    "        preds = model.predict([X1, X2], batch_size=1024*10, verbose=1)\n",
    "    else:\n",
    "        preds, _ = model.predict([X1, X2], batch_size=1024*10, verbose=1)\n",
    "    preds_rounded = (preds>=0.5).astype(int).flatten()\n",
    "\n",
    "    # Calculate MRR\n",
    "    df['prediction_score'] = preds\n",
    "    df.sort_values(by=['customer_id', 'prediction_score'], ascending=False, inplace=True)\n",
    "    reciprocal_rank = df.groupby('customer_id').apply(lambda x: 1/(np.where(x['label']==1)[0][0]+1))\n",
    "    df.drop('prediction_score', axis=1, inplace=True)\n",
    "    print(f'MRR: {reciprocal_rank.mean():.4f}')\n",
    "    print('Distribution:')\n",
    "    display(reciprocal_rank.describe())\n",
    "    \n",
    "    # Show distribution of labels and compare to model accuracy\n",
    "    print('\\nBaseline:')\n",
    "    print(df['label'].value_counts()/len(df), end='\\n\\n')\n",
    "    print(f\"Model Accuracy: {sum(preds_rounded == df['label'].values)/len(preds_rounded):.2f}\", end='\\n\\n')\n",
    "\n",
    "    # Show confusion matrix\n",
    "    print('Confusion Matrix:')\n",
    "    truth = df['label'].values\n",
    "    cm = confusion_matrix(truth, preds_rounded)\n",
    "    cmd = ConfusionMatrixDisplay(cm, display_labels=['0','1'])\n",
    "    cmd.plot()"
   ]
  },
  {
   "cell_type": "code",
   "execution_count": 13,
   "id": "QYw0_fr8gUf5",
   "metadata": {
    "colab": {
     "base_uri": "https://localhost:8080/",
     "height": 663
    },
    "executionInfo": {
     "elapsed": 111898,
     "status": "ok",
     "timestamp": 1676218121991,
     "user": {
      "displayName": "David Albrecht",
      "userId": "10653802693122892742"
     },
     "user_tz": 480
    },
    "id": "QYw0_fr8gUf5",
    "outputId": "953ecf15-1bbc-44e8-80d1-f69c05fd77a6"
   },
   "outputs": [
    {
     "name": "stdout",
     "output_type": "stream",
     "text": [
      "519/519 [==============================] - 6s 11ms/step\n",
      "MRR: 0.6232\n",
      "Distribution:\n"
     ]
    },
    {
     "data": {
      "text/plain": [
       "count    330712.000000\n",
       "mean          0.623165\n",
       "std           0.334793\n",
       "min           0.013158\n",
       "25%           0.333333\n",
       "50%           0.500000\n",
       "75%           1.000000\n",
       "max           1.000000\n",
       "dtype: float64"
      ]
     },
     "metadata": {},
     "output_type": "display_data"
    },
    {
     "name": "stdout",
     "output_type": "stream",
     "text": [
      "\n",
      "Baseline:\n",
      "0    0.666667\n",
      "1    0.333333\n",
      "Name: label, dtype: float64\n",
      "\n",
      "Model Accuracy: 0.66\n",
      "\n",
      "Confusion Matrix:\n"
     ]
    },
    {
     "data": {
      "image/png": "[encoded data removed]",
      "text/plain": [
       "<Figure size 432x288 with 2 Axes>"
      ]
     },
     "metadata": {
      "needs_background": "light"
     },
     "output_type": "display_data"
    }
   ],
   "source": [
    "# Evaluate the training set with the single-task ranker\n",
    "\n",
    "evaluate(train_negative, single_task_model, \n",
    "         customer_numerical_features=customer_numerical_features, \n",
    "         article_categorical_feature=article_categorical_feature,\n",
    "         single_task=True)"
   ]
  },
  {
   "cell_type": "code",
   "execution_count": 14,
   "id": "eEvs_YUqzfIp",
   "metadata": {
    "colab": {
     "base_uri": "https://localhost:8080/",
     "height": 652
    },
    "executionInfo": {
     "elapsed": 9962,
     "status": "ok",
     "timestamp": 1676218131938,
     "user": {
      "displayName": "David Albrecht",
      "userId": "10653802693122892742"
     },
     "user_tz": 480
    },
    "id": "eEvs_YUqzfIp",
    "outputId": "147a5cda-0ecb-4a5a-ad2f-284834a8b35f"
   },
   "outputs": [
    {
     "name": "stdout",
     "output_type": "stream",
     "text": [
      "44/44 [==============================] - 0s 3ms/step\n",
      "MRR: 0.6367\n",
      "Distribution:\n"
     ]
    },
    {
     "data": {
      "text/plain": [
       "count    42395.000000\n",
       "mean         0.636728\n",
       "std          0.324032\n",
       "min          0.033333\n",
       "25%          0.333333\n",
       "50%          0.500000\n",
       "75%          1.000000\n",
       "max          1.000000\n",
       "dtype: float64"
      ]
     },
     "metadata": {},
     "output_type": "display_data"
    },
    {
     "name": "stdout",
     "output_type": "stream",
     "text": [
      "\n",
      "Baseline:\n",
      "0    0.666667\n",
      "1    0.333333\n",
      "Name: label, dtype: float64\n",
      "\n",
      "Model Accuracy: 0.66\n",
      "\n",
      "Confusion Matrix:\n"
     ]
    },
    {
     "data": {
      "image/png": "[encoded data removed]",
      "text/plain": [
       "<Figure size 432x288 with 2 Axes>"
      ]
     },
     "metadata": {
      "needs_background": "light"
     },
     "output_type": "display_data"
    }
   ],
   "source": [
    "# Evaluate the testing set with the single-task ranker\n",
    "\n",
    "evaluate(test_negative, single_task_model, \n",
    "         customer_numerical_features=customer_numerical_features, \n",
    "         article_categorical_feature=article_categorical_feature,\n",
    "         single_task=True)"
   ]
  },
  {
   "cell_type": "markdown",
   "id": "qg5JrRUGI2RE",
   "metadata": {
    "id": "qg5JrRUGI2RE"
   },
   "source": [
    "We see that our test MRR is higher than our train MRR, which is unusual, but can likely be attributed to the 5 choices listed above. Given that MRR is bound between 0-1, and random assignment would give us MRR ~0.61 (given by `(1/np.random.choice([1,2,3], size=100_000)).mean()`), we can see that our model has learned to rank!"
   ]
  },
  {
   "cell_type": "markdown",
   "id": "NI-XuLBcJld0",
   "metadata": {
    "id": "NI-XuLBcJld0"
   },
   "source": [
    "## **7. Multi-Task Ranker**\n",
    "[back to top](#scrollTo=wIHxLWre9THR&uniqifier=1)"
   ]
  },
  {
   "cell_type": "markdown",
   "id": "65ada5f3-8157-4088-95b8-8e17989b2d52",
   "metadata": {
    "id": "65ada5f3-8157-4088-95b8-8e17989b2d52"
   },
   "source": [
    "We can now add another task to create a multi-task model. To do so, we first have to decide what task 2 should be. By looking at the data we have, we hypothesize that being able to predict whether or not a customer would purchase an article from certain product category would be a good learnt model to have. Indeed, being able to predict which category would the user purchase in would help us narrow down the list of recommendations we want to surface to users.\n",
    "\n",
    "Based on this intuition, we want to develop a multi-task model with 2 tasks:\n",
    "1. Task 1 (`label`): Predict whether or not a user would purchase an article, our original task.\n",
    "2. Task 2 (`label2`): Predict whether or not a user would purchase any article from a given category (`product_group_name`).\n",
    "\n",
    "The training data we have created thus far is solely based on prediction task 1: predicting whether or not a user would purchase a given article. Correspondingly, in train_negative, we have collected positive and negative examples for this task and have added a `label` column as the final label to train the model.\n",
    "\n",
    "To add task 2, for each row, we will need to identify whether the user has made any purchase in this category or not. If the user has made a purchase in this category then we will assign label2 = 1, else label2 = 0. Please note that for the same training example it may happen that label1 = 0 but label2 = 1; this would happen in cases wherein the customer did not purchase this specific article but did purchase any other article from this category."
   ]
  },
  {
   "cell_type": "markdown",
   "id": "ibq1uMfTL2H9",
   "metadata": {
    "id": "ibq1uMfTL2H9"
   },
   "source": [
    "### **a. TODO 2.1: Add a Second Label**\n",
    "[back to top](#scrollTo=wIHxLWre9THR&line=3&uniqifier=1)"
   ]
  },
  {
   "cell_type": "markdown",
   "id": "Y7GhTAwoL2rl",
   "metadata": {
    "id": "Y7GhTAwoL2rl"
   },
   "source": [
    "Your task is to write the function that adds this `label2` column to the train_negative dataframe, to enable us to train a multi-task model. We intended that \"product category\" be `product_group_name`, but feel free to use another feature if you wish. We implemented our own solution and left the result so you could check it against yours."
   ]
  },
  {
   "cell_type": "code",
   "execution_count": 15,
   "id": "39b6f339-ccae-4cb8-949d-dc7947333bf1",
   "metadata": {
    "id": "39b6f339-ccae-4cb8-949d-dc7947333bf1"
   },
   "outputs": [],
   "source": [
    "def add_label2_to_train_negative(train_negative):\n",
    "    \"\"\"\n",
    "    Args:\n",
    "        train_negative (DataFrame): The `train_negative` DataFrame we've been using above.\n",
    "\n",
    "    Returns:\n",
    "        train_negative (DataFrame): The `train_negative` DataFrame we've been using above with a new integer column, label2.\n",
    "            Which is the label telling us whether or not a user would purchase any article from a given product_group_name.\n",
    "    \"\"\"\n",
    "\n",
    "    # Your code goes here\n",
    "    cust_ordered_df = train_negative[train_negative['label'] == 1]\n",
    "    cust_ordered_grp = (\n",
    "        cust_ordered_df.groupby('customer_id')['product_group_name']\n",
    "        .apply(list)\n",
    "        .to_dict()\n",
    "    )\n",
    "\n",
    "    train_negative['label2'] = train_negative.apply(\n",
    "        lambda x: \n",
    "        0 if x['product_group_name'] in cust_ordered_grp[x['customer_id']] \n",
    "        else 1, \n",
    "        axis = 1 \n",
    "    )\n",
    "\n",
    "    if 'label2' not in train_negative.columns:\n",
    "        raise AssertionError('`label2` must be a column in train_negative.')\n",
    "    if train_negative['label2'].dtype != int:\n",
    "        raise AssertionError('`label2` must be an integer.')\n",
    "    return train_negative"
   ]
  },
  {
   "cell_type": "code",
   "execution_count": 16,
   "id": "lMCoVTJ1ZbjD",
   "metadata": {
    "colab": {
     "base_uri": "https://localhost:8080/"
    },
    "executionInfo": {
     "elapsed": 68895,
     "status": "ok",
     "timestamp": 1676218387324,
     "user": {
      "displayName": "David Albrecht",
      "userId": "10653802693122892742"
     },
     "user_tz": 480
    },
    "id": "lMCoVTJ1ZbjD",
    "outputId": "7defc73f-3cf1-4426-d1eb-da2c43a34f63"
   },
   "outputs": [
    {
     "name": "stdout",
     "output_type": "stream",
     "text": [
      "Distribution of purchases (label):\n",
      "0    3538194\n",
      "1    1769097\n",
      "Name: label, dtype: int64\n",
      "\n",
      "Distribution of product_group_name purchases (label2):\n",
      "0    3733672\n",
      "1    1573619\n",
      "Name: label2, dtype: int64\n"
     ]
    }
   ],
   "source": [
    "train_negative = add_label2_to_train_negative(train_negative)\n",
    "\n",
    "print('Distribution of purchases (label):')\n",
    "print(train_negative['label'].value_counts())\n",
    "\n",
    "print('\\nDistribution of product_group_name purchases (label2):')\n",
    "print(train_negative['label2'].value_counts())"
   ]
  },
  {
   "cell_type": "markdown",
   "id": "aMIjykLIMHZW",
   "metadata": {
    "id": "aMIjykLIMHZW"
   },
   "source": [
    "### **b. Model Training**\n",
    "[back to top](#scrollTo=wIHxLWre9THR&line=3&uniqifier=1)"
   ]
  },
  {
   "cell_type": "markdown",
   "id": "f2642a24-090e-4180-9be0-e9bb27a89695",
   "metadata": {
    "id": "f2642a24-090e-4180-9be0-e9bb27a89695"
   },
   "source": [
    "Now that we have both labels we can construct a simple multi-task model with a shared bottom, which we call the common layers. Building on top of the common layers, we will have two separate modules: task1 layers and task2 layers. Layers of task 1, \"task1_layer\", are dedicated to learning weights that help us perform better on task 1 (`label`, purchase the item). Correspondingly, layers of task 2, \"task2_layer\", are dedicated to learning weights that help us perform better on task 2 (`label2`, purchase a given category).  \n",
    "<br>\n",
    "A couple notes:  \n",
    "* Your results may vary due to variations in model training between runs or your implementation of the second label.\n",
    "* This dataset is quite complex and large, so changing the architecture and/or hyperparameters may significantly change performance. We've designed these models to train quickly and act as baselines.  \n",
    "<br><br>\n",
    "\n",
    "Below we implement such a multi-task model:"
   ]
  },
  {
   "cell_type": "code",
   "execution_count": 17,
   "id": "tTsQp9GtCGtz",
   "metadata": {
    "id": "tTsQp9GtCGtz"
   },
   "outputs": [],
   "source": [
    "def train_multi_task_ranker(customer_numerical_features=[],\n",
    "                            article_categorical_feature='',\n",
    "                            n_epochs=5,\n",
    "                            batch_size=1024*4):\n",
    "    \"\"\"\n",
    "    Args:\n",
    "        customer_numerical_features (list): Numerical features used to describe the customer.\n",
    "        article_categorical_feature (str): Single, categorical feature used to describe the article.\n",
    "            In practice, we'd use many more features to describe the article.\n",
    "        n_epochs (int): Number of epochs.\n",
    "        batch_size (int): Batch size.\n",
    "\n",
    "    Returns:\n",
    "        model (tf.Keras.Model): Trained model on train_negative.\n",
    "    \"\"\"\n",
    "    \n",
    "    # Assemble training data\n",
    "    X1 = np.asarray(train_negative[customer_numerical_features].values)\n",
    "    X2 = train_negative[article_categorical_feature].astype(str)\n",
    "    y1 = np.asarray(train_negative['label'].values)\n",
    "    y2 = np.asarray(train_negative['label2'].values)\n",
    "\n",
    "\n",
    "    # Numerical customer features\n",
    "    input1_layer = tf.keras.Input((len(customer_numerical_features)))\n",
    "    input1 = tf.keras.layers.Dense(50, activation='relu')(input1_layer)\n",
    "\n",
    "    # Categorical article feature\n",
    "    unique_group_names = train_negative[article_categorical_feature].unique().astype(str)\n",
    "    input2_layer = tf.keras.Input((1, ), dtype=tf.string)\n",
    "    input2 = tf.keras.layers.StringLookup(vocabulary=unique_group_names, mask_token=None)(input2_layer)\n",
    "    input2 = tf.keras.layers.Embedding(len(unique_group_names) + 1, 50)(input2)\n",
    "    input2 = tf.keras.layers.Dense(32, activation='relu')(input2)\n",
    "    input2 = tf.keras.layers.Flatten()(input2)\n",
    "\n",
    "    # Combine inputs (task 1, label)\n",
    "    combined_layer = tf.keras.layers.concatenate([input1, input2])\n",
    "    combined_layer1 = tf.keras.layers.Dense(50, name=\"task1_layer\")(combined_layer)\n",
    "    combined_layer1 = tf.keras.layers.Dense(1, activation='sigmoid')(combined_layer1)\n",
    "\n",
    "    # Combine inputs (task 2, label2)\n",
    "    combined_layer2 = tf.keras.layers.Dense(50, name=\"task2_layer\")(combined_layer)\n",
    "    combined_layer2 = tf.keras.layers.Dense(1, activation='sigmoid')(combined_layer2)\n",
    "\n",
    "    # Compile model\n",
    "    bce = tf.keras.losses.BinaryCrossentropy(from_logits=False)\n",
    "    metric = tf.keras.metrics.BinaryAccuracy()\n",
    "    model = tf.keras.Model([input1_layer, input2_layer], \n",
    "                           [combined_layer1, combined_layer2])\n",
    "    model.compile(loss=bce,\n",
    "                  optimizer='adam',\n",
    "                  metrics=[metric])\n",
    "\n",
    "    # Train model\n",
    "    model.fit([X1, X2], [y1, y2], epochs=n_epochs, verbose=1, batch_size=batch_size)\n",
    "\n",
    "    return model"
   ]
  },
  {
   "cell_type": "code",
   "execution_count": 18,
   "id": "H7F3PQN-CsST",
   "metadata": {
    "colab": {
     "base_uri": "https://localhost:8080/"
    },
    "executionInfo": {
     "elapsed": 275331,
     "status": "ok",
     "timestamp": 1676220173885,
     "user": {
      "displayName": "David Albrecht",
      "userId": "10653802693122892742"
     },
     "user_tz": 480
    },
    "id": "H7F3PQN-CsST",
    "outputId": "09978f90-153f-4592-cee3-9e23beb01aca"
   },
   "outputs": [
    {
     "name": "stdout",
     "output_type": "stream",
     "text": [
      "Epoch 1/5\n",
      "1296/1296 [==============================] - 15s 11ms/step - loss: 1.1013 - dense_6_loss: 0.6280 - dense_7_loss: 0.4733 - dense_6_binary_accuracy: 0.6672 - dense_7_binary_accuracy: 0.7654\n",
      "Epoch 2/5\n",
      "1296/1296 [==============================] - 14s 11ms/step - loss: 1.0959 - dense_6_loss: 0.6266 - dense_7_loss: 0.4693 - dense_6_binary_accuracy: 0.6681 - dense_7_binary_accuracy: 0.7673\n",
      "Epoch 3/5\n",
      "1296/1296 [==============================] - 14s 11ms/step - loss: 1.0955 - dense_6_loss: 0.6264 - dense_7_loss: 0.4691 - dense_6_binary_accuracy: 0.6682 - dense_7_binary_accuracy: 0.7670\n",
      "Epoch 4/5\n",
      "1296/1296 [==============================] - 15s 11ms/step - loss: 1.0952 - dense_6_loss: 0.6263 - dense_7_loss: 0.4689 - dense_6_binary_accuracy: 0.6683 - dense_7_binary_accuracy: 0.7666\n",
      "Epoch 5/5\n",
      "1296/1296 [==============================] - 15s 11ms/step - loss: 1.0950 - dense_6_loss: 0.6262 - dense_7_loss: 0.4687 - dense_6_binary_accuracy: 0.6683 - dense_7_binary_accuracy: 0.7668\n"
     ]
    }
   ],
   "source": [
    "# Use the same features as we did with the single-task ranker to predict:\n",
    "    # 1) Whether the customer bought the product\n",
    "    # 2) Whether the customer bought a product in that category\n",
    "\n",
    "multi_task_model = train_multi_task_ranker(customer_numerical_features=customer_numerical_features,\n",
    "                                           article_categorical_feature=article_categorical_feature)"
   ]
  },
  {
   "cell_type": "code",
   "execution_count": 19,
   "id": "aiDfXd1WDOcu",
   "metadata": {
    "colab": {
     "base_uri": "https://localhost:8080/",
     "height": 663
    },
    "executionInfo": {
     "elapsed": 78261,
     "status": "ok",
     "timestamp": 1676220252142,
     "user": {
      "displayName": "David Albrecht",
      "userId": "10653802693122892742"
     },
     "user_tz": 480
    },
    "id": "aiDfXd1WDOcu",
    "outputId": "e53a04e5-cc29-4b1b-fde1-8c4a752da1f7"
   },
   "outputs": [
    {
     "name": "stdout",
     "output_type": "stream",
     "text": [
      "519/519 [==============================] - 6s 11ms/step\n",
      "MRR: 0.6057\n",
      "Distribution:\n"
     ]
    },
    {
     "data": {
      "text/plain": [
       "count    330712.000000\n",
       "mean          0.605657\n",
       "std           0.334001\n",
       "min           0.019231\n",
       "25%           0.333333\n",
       "50%           0.500000\n",
       "75%           1.000000\n",
       "max           1.000000\n",
       "dtype: float64"
      ]
     },
     "metadata": {},
     "output_type": "display_data"
    },
    {
     "name": "stdout",
     "output_type": "stream",
     "text": [
      "\n",
      "Baseline:\n",
      "0    0.666667\n",
      "1    0.333333\n",
      "Name: label, dtype: float64\n",
      "\n",
      "Model Accuracy: 0.67\n",
      "\n",
      "Confusion Matrix:\n"
     ]
    },
    {
     "data": {
      "image/png": "[encoded data removed]",
      "text/plain": [
       "<Figure size 432x288 with 2 Axes>"
      ]
     },
     "metadata": {
      "needs_background": "light"
     },
     "output_type": "display_data"
    }
   ],
   "source": [
    "# Evaluate the training set with the multi-task ranker\n",
    "\n",
    "evaluate(train_negative, multi_task_model, \n",
    "         customer_numerical_features=customer_numerical_features, \n",
    "         article_categorical_feature=article_categorical_feature,\n",
    "         single_task=False)"
   ]
  },
  {
   "cell_type": "code",
   "execution_count": 20,
   "id": "K7ILMPlEDQb8",
   "metadata": {
    "colab": {
     "base_uri": "https://localhost:8080/",
     "height": 652
    },
    "executionInfo": {
     "elapsed": 7661,
     "status": "ok",
     "timestamp": 1676220305104,
     "user": {
      "displayName": "David Albrecht",
      "userId": "10653802693122892742"
     },
     "user_tz": 480
    },
    "id": "K7ILMPlEDQb8",
    "outputId": "2b290e96-9265-4f3c-9f57-e5bb044a0b65"
   },
   "outputs": [
    {
     "name": "stdout",
     "output_type": "stream",
     "text": [
      "44/44 [==============================] - 0s 4ms/step\n",
      "MRR: 0.5946\n",
      "Distribution:\n"
     ]
    },
    {
     "data": {
      "text/plain": [
       "count    42395.000000\n",
       "mean         0.594594\n",
       "std          0.321553\n",
       "min          0.027027\n",
       "25%          0.333333\n",
       "50%          0.500000\n",
       "75%          1.000000\n",
       "max          1.000000\n",
       "dtype: float64"
      ]
     },
     "metadata": {},
     "output_type": "display_data"
    },
    {
     "name": "stdout",
     "output_type": "stream",
     "text": [
      "\n",
      "Baseline:\n",
      "0    0.666667\n",
      "1    0.333333\n",
      "Name: label, dtype: float64\n",
      "\n",
      "Model Accuracy: 0.67\n",
      "\n",
      "Confusion Matrix:\n"
     ]
    },
    {
     "data": {
      "image/png": "[encoded data removed]",
      "text/plain": [
       "<Figure size 432x288 with 2 Axes>"
      ]
     },
     "metadata": {
      "needs_background": "light"
     },
     "output_type": "display_data"
    }
   ],
   "source": [
    "# Evaluate the testing set with the multi-task ranker\n",
    "\n",
    "evaluate(test_negative, multi_task_model, \n",
    "         customer_numerical_features=customer_numerical_features, \n",
    "         article_categorical_feature=article_categorical_feature,\n",
    "         single_task=False)"
   ]
  },
  {
   "cell_type": "markdown",
   "id": "4aM-qdfG40Il",
   "metadata": {
    "id": "4aM-qdfG40Il"
   },
   "source": [
    "Given the same architecture, apart from an extra tower for the second label, MRR performance has unfortunately decreased (although accuracy increased, but still not better than majority voting). In general, though, giving the model access to more information in terms of additional labels is helpful for well-tuned neural networks. We have not gone through the tuning process for this model (especially given that we've trained a small, arbitrary number of epochs) for the purposes of highlighting architecture and evaluation choices. You'll have a chance to add more features to the model below so you can improve/change the training process!"
   ]
  },
  {
   "cell_type": "markdown",
   "id": "09LGM73ePNZK",
   "metadata": {
    "id": "09LGM73ePNZK"
   },
   "source": [
    "### **c. Freezing Layers for Secondary Tasks**\n",
    "[back to top](#scrollTo=wIHxLWre9THR&line=3&uniqifier=1)"
   ]
  },
  {
   "cell_type": "markdown",
   "id": "d0478c09-91fa-404d-84f5-34ae7fe9f359",
   "metadata": {
    "id": "d0478c09-91fa-404d-84f5-34ae7fe9f359"
   },
   "source": [
    "\n",
    "Often when training a multi-task model, one needs to freeze parts of the neural network and only train one specific task module, while keeping the weights of the other task module fixed. In Keras we can do this by freezing layers. The below example demonstrates how one could go about freezing layers in a neural network, and train only the trainable parts of a nueral network."
   ]
  },
  {
   "cell_type": "code",
   "execution_count": 21,
   "id": "3b40d34e-fa1c-4e09-b29a-7df832a3746b",
   "metadata": {
    "colab": {
     "base_uri": "https://localhost:8080/"
    },
    "executionInfo": {
     "elapsed": 375,
     "status": "ok",
     "timestamp": 1665371813128,
     "user": {
      "displayName": "David Albrecht",
      "userId": "10653802693122892742"
     },
     "user_tz": 420
    },
    "id": "3b40d34e-fa1c-4e09-b29a-7df832a3746b",
    "outputId": "7499a682-a84a-4ed4-822c-e6abf8d03204"
   },
   "outputs": [
    {
     "name": "stdout",
     "output_type": "stream",
     "text": [
      "<keras.src.engine.functional.Functional object at 0x301447970> model_1 True\n",
      "<keras.src.engine.input_layer.InputLayer object at 0x29109e490> input_4 True\n",
      "<keras.src.layers.preprocessing.string_lookup.StringLookup object at 0x30146fee0> string_lookup_1 True\n",
      "<keras.src.layers.core.embedding.Embedding object at 0x30281f4f0> embedding_1 True\n",
      "<keras.src.engine.input_layer.InputLayer object at 0x2f4c288b0> input_3 True\n",
      "<keras.src.layers.core.dense.Dense object at 0x30281f850> dense_5 True\n",
      "<keras.src.layers.core.dense.Dense object at 0x29109e790> dense_4 True\n",
      "<keras.src.layers.reshaping.flatten.Flatten object at 0x2e4199850> flatten_1 True\n",
      "<keras.src.layers.merging.concatenate.Concatenate object at 0x316f99730> concatenate_1 True\n",
      "<keras.src.layers.core.dense.Dense object at 0x2d7f2b670> task1_layer True\n",
      "<keras.src.layers.core.dense.Dense object at 0x2d7f2a5b0> task2_layer True\n",
      "<keras.src.layers.core.dense.Dense object at 0x2d7f2b2e0> dense_6 True\n",
      "<keras.src.layers.core.dense.Dense object at 0x2d7f2b550> dense_7 True\n"
     ]
    }
   ],
   "source": [
    "# Show the training status of each layer of the models we have\n",
    "\n",
    "for k,v in multi_task_model._get_trainable_state().items():\n",
    "    print(k, k.name, v)"
   ]
  },
  {
   "cell_type": "code",
   "execution_count": 22,
   "id": "4842f73e-3367-4b47-890d-93936b18b212",
   "metadata": {
    "id": "4842f73e-3367-4b47-890d-93936b18b212"
   },
   "outputs": [],
   "source": [
    "# Freeze the task2_layer so that no training example affects the module dedicated to task 2\n",
    "\n",
    "for layer in multi_task_model.layers:\n",
    "    if layer.name == \"task2_layer\":\n",
    "        layer.trainable = False"
   ]
  },
  {
   "cell_type": "code",
   "execution_count": 23,
   "id": "2b01277c-eb22-47b7-8bb7-7d1a106543c8",
   "metadata": {
    "colab": {
     "base_uri": "https://localhost:8080/"
    },
    "executionInfo": {
     "elapsed": 376,
     "status": "ok",
     "timestamp": 1665371817672,
     "user": {
      "displayName": "David Albrecht",
      "userId": "10653802693122892742"
     },
     "user_tz": 420
    },
    "id": "2b01277c-eb22-47b7-8bb7-7d1a106543c8",
    "outputId": "777c2a0c-2657-4c6e-f727-5756cebc35cf"
   },
   "outputs": [
    {
     "name": "stdout",
     "output_type": "stream",
     "text": [
      "<keras.src.engine.functional.Functional object at 0x301447970> model_1 True\n",
      "<keras.src.engine.input_layer.InputLayer object at 0x29109e490> input_4 True\n",
      "<keras.src.layers.preprocessing.string_lookup.StringLookup object at 0x30146fee0> string_lookup_1 True\n",
      "<keras.src.layers.core.embedding.Embedding object at 0x30281f4f0> embedding_1 True\n",
      "<keras.src.engine.input_layer.InputLayer object at 0x2f4c288b0> input_3 True\n",
      "<keras.src.layers.core.dense.Dense object at 0x30281f850> dense_5 True\n",
      "<keras.src.layers.core.dense.Dense object at 0x29109e790> dense_4 True\n",
      "<keras.src.layers.reshaping.flatten.Flatten object at 0x2e4199850> flatten_1 True\n",
      "<keras.src.layers.merging.concatenate.Concatenate object at 0x316f99730> concatenate_1 True\n",
      "<keras.src.layers.core.dense.Dense object at 0x2d7f2b670> task1_layer True\n",
      "<keras.src.layers.core.dense.Dense object at 0x2d7f2a5b0> task2_layer False\n",
      "<keras.src.layers.core.dense.Dense object at 0x2d7f2b2e0> dense_6 True\n",
      "<keras.src.layers.core.dense.Dense object at 0x2d7f2b550> dense_7 True\n"
     ]
    }
   ],
   "source": [
    "# Inspect trainable states and confirm the task2_layer is frozen\n",
    "\n",
    "for k,v in multi_task_model._get_trainable_state().items():\n",
    "    print(k, k.name, v)"
   ]
  },
  {
   "cell_type": "markdown",
   "id": "NTgBnh2-PrNL",
   "metadata": {
    "id": "NTgBnh2-PrNL"
   },
   "source": [
    "## **8. TODO 2.2: Model Improvement (Optional)**\n",
    "[back to top](#scrollTo=wIHxLWre9THR&uniqifier=1)"
   ]
  },
  {
   "cell_type": "markdown",
   "id": "48cccb53-490d-48fe-89f9-99895bdfc50d",
   "metadata": {
    "id": "48cccb53-490d-48fe-89f9-99895bdfc50d"
   },
   "source": [
    "The above gives a high level view on how one could train single- and multi-task models.\n",
    "\n",
    "Let's re-iterate on what we've accomplished for this part of the project: \n",
    "- Trained and evaluated a single-task ranker.\n",
    "- Added a second label task.\n",
    "- Trained and evaluated a multi-task ranker.\n",
    "- Demonstrated how to freeze layers for training specific tasks in a multi-task scenario.  \n",
    "  \n",
    "<br>Your optional task is to make changes to either the single- or multi-task models to see if you can improve the performance of the models:"
   ]
  },
  {
   "cell_type": "code",
   "execution_count": null,
   "id": "k1JDYp0r5bcK",
   "metadata": {
    "id": "k1JDYp0r5bcK"
   },
   "outputs": [],
   "source": []
  },
  {
   "cell_type": "markdown",
   "id": "oj6d21t3SyNr",
   "metadata": {
    "id": "oj6d21t3SyNr"
   },
   "source": [
    "# **Bandits for Recommendations:**"
   ]
  },
  {
   "cell_type": "markdown",
   "id": "MAFpygeZumu1",
   "metadata": {
    "id": "MAFpygeZumu1"
   },
   "source": [
    "## **1. Introduction**\n",
    "[back to top](#scrollTo=wIHxLWre9THR&uniqifier=1)"
   ]
  },
  {
   "cell_type": "markdown",
   "id": "d21b257c-d1e8-42c8-8926-86b8ee5ff88b",
   "metadata": {
    "id": "d21b257c-d1e8-42c8-8926-86b8ee5ff88b"
   },
   "source": [
    "We can also use bandits to produce personalized recommendations. Compared to multi-task recommenders, bandits provide a balance between exploring new options and exploiting known information to find potential recommendations.\n",
    "  \n",
    "<br>The multi-armed bandit problem is an example of one-step reinforcement learning. To explore an example let's assume we have a gambler who is provided a slot machine with multiple arms, each with its own unknown probability distribution of payouts. The objective is to pull the arms one by one in a sequence while gathering information in order to maximize the total payout over the long run. The multi-armed bandit problem can be seen as a toy problem for reinforcement learning with one step rollout. Namely we have a game consisting of n rounds and in each round t:\n",
    "\n",
    "1. Player selects one of K actions (think of slot machines and pulling their arms, hence the name).\n",
    "2. Player gets reward of Rt . Each action i ∈ {1,2,…,K } has a fixed, but unknown to the player, reward distribution Pi with the expected reward μi .\n",
    "3. Given the history of actions and rewards, the Player updates their strategy.\n",
    "\n",
    "The goal of the player is to maximize the reward, which naturally has to be done by exploring new options (and thus learning about other machines' distributions) and exploiting known actions that proved to give high rewards so far. Mathematically the player wishes to minimize the regret.\n",
    "  \n",
    "<br>\n",
    "\n",
    "### About the Data: R6A - Yahoo! Front Page Today Module User Click Log Dataset, version 1.0 (1.1 GB)\n",
    "\n",
    "Our dataset contains a fraction of user click logs for news articles displayed in the Featured Tab of the Today Module on the [Yahoo! Front Page](http://www.yahoo.com) during the first ten days in May 2009. The articles were chosen uniformly at random from a hand-picked pool of high-quality articles, which allows one to use a recently developed method to obtain an unbiased evaluation of an arbitrary bandit algorithm.\n",
    "\n",
    "<br>The dataset contains 45,811,883 user visits to the Today Module.  For each visit, both the user and each of the candidate articles are\n",
    "associated with a feature vector of dimension 6 (including a constant feature), constructed by conjoint analysis with a bilinear model.\n",
    "\n",
    "This dataset contains 10 files, corresponding to the first 10 days in May 2009:  \n",
    "* ydata-fp-td-clicks-v1_0.20090501.gz\n",
    "* ydata-fp-td-clicks-v1_0.20090502.gz  \n",
    "...  \n",
    "* ydata-fp-td-clicks-v1_0.20090510.gz  \n",
    "\n",
    "Each line in the files corresponds to a separate user visit.  \n",
    "  \n",
    "<br>An example line is as follows:  \n",
    "1241160900 109513 0 |user 2:0.000012 3:0.000000 4:0.000006 5:0.000023 6:0.999958 1:1.000000 |109498 2:0.306008 3:0.000450 4:0.077048 5:0.230439 6:0.386055 1:1.000000 |109509 2:0.306008 3:0.000450 4:0.077048 5:0.230439 6:0.386055 1:1.000000 [[...more article features omitted...]] |109453 2:0.421669 3:0.000011 4:0.010902 5:0.309585 6:0.257833 1:1.000000  \n",
    "   \n",
    "<br>which contains the following fields delimited with spaces:  \n",
    "* `timestamp`: e.g., 1241160900\n",
    "* `displayed_article_id`: e.g., 109513\n",
    "* `user_click` (0 for no-click and 1 for click): e.g., 0\n",
    "* strings \"|user\" and \"|{article_id}\" indicate the start of user and article features\n",
    "* features are encoded as \"feature_id:feature_value\" pairs, and\n",
    "feature_id starts from 1\n",
    "  \n",
    "<br>The pool of available articles for recommendation for each user visit is the set of articles that appear in that line of data.  All user IDs (specifically, bcookies) are replaced by a common string 'user' so that no user information can be identified from this data.\n",
    "\n",
    "Regarding the 6 dimensional feature vector, Feature #1 is the constant (always 1) feature, and features #2-6 correspond to the 5 membership features constructed via conjoint analysis with a bilinear model.\n",
    "\n",
    "A unique property of this data set is that the displayed article is chosen uniformly at random from the candidate article pool.  Therefore, one can use an unbiased *offline* evaluation method to compare bandit algorithms in a reliable way.  Performance of some of the popular bandit algorithms can be found. We will cover the offline evaluation method in detail in week 4 of the course.\n",
    "  \n",
    "<br>The full dataset can be downloaded from [here](https://webscope.sandbox.yahoo.com/catalog.php?datatype=r&did=49) if you'd like, but we'll be working with a smaller sample in this course.\n"
   ]
  },
  {
   "cell_type": "markdown",
   "id": "mGMwRjXuDxm9",
   "metadata": {
    "id": "mGMwRjXuDxm9"
   },
   "source": [
    "## **2. Setup**\n",
    "[back to top](#scrollTo=wIHxLWre9THR&uniqifier=1)"
   ]
  },
  {
   "cell_type": "markdown",
   "id": "8d57d965-645f-4622-b721-7cd11500fc67",
   "metadata": {
    "id": "8d57d965-645f-4622-b721-7cd11500fc67"
   },
   "source": [
    "Now let's write a function to read in the data, and store articles / features / events in memory -- which we will treat as global variables accessible to all functions later on:"
   ]
  },
  {
   "cell_type": "code",
   "execution_count": 24,
   "id": "1qX4SLbYJlWm",
   "metadata": {
    "executionInfo": {
     "elapsed": 12314,
     "status": "ok",
     "timestamp": 1676316580544,
     "user": {
      "displayName": "David Albrecht",
      "userId": "10653802693122892742"
     },
     "user_tz": 480
    },
    "id": "1qX4SLbYJlWm"
   },
   "outputs": [],
   "source": [
    "# Imports\n",
    "import numpy as np\n",
    "import fileinput\n",
    "from IPython.display import clear_output\n",
    "import random\n",
    "import time\n",
    "\n",
    "\n",
    "# Download data\n",
    "!pip install -U --no-cache-dir gdown --pre\n",
    "!gdown --no-cookies https://drive.google.com/uc?id=1_jFxa2s7ONQ7nrhqFc1lARP6WChs2T4e\n",
    "\n",
    "clear_output()"
   ]
  },
  {
   "cell_type": "code",
   "execution_count": 25,
   "id": "a362ca4c-5f65-4f51-99c7-43b62fe6043f",
   "metadata": {
    "executionInfo": {
     "elapsed": 3,
     "status": "ok",
     "timestamp": 1676316584200,
     "user": {
      "displayName": "David Albrecht",
      "userId": "10653802693122892742"
     },
     "user_tz": 480
    },
    "id": "a362ca4c-5f65-4f51-99c7-43b62fe6043f"
   },
   "outputs": [],
   "source": [
    "def read_data(filenames):\n",
    "    \"\"\"\n",
    "    Reads a stream of events from the list of given files.\n",
    "    \n",
    "    Parameters\n",
    "    ----------\n",
    "    filenames : list\n",
    "        List of filenames\n",
    "    \n",
    "    Stores\n",
    "    -------    \n",
    "    articles : [article_ids]\n",
    "    features : [[article_1_features] .. [article_n_features]]\n",
    "    events : [\n",
    "                 0 : displayed_article_index (relative to the pool),\n",
    "                 1 : user_click,\n",
    "                 2 : [user_features],\n",
    "                 3 : [pool_indexes]\n",
    "             ]\n",
    "    \"\"\"\n",
    "\n",
    "    global articles, features, events, n_arms, n_events\n",
    "    articles = []\n",
    "    features = []\n",
    "    events = []\n",
    "\n",
    "    skipped = 0\n",
    "\n",
    "    with fileinput.input(files=filenames) as f:\n",
    "        for line in f:\n",
    "            cols = line.split()\n",
    "            if (len(cols) - 10) % 7 != 0:\n",
    "                skipped += 1\n",
    "            else:\n",
    "                pool_idx = []\n",
    "                pool_ids = []\n",
    "                for i in range(10, len(cols) - 6, 7):\n",
    "                    id = cols[i][1:]\n",
    "                    if id not in articles:\n",
    "                        articles.append(id)\n",
    "                        features.append([float(x[2:]) for x in cols[i + 1: i + 7]])\n",
    "                    pool_idx.append(articles.index(id))\n",
    "                    pool_ids.append(id)\n",
    "\n",
    "                events.append(\n",
    "                    [\n",
    "                        pool_ids.index(cols[1]),\n",
    "                        int(cols[2]),\n",
    "                        [float(x[2:]) for x in cols[4:10]],\n",
    "                        pool_idx,\n",
    "                    ]\n",
    "                )\n",
    "    features = np.array(features)\n",
    "    n_arms = len(articles)\n",
    "    n_events = len(events)\n",
    "    print(n_events, \"events with\", n_arms, \"articles\")\n",
    "    if skipped != 0:\n",
    "        print(\"Skipped events:\", skipped)"
   ]
  },
  {
   "cell_type": "code",
   "execution_count": 26,
   "id": "07df3304-6701-47ff-9d0d-d5a59a5b8cb3",
   "metadata": {
    "colab": {
     "base_uri": "https://localhost:8080/"
    },
    "executionInfo": {
     "elapsed": 3525,
     "status": "ok",
     "timestamp": 1676316589830,
     "user": {
      "displayName": "David Albrecht",
      "userId": "10653802693122892742"
     },
     "user_tz": 480
    },
    "id": "07df3304-6701-47ff-9d0d-d5a59a5b8cb3",
    "outputId": "1fbdf7bf-4b59-497d-bc70-259674cb1745"
   },
   "outputs": [
    {
     "name": "stdout",
     "output_type": "stream",
     "text": [
      "100000 events with 21 articles\n"
     ]
    }
   ],
   "source": [
    "# Use the function to read the data in\n",
    "read_data((\"data1.txt\"))"
   ]
  },
  {
   "cell_type": "markdown",
   "id": "s_bLy59XFaz7",
   "metadata": {
    "id": "s_bLy59XFaz7"
   },
   "source": [
    "## **3. Implement ϵ-greedy Policy**\n",
    "[back to top](#scrollTo=wIHxLWre9THR&uniqifier=1)"
   ]
  },
  {
   "cell_type": "markdown",
   "id": "95e2039e-43ba-4a09-bbc9-b2b12687e722",
   "metadata": {
    "id": "95e2039e-43ba-4a09-bbc9-b2b12687e722"
   },
   "source": [
    "Below we'll implement a simple ϵ-greedy method. Here ϵ defines the amount of exploration we wish to perform, and for the remaining 1-ϵ times the model prefers exploitation. By convention, \"epsilon\" represents the percentage of time/trials dedicated for exploration, and it is also typical to do random exploration. This introduces some form of stochasticity.\n",
    "\n",
    "Notice how the `choose_arm` method returns the best arm's index based on the ϵ-greedy policy, and the `update` method updates algorithm's parameters(matrices) for the selected arm. It looks at the selected arm, updates the number of times this arm was chosen, and then it updates the mean reward observed for the selected arm."
   ]
  },
  {
   "cell_type": "code",
   "execution_count": 27,
   "id": "d74ce40f-1fda-4397-ae7d-21f6faeacad9",
   "metadata": {
    "id": "d74ce40f-1fda-4397-ae7d-21f6faeacad9"
   },
   "outputs": [],
   "source": [
    "class Egreedy:\n",
    "    \"\"\"\n",
    "    Epsilon greedy algorithm implementation\n",
    "    \"\"\"\n",
    "\n",
    "    def __init__(self, epsilon):\n",
    "        \"\"\"\n",
    "        Parameters\n",
    "        ----------\n",
    "        epsilon : number (Egreedy parameter, ideally between 0 and 1)\n",
    "        \"\"\"\n",
    "\n",
    "        self.e = round(epsilon, 1)  # epsilon parameter for Egreedy \n",
    "        self.algorithm = \"Egreedy (ε=\" + str(self.e) + \")\"\n",
    "        self.q = np.zeros(n_arms)  # average reward for each arm -- this represents the known mean reward for each arm\n",
    "        self.n = np.zeros(n_arms)  # number of times each arm was chosen\n",
    "\n",
    "    def choose_arm(self, t, user, pool_idx):\n",
    "        \"\"\"\n",
    "        Returns the best arm's index relative to the pool\n",
    "        Parameters\n",
    "        ----------\n",
    "        t : number (number of trial)\n",
    "        user : array (user features)\n",
    "        pool_idx : array of indexes (pool indexes for article identification)\n",
    "        \"\"\"\n",
    "\n",
    "        p = np.random.rand()\n",
    "        if p > self.e:\n",
    "            return np.argmax(self.q[pool_idx])\n",
    "        else:\n",
    "            return np.random.randint(low=0, high=len(pool_idx))\n",
    "\n",
    "    def update(self, displayed, reward, user, pool_idx):\n",
    "        \"\"\"\n",
    "        Updates algorithm's parameters(matrices)\n",
    "        Parameters\n",
    "        ----------\n",
    "        displayed : index (displayed article index relative to the pool)\n",
    "        reward : binary (user clicked or not)\n",
    "        user : array (user features)\n",
    "        pool_idx : array of indexes (pool indexes for article identification)\n",
    "        \"\"\"\n",
    "\n",
    "        a = pool_idx[displayed]\n",
    "        \n",
    "        # update counts pulled for chosen arm\n",
    "        self.n[a] += 1\n",
    "        \n",
    "        # update average/mean value/reward for chosen arm\n",
    "        self.q[a] += (reward - self.q[a]) / self.n[a]\n",
    "        \"\"\"\n",
    "        this can also be written as:\n",
    "        value = self.q[a]\n",
    "        new_value = ((self.n[a]-1)/float(self.n[a])) * value + (1 / float(self.n[a])) * reward\n",
    "        self.q[a] = new_value\n",
    "        \"\"\""
   ]
  },
  {
   "cell_type": "markdown",
   "id": "NHsNS6B1JTrO",
   "metadata": {
    "id": "NHsNS6B1JTrO"
   },
   "source": [
    "## **4. Policy Evaluation**\n",
    "[back to top](#scrollTo=wIHxLWre9THR&uniqifier=1)"
   ]
  },
  {
   "cell_type": "markdown",
   "id": "13ca41bc-b6b7-49c3-867b-50bc836ccae3",
   "metadata": {
    "id": "13ca41bc-b6b7-49c3-867b-50bc836ccae3"
   },
   "source": [
    "We base our evaluation on the seminal work on offline evaluation of bandits as presented in [WSDM 2011] [Unbiased Offline Evaluation of Contextual-bandit-based News Article Recommendation Algorithms](https://arxiv.org/pdf/1003.5956.pdf).\n",
    "  \n",
    "<br>Compared to machine learning in the more standard supervised learning setting, evaluation of methods in a bandit setting is frustratingly difficult. Our goal here is to measure the performance of a bandit algorithm A, that is, a rule for selecting an arm at each time step based on the preceding interactions.\n",
    "\n",
    "We suppose that there is some unknown distribution D from which tuples are drawn i.i.d. of the form (x, r1, . . . , rK), each consisting of unobserved payoffs for all arms. We also posit access to a long sequence of logged events resulting from the interaction of the uniformly random logging policy with the world. Each such event consists a selected arm a and the resulting observed payoff ra. Crucially, this logged data is partially labeled in the sense that only the payoff ra is observed for the single arm a that was chosen uniformly at random.\n",
    "\n",
    "Our goal is to use this data to evaluate a bandit algorithm A, which is a (possibly randomized) mapping for selecting the arm at time t based on the history ht−1 of t−1 preceding events. Therefore the data serves as a benchmark with which people can evaluate and compare different bandit algorithms.\n",
    "  \n",
    "The policy evaluator is shown in Algorithm 1 below. The method takes as input a bandit algorithm A and a desired\n",
    "number of \"valid\" events T on which to base the evaluation. We then step through the stream of logged events one by one. If, given the current history ht−1, it happens that the policy A chooses the same arm a as the one that was selected by the logging policy, then the event is retained (that is, added to the history), and the total payoff updated. Otherwise, if the policy A selects a different arm from the one that was taken by the logging policy, then the event is entirely ignored, and the algorithm proceeds to the next event without any change in its state.\n",
    "![Policy Evaluator](data:image/png;base64,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)\n",
    "  \n",
    "<br>We next implement this evaluation function below:\n"
   ]
  },
  {
   "cell_type": "code",
   "execution_count": 28,
   "id": "3eb3334e-253f-483c-9e39-4bdda2c3b00e",
   "metadata": {
    "id": "3eb3334e-253f-483c-9e39-4bdda2c3b00e"
   },
   "outputs": [],
   "source": [
    "def evaluate(A, size=100, learn_ratio = 0.9):\n",
    "    \"\"\"\n",
    "    Policy evaluator as described in the paper\n",
    "    Parameters\n",
    "    ----------\n",
    "    A : class (algorithm)\n",
    "    size : number (run the evaluation only on a portion of the dataset)\n",
    "    learn_ratio : number (perform learning(update parameters) only on a small portion of the traffic)\n",
    "    Returns\n",
    "    -------\n",
    "    learn : array (contains the ctr for each trial for the learning bucket)\n",
    "    deploy : array (contains the ctr for each trial for the deployment bucket)\n",
    "    \"\"\"\n",
    "    \n",
    "    start = time.time()\n",
    "    # we initialize the payoff and events parameters separately for learning phase of the events and deployment phase of events.\n",
    "    Payoff_deploy = 0 # total payoff for the deployment bucket\n",
    "    Payoff_learn = 0  # total payoff for the learning bucket\n",
    "    Events_deploy = 1 # counter of valid events for the deployment bucket\n",
    "    Events_learn = 0  # counter of valid events for the learning bucket\n",
    "\n",
    "    learn = []\n",
    "    deploy = []\n",
    "    global events\n",
    "    if size != 100:\n",
    "        k = int(n_events * size / 100)\n",
    "        events = random.sample(events, k)\n",
    "\n",
    "    \"\"\"\n",
    "    we run through the logged events, and treat each event either for learning & updating the parameters,\n",
    "    or for deployment purposes wherein we use the reward obtained as evaluation metric\n",
    "    \"\"\"\n",
    "    for t, event in enumerate(events):\n",
    "\n",
    "        displayed = event[0]\n",
    "        reward = event[1]\n",
    "        user = event[2]\n",
    "        pool_idx = event[3]\n",
    "\n",
    "        # select the arm based on the bandit policy\n",
    "        chosen = A.choose_arm(Payoff_learn + Payoff_deploy, user, pool_idx)\n",
    "        \n",
    "        \"\"\"\n",
    "        If, given the current history ht−1, it happens that the policy A chooses the same arm a\n",
    "        as the one that was selected by the logging policy, then the event is retained\n",
    "        (that is, added to the history), and the total payoff updated.\n",
    "        Otherwise, if the policy A selects a different arm from the one that was taken by the logging policy,\n",
    "        then the event is entirely ignored, and the algorithm proceeds to the next event without any change in its state.\n",
    "        \"\"\"\n",
    "        if chosen == displayed:\n",
    "            if random.random() < learn_ratio:\n",
    "                Payoff_learn += event[1]\n",
    "                Events_learn += 1\n",
    "                A.update(displayed, reward, user, pool_idx)\n",
    "                learn.append(Payoff_learn / Events_learn)\n",
    "            else:\n",
    "                Payoff_deploy += event[1]\n",
    "                Events_deploy += 1\n",
    "                deploy.append(Payoff_deploy / Events_deploy)\n",
    "\n",
    "    end = time.time()\n",
    "\n",
    "    execution_time = round(end - start, 1)\n",
    "    execution_time = (\n",
    "        str(round(execution_time / 60, 1)) + \"m\"\n",
    "        if execution_time > 60\n",
    "        else str(execution_time) + \"s\"\n",
    "    )\n",
    "    print(\n",
    "        \"{:<20}{:<10}{}\".format(\n",
    "            A.algorithm, round(Payoff_deploy / Events_deploy, 4), execution_time\n",
    "        )\n",
    "    )\n",
    "\n",
    "    return learn, deploy"
   ]
  },
  {
   "cell_type": "markdown",
   "id": "45aa4ece-69ca-4538-a88c-92e9b18a7510",
   "metadata": {
    "id": "45aa4ece-69ca-4538-a88c-92e9b18a7510"
   },
   "source": [
    "Now let's run the evaluation method on the epsilon-greedy policy for different values of epsilon, and print the corresponding reward obtained during deployment phase of evaluation:"
   ]
  },
  {
   "cell_type": "code",
   "execution_count": 29,
   "id": "d226bd62-a6bd-4068-ab5d-4e2bfdf4bb9e",
   "metadata": {
    "colab": {
     "base_uri": "https://localhost:8080/"
    },
    "executionInfo": {
     "elapsed": 4400,
     "status": "ok",
     "timestamp": 1665617847628,
     "user": {
      "displayName": "David Albrecht",
      "userId": "10653802693122892742"
     },
     "user_tz": 420
    },
    "id": "d226bd62-a6bd-4068-ab5d-4e2bfdf4bb9e",
    "outputId": "4ca822ed-e696-42db-f711-dd7b533d2def"
   },
   "outputs": [
    {
     "name": "stdout",
     "output_type": "stream",
     "text": [
      "Egreedy (ε=0.1)     0.024     0.3s\n",
      "Egreedy (ε=0.1)     0.0274    0.3s\n",
      "Egreedy (ε=0.1)     0.028     0.3s\n",
      "Egreedy (ε=0.2)     0.027     0.3s\n",
      "Egreedy (ε=0.5)     0.0262    0.3s\n",
      "Egreedy (ε=0.8)     0.0291    0.2s\n"
     ]
    }
   ],
   "source": [
    "_, deploy = evaluate(Egreedy(0.1),learn_ratio=0.25)\n",
    "rnd_ctr = deploy[-1]\n",
    "\n",
    "_, deploy = evaluate(Egreedy(0.1),learn_ratio=0.5)\n",
    "rnd_ctr = deploy[-1]\n",
    "\n",
    "_, deploy = evaluate(Egreedy(0.1),learn_ratio=0.9)\n",
    "rnd_ctr = deploy[-1]\n",
    "\n",
    "_, deploy = evaluate(Egreedy(0.25),learn_ratio=0.5)\n",
    "rnd_ctr = deploy[-1]\n",
    "\n",
    "_, deploy = evaluate(Egreedy(0.5),learn_ratio=0.5)\n",
    "rnd_ctr = deploy[-1]\n",
    "\n",
    "_, deploy = evaluate(Egreedy(0.75),learn_ratio=0.5)\n",
    "rnd_ctr = deploy[-1]"
   ]
  },
  {
   "cell_type": "markdown",
   "id": "aM2H5Jm4OqFb",
   "metadata": {
    "id": "aM2H5Jm4OqFb"
   },
   "source": [
    "## **5. TODO 2.3: Implement UCB1**\n",
    "[back to top](#scrollTo=wIHxLWre9THR&uniqifier=1)"
   ]
  },
  {
   "cell_type": "markdown",
   "id": "b8bd37be-bf33-4613-b736-d674dc6d5889",
   "metadata": {
    "id": "b8bd37be-bf33-4613-b736-d674dc6d5889"
   },
   "source": [
    "Epsilon greedy performs pretty well, but it's easy to see how selecting arms at random can be inefficient. If you have one movie that 50% of users have liked, and another at 5% have liked, epsilon greedy is equally likely to pick either of these movies when exploring random arms. Upper Confidence Bound (UCB) algorithms were introduced as a class of bandit algorithm that explores more efficiently.\n",
    "\n",
    "UCB algorithms construct a confidence interval of what each arm's true performance might be, factoring in the uncertainty caused by variance in the data and the fact that we're only able to observe a limited sample of pulls for any given arm. The algorithms then optimistically assume that each arm will perform as well as its upper confidence bound, selecting the arm with the highest UCB.  \n",
    "  \n",
    "<br>\n",
    "\n",
    "### Motivation behind UCB\n",
    "Suppose an Artice A has been seen 100 times and has the best CTR. Article B has a slightly worse CTR than article A, but it hasn't been seen by as many users, so there's also more uncertainty about how well it's going to perform in the long run. For this reason, it has a larger confidence bound, giving it a slightly higher UCB score than article A. Article C was published just moments ago, so almost no users have seen it. We're extremely uncertain about how high its CTR will ultimately be, so its UCB is highest of all for now despite its initial CTR being low.\n",
    "\n",
    "Over time, more users will see articles B and C, and their confidence bounds will become more narrow and look more like that of article A. As we learn more about B and C, we'll shift from exploration toward exploitation as the articles' confidence intervals collapse toward their means. Unless the CTR of article B or C improves, the bandit will quickly start to favor article A again as the other articles' confidence bounds shrink.  \n",
    "  \n",
    "One of the most important features of the UCB is that it not only exponentially decays as the number of pulls on the given machine increases, but also increases as the timestep increases. In other words, arms that have been explored less are given a boost even if their estimated mean is low, especially if we’ve been playing for a while. In this way, the UCB1 algorithm is able to naturally define its own mix of exploration vs. exploitation without depending on a user supplied parameter like epsilon greedy.  \n",
    "  \n",
    "<br>\n",
    "\n",
    "### Mathematical Formulation\n",
    "Let $n_t(a)$ be the number of times arm a is selected in rounds 1,2,…,t and $\\mu_t(a)$ be the average reward of arm a up to time t. The upper confidence bound is defined as:\n",
    "\n",
    "$UCB_t(a) = \\mu_t(a)+ \\sqrt{\\frac{2 \\log(t)}{ N_k(t)}}$\n",
    "\n",
    "\n",
    "where $\\mu_t(a)$ can be computed as `rewards[k] / pulls[k]` and the bound can be computed as `sqrt((2 * log(t)) / pulls[k]`.\n",
    "\n",
    "The UCB1 algorithm chooses the best arm based on this optimistic estimate.\n",
    "  \n",
    "<br>Your goal is to finish the `choose_arm` and `update` methods of the `Ucb1` class below, and then evaluate the bandit:\n"
   ]
  },
  {
   "cell_type": "code",
   "execution_count": 30,
   "id": "f5881aa5-6396-469d-a582-95af04e2224a",
   "metadata": {
    "id": "f5881aa5-6396-469d-a582-95af04e2224a"
   },
   "outputs": [],
   "source": [
    "class Ucb1:\n",
    "    def __init__(self, alpha):\n",
    "        \"\"\"\n",
    "        Parameters\n",
    "        ----------\n",
    "        alpha : number (ucb parameter)\n",
    "        \"\"\"\n",
    "\n",
    "        self.alpha = round(alpha, 1)\n",
    "        self.algorithm = \"UCB1 (α=\" + str(self.alpha) + \")\"\n",
    "\n",
    "        self.q = np.zeros(n_arms)  # average reward for each arm\n",
    "        self.n = np.ones(n_arms)  # number of times each arm was chosen\n",
    "\n",
    "    def choose_arm(self, t, user, pool_idx):\n",
    "        \"\"\"\n",
    "        Returns the best arm's index relative to the pool\n",
    "        Parameters\n",
    "        ----------\n",
    "        t : number (number of trial)\n",
    "        user : array (user features)\n",
    "        pool_idx : array of indexes (pool indexes for article identification)\n",
    "        \"\"\"\n",
    "        \n",
    "        # write your code here\n",
    "        scores = self.q[pool_idx] + np.sqrt(self.alpha * np.log(t+1)/self.n[pool_idx])\n",
    "    \n",
    "        # return something here\n",
    "        return np.argmax(scores)\n",
    "\n",
    "    def update(self, displayed, reward, user, pool_idx):\n",
    "        \"\"\"\n",
    "        Updates algorithm's parameters(matrices)\n",
    "        Parameters\n",
    "        ----------\n",
    "        displayed : index (displayed article index relative to the pool)\n",
    "        reward : binary (user clicked or not)\n",
    "        user : array (user features)\n",
    "        pool_idx : array of indexes (pool indexes for article identification)\n",
    "        \"\"\"\n",
    "\n",
    "        a = pool_idx[displayed]\n",
    "\n",
    "        # update self.n[a] here\n",
    "        self.n[a] += 1\n",
    "        \n",
    "        # update self.q[a] here\n",
    "        self.q[a] += (reward - self.q[a]) / self.n[a]"
   ]
  },
  {
   "cell_type": "code",
   "execution_count": 31,
   "id": "AobbZYPvj29P",
   "metadata": {
    "id": "AobbZYPvj29P"
   },
   "outputs": [
    {
     "name": "stdout",
     "output_type": "stream",
     "text": [
      "UCB1 (α=0.1)        0.0422    0.6s\n",
      "UCB1 (α=0.1)        0.0356    0.7s\n",
      "UCB1 (α=0.1)        0.0273    0.7s\n",
      "UCB1 (α=0.1)        0.0147    0.6s\n",
      "UCB1 (α=0.1)        0.0211    0.6s\n",
      "UCB1 (α=0.1)        0.0223    0.6s\n",
      "UCB1 (α=0.1)        0.026     0.6s\n",
      "UCB1 (α=0.1)        0.0323    0.6s\n",
      "UCB1 (α=0.1)        0.0311    0.6s\n",
      "UCB1 (α=0.1)        0.0213    0.6s\n",
      "UCB1 (α=0.1)        0.0226    0.6s\n"
     ]
    }
   ],
   "source": [
    "# Evaluate your implementation of UCB1\n",
    "for alpha in [0.1, 0.2, 0.25, 0.3, 0.4, 0.5, 0.6, 0.7, 0.75, 0.8, 0.9]:\n",
    "    _, deploy = evaluate(Ucb1(0.1))\n",
    "    rnd_ctr = deploy[-1]"
   ]
  }
 ],
 "metadata": {
  "accelerator": "GPU",
  "colab": {
   "collapsed_sections": [
    "NWpqDtwiKSyN",
    "ETXp_Ixa9xVH",
    "CcKGfQtEDte3",
    "8k4D0ZUPEXJ5",
    "ZOyl7LPbGeFQ",
    "ADo5s7YWHOoR",
    "MtAo2yv4H4jg",
    "NI-XuLBcJld0",
    "ibq1uMfTL2H9",
    "aMIjykLIMHZW",
    "09LGM73ePNZK",
    "NTgBnh2-PrNL",
    "oj6d21t3SyNr",
    "MAFpygeZumu1",
    "mGMwRjXuDxm9",
    "s_bLy59XFaz7",
    "NHsNS6B1JTrO",
    "aM2H5Jm4OqFb"
   ],
   "provenance": []
  },
  "environment": {
   "kernel": "python3",
   "name": "tf2-gpu.2-6.m89",
   "type": "gcloud",
   "uri": "gcr.io/deeplearning-platform-release/tf2-gpu.2-6:m89"
  },
  "gpuClass": "standard",
  "kernelspec": {
   "display_name": "Python 3.9 (tensorflow)",
   "language": "python",
   "name": "tensorflow"
  },
  "language_info": {
   "codemirror_mode": {
    "name": "ipython",
    "version": 3
   },
   "file_extension": ".py",
   "mimetype": "text/x-python",
   "name": "python",
   "nbconvert_exporter": "python",
   "pygments_lexer": "ipython3",
   "version": "3.9.7"
  },
  "widgets": {
   "application/vnd.jupyter.widget-state+json": {
    "0e6404441be94dd0bc9bec2783d07892": {
     "model_module": "@jupyter-widgets/controls",
     "model_module_version": "1.5.0",
     "model_name": "FloatProgressModel",
     "state": {
      "_dom_classes": [],
      "_model_module": "@jupyter-widgets/controls",
      "_model_module_version": "1.5.0",
      "_model_name": "FloatProgressModel",
      "_view_count": null,
      "_view_module": "@jupyter-widgets/controls",
      "_view_module_version": "1.5.0",
      "_view_name": "ProgressView",
      "bar_style": "success",
      "description": "",
      "description_tooltip": null,
      "layout": "IPY_MODEL_ff0af76174a144c48d6cbc46030fda81",
      "max": 1769097,
      "min": 0,
      "orientation": "horizontal",
      "style": "IPY_MODEL_46e506bcd6ae45c9bcf4ab687b76f64c",
      "value": 1769097
     }
    },
    "119b7b107303467bbeb2831ebb9a0fe7": {
     "model_module": "@jupyter-widgets/base",
     "model_module_version": "1.2.0",
     "model_name": "LayoutModel",
     "state": {
      "_model_module": "@jupyter-widgets/base",
      "_model_module_version": "1.2.0",
      "_model_name": "LayoutModel",
      "_view_count": null,
      "_view_module": "@jupyter-widgets/base",
      "_view_module_version": "1.2.0",
      "_view_name": "LayoutView",
      "align_content": null,
      "align_items": null,
      "align_self": null,
      "border": null,
      "bottom": null,
      "display": null,
      "flex": null,
      "flex_flow": null,
      "grid_area": null,
      "grid_auto_columns": null,
      "grid_auto_flow": null,
      "grid_auto_rows": null,
      "grid_column": null,
      "grid_gap": null,
      "grid_row": null,
      "grid_template_areas": null,
      "grid_template_columns": null,
      "grid_template_rows": null,
      "height": null,
      "justify_content": null,
      "justify_items": null,
      "left": null,
      "margin": null,
      "max_height": null,
      "max_width": null,
      "min_height": null,
      "min_width": null,
      "object_fit": null,
      "object_position": null,
      "order": null,
      "overflow": null,
      "overflow_x": null,
      "overflow_y": null,
      "padding": null,
      "right": null,
      "top": null,
      "visibility": null,
      "width": null
     }
    },
    "15aee49d3559491286157ae90e80ed0f": {
     "model_module": "@jupyter-widgets/controls",
     "model_module_version": "1.5.0",
     "model_name": "HTMLModel",
     "state": {
      "_dom_classes": [],
      "_model_module": "@jupyter-widgets/controls",
      "_model_module_version": "1.5.0",
      "_model_name": "HTMLModel",
      "_view_count": null,
      "_view_module": "@jupyter-widgets/controls",
      "_view_module_version": "1.5.0",
      "_view_name": "HTMLView",
      "description": "",
      "description_tooltip": null,
      "layout": "IPY_MODEL_5793837a19ec4fbb9454ca167d7b186e",
      "placeholder": "​",
      "style": "IPY_MODEL_57fc80ec052d49429b0e56791b304fa6",
      "value": " 266364/266364 [00:00&lt;00:00, 411820.94it/s]"
     }
    },
    "34091f4c48c3498c9b97bd1011b5e2d9": {
     "model_module": "@jupyter-widgets/controls",
     "model_module_version": "1.5.0",
     "model_name": "DescriptionStyleModel",
     "state": {
      "_model_module": "@jupyter-widgets/controls",
      "_model_module_version": "1.5.0",
      "_model_name": "DescriptionStyleModel",
      "_view_count": null,
      "_view_module": "@jupyter-widgets/base",
      "_view_module_version": "1.2.0",
      "_view_name": "StyleView",
      "description_width": ""
     }
    },
    "343897e3126f44d3883c7e0a2d155a4e": {
     "model_module": "@jupyter-widgets/controls",
     "model_module_version": "1.5.0",
     "model_name": "HTMLModel",
     "state": {
      "_dom_classes": [],
      "_model_module": "@jupyter-widgets/controls",
      "_model_module_version": "1.5.0",
      "_model_name": "HTMLModel",
      "_view_count": null,
      "_view_module": "@jupyter-widgets/controls",
      "_view_module_version": "1.5.0",
      "_view_name": "HTMLView",
      "description": "",
      "description_tooltip": null,
      "layout": "IPY_MODEL_119b7b107303467bbeb2831ebb9a0fe7",
      "placeholder": "​",
      "style": "IPY_MODEL_742f7274a38c41f4be1f57e9e8b8d50c",
      "value": "100%"
     }
    },
    "46e506bcd6ae45c9bcf4ab687b76f64c": {
     "model_module": "@jupyter-widgets/controls",
     "model_module_version": "1.5.0",
     "model_name": "ProgressStyleModel",
     "state": {
      "_model_module": "@jupyter-widgets/controls",
      "_model_module_version": "1.5.0",
      "_model_name": "ProgressStyleModel",
      "_view_count": null,
      "_view_module": "@jupyter-widgets/base",
      "_view_module_version": "1.2.0",
      "_view_name": "StyleView",
      "bar_color": null,
      "description_width": ""
     }
    },
    "567cc8526f99462d98d684c8e052171b": {
     "model_module": "@jupyter-widgets/controls",
     "model_module_version": "1.5.0",
     "model_name": "HTMLModel",
     "state": {
      "_dom_classes": [],
      "_model_module": "@jupyter-widgets/controls",
      "_model_module_version": "1.5.0",
      "_model_name": "HTMLModel",
      "_view_count": null,
      "_view_module": "@jupyter-widgets/controls",
      "_view_module_version": "1.5.0",
      "_view_name": "HTMLView",
      "description": "",
      "description_tooltip": null,
      "layout": "IPY_MODEL_9bb6bf580b0a4799a68de1df00328008",
      "placeholder": "​",
      "style": "IPY_MODEL_b6aa6f2f599f4d9a86a994beef87cc8e",
      "value": "100%"
     }
    },
    "5793837a19ec4fbb9454ca167d7b186e": {
     "model_module": "@jupyter-widgets/base",
     "model_module_version": "1.2.0",
     "model_name": "LayoutModel",
     "state": {
      "_model_module": "@jupyter-widgets/base",
      "_model_module_version": "1.2.0",
      "_model_name": "LayoutModel",
      "_view_count": null,
      "_view_module": "@jupyter-widgets/base",
      "_view_module_version": "1.2.0",
      "_view_name": "LayoutView",
      "align_content": null,
      "align_items": null,
      "align_self": null,
      "border": null,
      "bottom": null,
      "display": null,
      "flex": null,
      "flex_flow": null,
      "grid_area": null,
      "grid_auto_columns": null,
      "grid_auto_flow": null,
      "grid_auto_rows": null,
      "grid_column": null,
      "grid_gap": null,
      "grid_row": null,
      "grid_template_areas": null,
      "grid_template_columns": null,
      "grid_template_rows": null,
      "height": null,
      "justify_content": null,
      "justify_items": null,
      "left": null,
      "margin": null,
      "max_height": null,
      "max_width": null,
      "min_height": null,
      "min_width": null,
      "object_fit": null,
      "object_position": null,
      "order": null,
      "overflow": null,
      "overflow_x": null,
      "overflow_y": null,
      "padding": null,
      "right": null,
      "top": null,
      "visibility": null,
      "width": null
     }
    },
    "57fc80ec052d49429b0e56791b304fa6": {
     "model_module": "@jupyter-widgets/controls",
     "model_module_version": "1.5.0",
     "model_name": "DescriptionStyleModel",
     "state": {
      "_model_module": "@jupyter-widgets/controls",
      "_model_module_version": "1.5.0",
      "_model_name": "DescriptionStyleModel",
      "_view_count": null,
      "_view_module": "@jupyter-widgets/base",
      "_view_module_version": "1.2.0",
      "_view_name": "StyleView",
      "description_width": ""
     }
    },
    "6798a66bcd204eafa2a876cdbbc9e942": {
     "model_module": "@jupyter-widgets/controls",
     "model_module_version": "1.5.0",
     "model_name": "ProgressStyleModel",
     "state": {
      "_model_module": "@jupyter-widgets/controls",
      "_model_module_version": "1.5.0",
      "_model_name": "ProgressStyleModel",
      "_view_count": null,
      "_view_module": "@jupyter-widgets/base",
      "_view_module_version": "1.2.0",
      "_view_name": "StyleView",
      "bar_color": null,
      "description_width": ""
     }
    },
    "6edfda2df5a344aaac6a19a0b86b8051": {
     "model_module": "@jupyter-widgets/controls",
     "model_module_version": "1.5.0",
     "model_name": "HBoxModel",
     "state": {
      "_dom_classes": [],
      "_model_module": "@jupyter-widgets/controls",
      "_model_module_version": "1.5.0",
      "_model_name": "HBoxModel",
      "_view_count": null,
      "_view_module": "@jupyter-widgets/controls",
      "_view_module_version": "1.5.0",
      "_view_name": "HBoxView",
      "box_style": "",
      "children": [
       "IPY_MODEL_343897e3126f44d3883c7e0a2d155a4e",
       "IPY_MODEL_b6b99f1100de4274918baeb09c3ff586",
       "IPY_MODEL_15aee49d3559491286157ae90e80ed0f"
      ],
      "layout": "IPY_MODEL_e25d963f11b04f80b78e4ba156f4b0ab"
     }
    },
    "742f7274a38c41f4be1f57e9e8b8d50c": {
     "model_module": "@jupyter-widgets/controls",
     "model_module_version": "1.5.0",
     "model_name": "DescriptionStyleModel",
     "state": {
      "_model_module": "@jupyter-widgets/controls",
      "_model_module_version": "1.5.0",
      "_model_name": "DescriptionStyleModel",
      "_view_count": null,
      "_view_module": "@jupyter-widgets/base",
      "_view_module_version": "1.2.0",
      "_view_name": "StyleView",
      "description_width": ""
     }
    },
    "84274ed330ad40da8952ef72dfcb74b1": {
     "model_module": "@jupyter-widgets/controls",
     "model_module_version": "1.5.0",
     "model_name": "HBoxModel",
     "state": {
      "_dom_classes": [],
      "_model_module": "@jupyter-widgets/controls",
      "_model_module_version": "1.5.0",
      "_model_name": "HBoxModel",
      "_view_count": null,
      "_view_module": "@jupyter-widgets/controls",
      "_view_module_version": "1.5.0",
      "_view_name": "HBoxView",
      "box_style": "",
      "children": [
       "IPY_MODEL_567cc8526f99462d98d684c8e052171b",
       "IPY_MODEL_0e6404441be94dd0bc9bec2783d07892",
       "IPY_MODEL_c2dd945d5c324c31955e5bcf296aaf05"
      ],
      "layout": "IPY_MODEL_e3a24f2e728c4045bb5b8123972d4caf"
     }
    },
    "92b76e71ebb84dfc9e54d2a62e222add": {
     "model_module": "@jupyter-widgets/base",
     "model_module_version": "1.2.0",
     "model_name": "LayoutModel",
     "state": {
      "_model_module": "@jupyter-widgets/base",
      "_model_module_version": "1.2.0",
      "_model_name": "LayoutModel",
      "_view_count": null,
      "_view_module": "@jupyter-widgets/base",
      "_view_module_version": "1.2.0",
      "_view_name": "LayoutView",
      "align_content": null,
      "align_items": null,
      "align_self": null,
      "border": null,
      "bottom": null,
      "display": null,
      "flex": null,
      "flex_flow": null,
      "grid_area": null,
      "grid_auto_columns": null,
      "grid_auto_flow": null,
      "grid_auto_rows": null,
      "grid_column": null,
      "grid_gap": null,
      "grid_row": null,
      "grid_template_areas": null,
      "grid_template_columns": null,
      "grid_template_rows": null,
      "height": null,
      "justify_content": null,
      "justify_items": null,
      "left": null,
      "margin": null,
      "max_height": null,
      "max_width": null,
      "min_height": null,
      "min_width": null,
      "object_fit": null,
      "object_position": null,
      "order": null,
      "overflow": null,
      "overflow_x": null,
      "overflow_y": null,
      "padding": null,
      "right": null,
      "top": null,
      "visibility": null,
      "width": null
     }
    },
    "9b2e1dd243ad40438fb7978de23fe70b": {
     "model_module": "@jupyter-widgets/base",
     "model_module_version": "1.2.0",
     "model_name": "LayoutModel",
     "state": {
      "_model_module": "@jupyter-widgets/base",
      "_model_module_version": "1.2.0",
      "_model_name": "LayoutModel",
      "_view_count": null,
      "_view_module": "@jupyter-widgets/base",
      "_view_module_version": "1.2.0",
      "_view_name": "LayoutView",
      "align_content": null,
      "align_items": null,
      "align_self": null,
      "border": null,
      "bottom": null,
      "display": null,
      "flex": null,
      "flex_flow": null,
      "grid_area": null,
      "grid_auto_columns": null,
      "grid_auto_flow": null,
      "grid_auto_rows": null,
      "grid_column": null,
      "grid_gap": null,
      "grid_row": null,
      "grid_template_areas": null,
      "grid_template_columns": null,
      "grid_template_rows": null,
      "height": null,
      "justify_content": null,
      "justify_items": null,
      "left": null,
      "margin": null,
      "max_height": null,
      "max_width": null,
      "min_height": null,
      "min_width": null,
      "object_fit": null,
      "object_position": null,
      "order": null,
      "overflow": null,
      "overflow_x": null,
      "overflow_y": null,
      "padding": null,
      "right": null,
      "top": null,
      "visibility": null,
      "width": null
     }
    },
    "9bb6bf580b0a4799a68de1df00328008": {
     "model_module": "@jupyter-widgets/base",
     "model_module_version": "1.2.0",
     "model_name": "LayoutModel",
     "state": {
      "_model_module": "@jupyter-widgets/base",
      "_model_module_version": "1.2.0",
      "_model_name": "LayoutModel",
      "_view_count": null,
      "_view_module": "@jupyter-widgets/base",
      "_view_module_version": "1.2.0",
      "_view_name": "LayoutView",
      "align_content": null,
      "align_items": null,
      "align_self": null,
      "border": null,
      "bottom": null,
      "display": null,
      "flex": null,
      "flex_flow": null,
      "grid_area": null,
      "grid_auto_columns": null,
      "grid_auto_flow": null,
      "grid_auto_rows": null,
      "grid_column": null,
      "grid_gap": null,
      "grid_row": null,
      "grid_template_areas": null,
      "grid_template_columns": null,
      "grid_template_rows": null,
      "height": null,
      "justify_content": null,
      "justify_items": null,
      "left": null,
      "margin": null,
      "max_height": null,
      "max_width": null,
      "min_height": null,
      "min_width": null,
      "object_fit": null,
      "object_position": null,
      "order": null,
      "overflow": null,
      "overflow_x": null,
      "overflow_y": null,
      "padding": null,
      "right": null,
      "top": null,
      "visibility": null,
      "width": null
     }
    },
    "b6aa6f2f599f4d9a86a994beef87cc8e": {
     "model_module": "@jupyter-widgets/controls",
     "model_module_version": "1.5.0",
     "model_name": "DescriptionStyleModel",
     "state": {
      "_model_module": "@jupyter-widgets/controls",
      "_model_module_version": "1.5.0",
      "_model_name": "DescriptionStyleModel",
      "_view_count": null,
      "_view_module": "@jupyter-widgets/base",
      "_view_module_version": "1.2.0",
      "_view_name": "StyleView",
      "description_width": ""
     }
    },
    "b6b99f1100de4274918baeb09c3ff586": {
     "model_module": "@jupyter-widgets/controls",
     "model_module_version": "1.5.0",
     "model_name": "FloatProgressModel",
     "state": {
      "_dom_classes": [],
      "_model_module": "@jupyter-widgets/controls",
      "_model_module_version": "1.5.0",
      "_model_name": "FloatProgressModel",
      "_view_count": null,
      "_view_module": "@jupyter-widgets/controls",
      "_view_module_version": "1.5.0",
      "_view_name": "ProgressView",
      "bar_style": "success",
      "description": "",
      "description_tooltip": null,
      "layout": "IPY_MODEL_9b2e1dd243ad40438fb7978de23fe70b",
      "max": 266364,
      "min": 0,
      "orientation": "horizontal",
      "style": "IPY_MODEL_6798a66bcd204eafa2a876cdbbc9e942",
      "value": 266364
     }
    },
    "c2dd945d5c324c31955e5bcf296aaf05": {
     "model_module": "@jupyter-widgets/controls",
     "model_module_version": "1.5.0",
     "model_name": "HTMLModel",
     "state": {
      "_dom_classes": [],
      "_model_module": "@jupyter-widgets/controls",
      "_model_module_version": "1.5.0",
      "_model_name": "HTMLModel",
      "_view_count": null,
      "_view_module": "@jupyter-widgets/controls",
      "_view_module_version": "1.5.0",
      "_view_name": "HTMLView",
      "description": "",
      "description_tooltip": null,
      "layout": "IPY_MODEL_92b76e71ebb84dfc9e54d2a62e222add",
      "placeholder": "​",
      "style": "IPY_MODEL_34091f4c48c3498c9b97bd1011b5e2d9",
      "value": " 1769097/1769097 [00:04&lt;00:00, 410584.81it/s]"
     }
    },
    "e25d963f11b04f80b78e4ba156f4b0ab": {
     "model_module": "@jupyter-widgets/base",
     "model_module_version": "1.2.0",
     "model_name": "LayoutModel",
     "state": {
      "_model_module": "@jupyter-widgets/base",
      "_model_module_version": "1.2.0",
      "_model_name": "LayoutModel",
      "_view_count": null,
      "_view_module": "@jupyter-widgets/base",
      "_view_module_version": "1.2.0",
      "_view_name": "LayoutView",
      "align_content": null,
      "align_items": null,
      "align_self": null,
      "border": null,
      "bottom": null,
      "display": null,
      "flex": null,
      "flex_flow": null,
      "grid_area": null,
      "grid_auto_columns": null,
      "grid_auto_flow": null,
      "grid_auto_rows": null,
      "grid_column": null,
      "grid_gap": null,
      "grid_row": null,
      "grid_template_areas": null,
      "grid_template_columns": null,
      "grid_template_rows": null,
      "height": null,
      "justify_content": null,
      "justify_items": null,
      "left": null,
      "margin": null,
      "max_height": null,
      "max_width": null,
      "min_height": null,
      "min_width": null,
      "object_fit": null,
      "object_position": null,
      "order": null,
      "overflow": null,
      "overflow_x": null,
      "overflow_y": null,
      "padding": null,
      "right": null,
      "top": null,
      "visibility": null,
      "width": null
     }
    },
    "e3a24f2e728c4045bb5b8123972d4caf": {
     "model_module": "@jupyter-widgets/base",
     "model_module_version": "1.2.0",
     "model_name": "LayoutModel",
     "state": {
      "_model_module": "@jupyter-widgets/base",
      "_model_module_version": "1.2.0",
      "_model_name": "LayoutModel",
      "_view_count": null,
      "_view_module": "@jupyter-widgets/base",
      "_view_module_version": "1.2.0",
      "_view_name": "LayoutView",
      "align_content": null,
      "align_items": null,
      "align_self": null,
      "border": null,
      "bottom": null,
      "display": null,
      "flex": null,
      "flex_flow": null,
      "grid_area": null,
      "grid_auto_columns": null,
      "grid_auto_flow": null,
      "grid_auto_rows": null,
      "grid_column": null,
      "grid_gap": null,
      "grid_row": null,
      "grid_template_areas": null,
      "grid_template_columns": null,
      "grid_template_rows": null,
      "height": null,
      "justify_content": null,
      "justify_items": null,
      "left": null,
      "margin": null,
      "max_height": null,
      "max_width": null,
      "min_height": null,
      "min_width": null,
      "object_fit": null,
      "object_position": null,
      "order": null,
      "overflow": null,
      "overflow_x": null,
      "overflow_y": null,
      "padding": null,
      "right": null,
      "top": null,
      "visibility": null,
      "width": null
     }
    },
    "ff0af76174a144c48d6cbc46030fda81": {
     "model_module": "@jupyter-widgets/base",
     "model_module_version": "1.2.0",
     "model_name": "LayoutModel",
     "state": {
      "_model_module": "@jupyter-widgets/base",
      "_model_module_version": "1.2.0",
      "_model_name": "LayoutModel",
      "_view_count": null,
      "_view_module": "@jupyter-widgets/base",
      "_view_module_version": "1.2.0",
      "_view_name": "LayoutView",
      "align_content": null,
      "align_items": null,
      "align_self": null,
      "border": null,
      "bottom": null,
      "display": null,
      "flex": null,
      "flex_flow": null,
      "grid_area": null,
      "grid_auto_columns": null,
      "grid_auto_flow": null,
      "grid_auto_rows": null,
      "grid_column": null,
      "grid_gap": null,
      "grid_row": null,
      "grid_template_areas": null,
      "grid_template_columns": null,
      "grid_template_rows": null,
      "height": null,
      "justify_content": null,
      "justify_items": null,
      "left": null,
      "margin": null,
      "max_height": null,
      "max_width": null,
      "min_height": null,
      "min_width": null,
      "object_fit": null,
      "object_position": null,
      "order": null,
      "overflow": null,
      "overflow_x": null,
      "overflow_y": null,
      "padding": null,
      "right": null,
      "top": null,
      "visibility": null,
      "width": null
     }
    }
   }
  }
 },
 "nbformat": 4,
 "nbformat_minor": 5
}
