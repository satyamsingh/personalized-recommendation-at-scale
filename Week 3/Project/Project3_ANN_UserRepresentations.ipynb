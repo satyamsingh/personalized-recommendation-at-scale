{
  "cells": [
    {
      "cell_type": "markdown",
      "source": [
        "<h4><i><font color='red'>The project has many components, and we encourage you to complete as many as you can! That said, we highly encourage you to submit your work even if your notebook is only partially completed - the TA can help review your work and provide tips on any places that you got stuck or have further questions!</font></i></h4>"
      ],
      "metadata": {
        "id": "tHbGH4ZVbdMN"
      },
      "id": "tHbGH4ZVbdMN"
    },
    {
      "cell_type": "markdown",
      "source": [
        "<font size=\"6\">**Table of Contents:**</font>  \n",
        "<br>\n",
        "<font size=\"5\">\n",
        "<u>Approximate Nearest Neighbor Search:</u>  \n",
        "&emsp;&emsp;1\\. [Introduction](#scrollTo=9wDLwRU6HUNG&uniqifier=1)  \n",
        "&emsp;&emsp;2\\. [Setup](#scrollTo=vq47Wt-0Jan-&uniqifier=1)  \n",
        "&emsp;&emsp;3\\. [TODO 3.1: Your KNN](#scrollTo=3u93B8JdJ9pg&uniqifier=1)  \n",
        "&emsp;&emsp;4\\. [Faiss](#scrollTo=TRAg9cqeMiKl&uniqifier=1)  \n",
        "&emsp;&emsp;5\\. [TODO 3.2: KNN Comparison](#scrollTo=-2Xh5R8xT3to&uniqifier=1)  \n",
        "<br>\n",
        "<u>User Representations:</u>  \n",
        "&emsp;&emsp;1\\. [Introduction](#scrollTo=Yk2dt4l1VS_A&uniqifier=1)  \n",
        "&emsp;&emsp;2\\. [Setup](#scrollTo=oU7Z49ymW5yO&uniqifier=1)    \n",
        "&emsp;&emsp;3\\. [Initial User and Item Representations](#scrollTo=Frr6CK1NX6dJ&uniqifier=1)    \n",
        "&emsp;&emsp;4\\. [LightGBM as a Ranker](#scrollTo=_FYTNTwUc3ot&uniqifier=1)    \n",
        "&emsp;&emsp;5\\. [TODO 3.3: Your User Representations](#scrollTo=L-ErqwvYd9F7&uniqifier=1)    \n",
        "&emsp;&emsp;6\\. [TODO 3.4: LSTM User Representations (Optional)](#scrollTo=-BxR9VPpjoNi&uniqifier=1)    \n",
        "</font>"
      ],
      "metadata": {
        "id": "qfTG6NXWGjQt"
      },
      "id": "qfTG6NXWGjQt"
    },
    {
      "cell_type": "markdown",
      "source": [
        "# <u>Approximate Nearest Neighbor Search:</u>"
      ],
      "metadata": {
        "id": "cB4tqBSaHIqt"
      },
      "id": "cB4tqBSaHIqt"
    },
    {
      "cell_type": "markdown",
      "source": [
        "## **1. Introduction**\n",
        "[back to top](#scrollTo=qfTG6NXWGjQt&uniqifier=1)"
      ],
      "metadata": {
        "id": "9wDLwRU6HUNG"
      },
      "id": "9wDLwRU6HUNG"
    },
    {
      "cell_type": "markdown",
      "id": "41f1f7cb-9441-4fe1-962e-9e4cb3e3c192",
      "metadata": {
        "id": "41f1f7cb-9441-4fe1-962e-9e4cb3e3c192"
      },
      "source": [
        "In this week's project, we will touch upon two key aspects related to representations:\n",
        "1. How do we query large amount of vectors in efficient time?\n",
        "2. How can we infer various user representations and see what their impact is on the downstream task?\n",
        "\n",
        "Let's begin with the former, which tells us how we could handle a large number of candidate items or user representations in an efficient manner: Approximate Nearest Neighbor (ANN) Search.  \n",
        "  \n",
        "<br>Often we are interested in finding nearest neighbors in a large space of vectors. To store embeddings for 400 million users and over 100 million items and querying them in real time is a challenging task. This is where approximate nearest neighbor approaches step in to help. [Annoy](https://github.com/spotify/annoy), [Faiss](https://github.com/facebookresearch/faiss), and [ScaNN](https://github.com/google-research/google-research/tree/master/scann) are typical libraries that are used for efficient vector similarity search at scale. They implement algorithms that search in sets of vectors of any size, up to ones that possibly do not fit in RAM.\n",
        "\n",
        "In the first part of this week's project, we will simulate embeddings of 500k items and try to find the k-nearest neighbours for an item of interest. We will implement a vanilla search function to fetch the top-k nearest neighbors and estimate the time it takes for us to do so. We will then compare this with Faiss -- Facebook's nearest neighbour search library, and compare the time it takes for us to get nearest neighbours from Faiss versus our own implementation.\n"
      ]
    },
    {
      "cell_type": "markdown",
      "source": [
        "## **2. Setup**\n",
        "[back to top](#scrollTo=qfTG6NXWGjQt&uniqifier=1)"
      ],
      "metadata": {
        "id": "vq47Wt-0Jan-"
      },
      "id": "vq47Wt-0Jan-"
    },
    {
      "cell_type": "code",
      "execution_count": null,
      "id": "837dcaa9-cc0b-4345-bbee-3a09683decf9",
      "metadata": {
        "id": "837dcaa9-cc0b-4345-bbee-3a09683decf9"
      },
      "outputs": [],
      "source": [
        "# Installs and imports\n",
        "!pip install faiss-cpu --no-cache --quiet\n",
        "\n",
        "import pickle\n",
        "import faiss\n",
        "import numpy as np\n",
        "from IPython.display import clear_output\n",
        "import time\n",
        "import matplotlib.pyplot as plt\n",
        "\n",
        "clear_output()"
      ]
    },
    {
      "cell_type": "markdown",
      "source": [
        "## **3. TODO 3.1: Your KNN**\n",
        "[back to top](#scrollTo=qfTG6NXWGjQt&uniqifier=1)"
      ],
      "metadata": {
        "id": "3u93B8JdJ9pg"
      },
      "id": "3u93B8JdJ9pg"
    },
    {
      "cell_type": "markdown",
      "id": "3fa2b438-be53-4f39-b990-859046a4a560",
      "metadata": {
        "id": "3fa2b438-be53-4f39-b990-859046a4a560"
      },
      "source": [
        "Let's first generate a simulated dataset of embeddings of 500k items each with 64 elements:"
      ]
    },
    {
      "cell_type": "code",
      "execution_count": null,
      "id": "8c36fc8b-a032-4b48-bbeb-3bff46624615",
      "metadata": {
        "colab": {
          "base_uri": "https://localhost:8080/"
        },
        "id": "8c36fc8b-a032-4b48-bbeb-3bff46624615",
        "outputId": "28c84af7-eaba-4414-99d2-51f312a23503"
      },
      "outputs": [
        {
          "output_type": "execute_result",
          "data": {
            "text/plain": [
              "(500000, 64)"
            ]
          },
          "metadata": {},
          "execution_count": 2
        }
      ],
      "source": [
        "# Set seed for reproducibility\n",
        "np.random.seed(42)\n",
        "\n",
        "# Generate 500k item vectors with 64 elements\n",
        "item_vectors = np.random.random((500_000, 64)).astype('float32')\n",
        "\n",
        "item_vectors.shape"
      ]
    },
    {
      "cell_type": "markdown",
      "id": "142c00a5-f36b-4a5f-9e27-4a3e38b467d7",
      "metadata": {
        "id": "142c00a5-f36b-4a5f-9e27-4a3e38b467d7"
      },
      "source": [
        "Now that we have these items, let's take up the goal of finding the top-k items closest to this specific item. Your goal is to implement your function to estimate the top-k items using [Euclidean distance](https://en.wikipedia.org/wiki/Euclidean_distance) to the query item.\n",
        "  \n",
        "Euclidean distance can be [computed*](https://www.google.com/search?q=euclidean+distance&rlz=1C1CHBD_enUS756US756&oq=euclidean+distance&aqs=chrome.0.0i131i433i512l2j0i433i512j0i131i433i512l4j0i512j0i131i433i512l2.2329j1j7&sourceid=chrome&ie=UTF-8#wptab=si:AC1wQDCDyRf_4m8Q8nhldHMjdIalRktweLkw15mQu4pgD74-zUn1N-3MIuKczXZHIoqR9oMGcw61xadKjn9m6kYiyGRz32fPfr5CXMeSXfIndlhRj0dSYnewx44jaNCJZqrvNJZon_B3) as follows:\n",
        "\\begin{align}\n",
        "\\ d(p,q) = \\sqrt{\\sum_{i=1}^n (p_i-q_i)^2}\n",
        "\\end{align}\n",
        "\n",
        "p, q = two points in Euclidean n-space  \n",
        "q<sub>i</sub>, p<sub>i</sub> = Euclidean vectors, starting from the origin of the space (initial point)  \n",
        "n = n-space  \n",
        "\\* Note that Faiss does not take the final square root.\n",
        "  \n",
        "You'll be able to check your work with `index1`, the Faiss Flat Index, below. It should return the same results as your function."
      ]
    },
    {
      "cell_type": "code",
      "execution_count": null,
      "id": "84a94ee2-3131-44c5-ba95-ec67aa675048",
      "metadata": {
        "id": "84a94ee2-3131-44c5-ba95-ec67aa675048"
      },
      "outputs": [],
      "source": [
        "def find_top_k_nn(query_vector, k=5):\n",
        "    \"\"\"\n",
        "    Implement top-k nearest neighbours using Euclidean distance, and return the distances and indices of the these top-k items.\n",
        "\n",
        "    Args:\n",
        "        query_vector (np.array): Vector representation of the item to retrieve neighbors for.\n",
        "        k (int): Number of neighbors to retrieve.\n",
        "\n",
        "    Returns:\n",
        "        distances (list): Distances to top-k nearest neighbors.\n",
        "        indices (list): Indices of top-k nearest neighbors.\n",
        "    \"\"\"\n",
        "    # Your code goes here\n",
        "    # Note: You'll need to reference the `item_vectors` object to calculate distances\n",
        "\n",
        "    distances = np.linalg.norm(item_vectors - query_vector, axis=1)\n",
        "\n",
        "    indices = np.argsort(distances)[:k]\n",
        "\n",
        "    distances = distances[indices]\n",
        "\n",
        "    return distances.tolist(), indices.tolist()"
      ]
    },
    {
      "cell_type": "markdown",
      "id": "b8a895ce-4f0b-41a5-8243-90f18bff8d7b",
      "metadata": {
        "id": "b8a895ce-4f0b-41a5-8243-90f18bff8d7b"
      },
      "source": [
        "With your top-k NN function implemented, call this function to get the top-k nearest neighbor items for the query_vector and print relevant statistics:"
      ]
    },
    {
      "cell_type": "code",
      "execution_count": null,
      "id": "7686a243-327c-4334-9670-4229439bf77e",
      "metadata": {
        "id": "7686a243-327c-4334-9670-4229439bf77e"
      },
      "outputs": [],
      "source": [
        "# Helper function to run our KNN functions\n",
        "\n",
        "def run_knn(knn_function, query_vector, k=5):\n",
        "    \"\"\"\n",
        "    Helper function to run our KNN functions.\n",
        "\n",
        "    Args:\n",
        "        knn_function (function): Object that returns distances and indices given a query vector.\n",
        "        query_vector (np.array): Vector representation of the item to retrieve neighbors for.\n",
        "        k (int): Number of neighbors to retrieve.\n",
        "    \"\"\"\n",
        "    start_time = time.time()\n",
        "    distances, indices = knn_function(query_vector, k=k)\n",
        "    average_distance = np.mean(distances)\n",
        "    end_time = time.time()\n",
        "    runtime = (end_time - start_time) * 1000\n",
        "    print(f\"Distances from the k nearest neighbors: {distances}\")\n",
        "    print(f\"Indices from the k nearest neighbors: {indices}\")\n",
        "    print(f\"Average distance of the k nearest neighbors: {average_distance}\")\n",
        "    return distances, indices, average_distance, runtime"
      ]
    },
    {
      "cell_type": "code",
      "execution_count": null,
      "id": "f0b6fca6-4d83-4c2b-ab8e-dba4d112a44a",
      "metadata": {
        "id": "f0b6fca6-4d83-4c2b-ab8e-dba4d112a44a"
      },
      "outputs": [],
      "source": [
        "# We've chosen the query vector for convenience\n",
        "query_vector = item_vectors[0].reshape(1,-1)"
      ]
    },
    {
      "cell_type": "code",
      "execution_count": null,
      "id": "abe9523d-58d6-478e-ba0c-4bb7907a7e55",
      "metadata": {
        "id": "abe9523d-58d6-478e-ba0c-4bb7907a7e55",
        "colab": {
          "base_uri": "https://localhost:8080/"
        },
        "outputId": "b4ead013-ba87-44a2-f918-7c70455dae27"
      },
      "outputs": [
        {
          "output_type": "stream",
          "name": "stdout",
          "text": [
            "Distances from the k nearest neighbors: [0.0, 2.2075490951538086, 2.2283101081848145, 2.2385754585266113, 2.248366117477417]\n",
            "Indices from the k nearest neighbors: [0, 260846, 120114, 257179, 119384]\n",
            "Average distance of the k nearest neighbors: 1.7845601558685302\n",
            "CPU times: user 139 ms, sys: 53.2 ms, total: 192 ms\n",
            "Wall time: 199 ms\n"
          ]
        },
        {
          "output_type": "execute_result",
          "data": {
            "text/plain": [
              "([0.0,\n",
              "  2.2075490951538086,\n",
              "  2.2283101081848145,\n",
              "  2.2385754585266113,\n",
              "  2.248366117477417],\n",
              " [0, 260846, 120114, 257179, 119384],\n",
              " 1.7845601558685302,\n",
              " 197.34573364257812)"
            ]
          },
          "metadata": {},
          "execution_count": 25
        }
      ],
      "source": [
        "%%time\n",
        "run_knn(find_top_k_nn, query_vector, k=5)"
      ]
    },
    {
      "cell_type": "markdown",
      "source": [
        "## **4. Faiss**\n",
        "[back to top](#scrollTo=qfTG6NXWGjQt&uniqifier=1)"
      ],
      "metadata": {
        "id": "TRAg9cqeMiKl"
      },
      "id": "TRAg9cqeMiKl"
    },
    {
      "cell_type": "markdown",
      "id": "bd4452f5-ce17-43df-95f2-e9b58e8cad5e",
      "metadata": {
        "id": "bd4452f5-ce17-43df-95f2-e9b58e8cad5e"
      },
      "source": [
        "Now we'll switch to using [Faiss](https://github.com/facebookresearch/faiss) for our KNN.  \n",
        "  \n",
        "<br>Given a set of vectors x<sub>i</sub> in dimension d, Faiss builds a data structure in RAM. After the structure is constructed, when given a new vector x in dimension d, it efficiently performs:\n",
        "\n",
        "i = argmin<sub>i</sub> ||x - x<sub>i</sub>||\n",
        "\n",
        "where ||.|| is the Euclidean distance (L2).\n",
        "\n",
        "If Faiss terms, the data structure is an index, an object that has an add method to add x<sub>i</sub> vectors. Note that the x<sub>i</sub>'s are assumed to be fixed. Computing the argmin is the search operation on the index.  \n",
        "  \n",
        "<br>\n",
        "\n",
        "### Indexes used by Faiss\n",
        "\n",
        "1. The inverted file from [Video google: A text retrieval approach to object matching in videos](https://www.robots.ox.ac.uk/~vgg/publications/papers/sivic03.pdf). This is the key to non-exhaustive search in large datasets. Otherwise all searches would need to scan all elements in the index, which is prohibitive even with a fast operation.\n",
        "\n",
        "\n",
        "2. The product quantization (PQ) method from [Product quantization for nearest neighbor search](https://lear.inrialpes.fr/pubs/2011/JDS11/jegou_searching_with_quantization.pdf). This can be seen as a lossy compression technique for high-dimensional vectors that allows relatively accurate reconstructions and distance computations in the compressed domain.\n",
        "\n",
        "\n",
        "3. The three-level quantization (IVFADC-R aka IndexIVFPQR) method from [Searching in one billion vectors: re-rank with source coding](https://arxiv.org/pdf/1102.3828.pdf).\n",
        "\n",
        "\n",
        "We will use these three indexes from Faiss to search our vectors to get the top-k nearest neighbours and estimate the average distance:"
      ]
    },
    {
      "cell_type": "code",
      "execution_count": null,
      "id": "76487ec4-a020-4ccd-aa33-f6ef25869048",
      "metadata": {
        "colab": {
          "base_uri": "https://localhost:8080/"
        },
        "id": "76487ec4-a020-4ccd-aa33-f6ef25869048",
        "outputId": "c12dd10c-44de-4e17-ce67-dedacc9e0998"
      },
      "outputs": [
        {
          "output_type": "stream",
          "name": "stdout",
          "text": [
            "Total number of vectors indexed: 500,000\n",
            "CPU times: user 39.1 ms, sys: 67.6 ms, total: 107 ms\n",
            "Wall time: 97.6 ms\n"
          ]
        }
      ],
      "source": [
        "%%time\n",
        "\n",
        "# Build flat index\n",
        "# Docs: https://faiss.ai/cpp_api/struct/structfaiss_1_1IndexFlatL2.html\n",
        "index1 = faiss.IndexFlatL2(item_vectors.shape[1])\n",
        "\n",
        "# Add vectors\n",
        "index1.add(item_vectors)\n",
        "\n",
        "print(f\"Total number of vectors indexed: {index1.ntotal:,}\")"
      ]
    },
    {
      "cell_type": "code",
      "execution_count": null,
      "id": "0930bea9-bef2-4876-8a0d-117ac2c7d577",
      "metadata": {
        "colab": {
          "base_uri": "https://localhost:8080/"
        },
        "id": "0930bea9-bef2-4876-8a0d-117ac2c7d577",
        "outputId": "8cf9eb4d-987d-4b02-f0d0-a8181b1ed6af"
      },
      "outputs": [
        {
          "output_type": "stream",
          "name": "stdout",
          "text": [
            "Total number of vectors indexed: 500,000 \n",
            "CPU times: user 812 ms, sys: 74.3 ms, total: 887 ms\n",
            "Wall time: 498 ms\n"
          ]
        }
      ],
      "source": [
        "%%time\n",
        "\n",
        "# Build quantizer\n",
        "quantizer = faiss.IndexFlatL2(item_vectors.shape[1])\n",
        "\n",
        "# Build inverted index\n",
        "# Docs: https://faiss.ai/cpp_api/struct/structfaiss_1_1IndexIVFFlat.html\n",
        "nlist = 100 # number of possible key values\n",
        "index2 = faiss.IndexIVFFlat(quantizer, item_vectors.shape[1], nlist, faiss.METRIC_L2)\n",
        "\n",
        "# Train index and add vectors\n",
        "index2.train(item_vectors)\n",
        "index2.add(item_vectors)\n",
        "\n",
        "print(f\"Total number of vectors indexed: {index2.ntotal:,} \")"
      ]
    },
    {
      "cell_type": "code",
      "execution_count": null,
      "id": "c081de1d-dad0-4277-a739-42a3b924b138",
      "metadata": {
        "colab": {
          "base_uri": "https://localhost:8080/"
        },
        "id": "c081de1d-dad0-4277-a739-42a3b924b138",
        "outputId": "79f29da5-e9d1-4282-cc39-64b93e83358f"
      },
      "outputs": [
        {
          "output_type": "stream",
          "name": "stdout",
          "text": [
            "Total number of vectors indexed: 500,000 \n",
            "CPU times: user 8.16 s, sys: 37 ms, total: 8.19 s\n",
            "Wall time: 6.45 s\n"
          ]
        }
      ],
      "source": [
        "%%time\n",
        "\n",
        "# Build quantizer\n",
        "quantizer = faiss.IndexFlatL2(item_vectors.shape[1])\n",
        "\n",
        "# Build product quantized index\n",
        "# Docs: https://faiss.ai/cpp_api/struct/structfaiss_1_1IndexIVFPQ.html\n",
        "nlist = 100\n",
        "m = 8 # max number of codes to visit to do a query\n",
        "num_bits = 8 # number of bits per index\n",
        "index3 = faiss.IndexIVFPQ(quantizer, item_vectors.shape[1],\n",
        "                          nlist, m, num_bits)\n",
        "\n",
        "# Train index and add vectors\n",
        "index3.train(item_vectors)\n",
        "index3.add(item_vectors)\n",
        "\n",
        "print(f\"Total number of vectors indexed: {index3.ntotal:,} \")"
      ]
    },
    {
      "cell_type": "markdown",
      "id": "047a6682-f771-4672-8998-307f4cfad5f5",
      "metadata": {
        "id": "047a6682-f771-4672-8998-307f4cfad5f5"
      },
      "source": [
        "Now that we have these three indexes, let us query these to fetch the top-k nearest neghbours for our query_vector and compute the average distance we obtain for each.\n",
        "\n",
        "Now we'll use and time these indexes to find the top-k nearest neighbours to highlight the trade-off between accuracy and latency:"
      ]
    },
    {
      "cell_type": "code",
      "execution_count": null,
      "id": "261db067-49b1-466a-9dfd-cfd544099fb0",
      "metadata": {
        "colab": {
          "base_uri": "https://localhost:8080/"
        },
        "id": "261db067-49b1-466a-9dfd-cfd544099fb0",
        "outputId": "e488cc83-6eaa-44fc-f7e5-b15cfd46958e"
      },
      "outputs": [
        {
          "output_type": "stream",
          "name": "stdout",
          "text": [
            "Distances from the k nearest neighbors: [[0.        4.873273  4.9653664 5.01122   5.055151 ]]\n",
            "Indices from the k nearest neighbors: [[     0 260846 120114 257179 119384]]\n",
            "Average distance of the k nearest neighbors: 3.98100209236145\n",
            "CPU times: user 16.7 ms, sys: 0 ns, total: 16.7 ms\n",
            "Wall time: 18.4 ms\n"
          ]
        },
        {
          "output_type": "execute_result",
          "data": {
            "text/plain": [
              "(array([[0.       , 4.873273 , 4.9653664, 5.01122  , 5.055151 ]],\n",
              "       dtype=float32),\n",
              " array([[     0, 260846, 120114, 257179, 119384]]),\n",
              " 3.981002,\n",
              " 16.680479049682617)"
            ]
          },
          "metadata": {},
          "execution_count": 29
        }
      ],
      "source": [
        "%%time\n",
        "run_knn(index1.search, query_vector, k=5)"
      ]
    },
    {
      "cell_type": "code",
      "execution_count": null,
      "id": "4603327e-195a-4f9b-b5c5-8930cbdadaba",
      "metadata": {
        "colab": {
          "base_uri": "https://localhost:8080/"
        },
        "id": "4603327e-195a-4f9b-b5c5-8930cbdadaba",
        "outputId": "d0ce4fcd-4e55-4ba9-96c7-034ee6de407c"
      },
      "outputs": [
        {
          "output_type": "stream",
          "name": "stdout",
          "text": [
            "Distances from the k nearest neighbors: [[0.        5.055151  5.3904743 5.531457  5.6039724]]\n",
            "Indices from the k nearest neighbors: [[     0 119384  38201 409057  27690]]\n",
            "Average distance of the k nearest neighbors: 4.316210746765137\n",
            "CPU times: user 2.86 ms, sys: 0 ns, total: 2.86 ms\n",
            "Wall time: 2.87 ms\n"
          ]
        },
        {
          "output_type": "execute_result",
          "data": {
            "text/plain": [
              "(array([[0.       , 5.055151 , 5.3904743, 5.531457 , 5.6039724]],\n",
              "       dtype=float32),\n",
              " array([[     0, 119384,  38201, 409057,  27690]]),\n",
              " 4.3162107,\n",
              " 1.0869503021240234)"
            ]
          },
          "metadata": {},
          "execution_count": 30
        }
      ],
      "source": [
        "%%time\n",
        "run_knn(index2.search, query_vector, k=5)"
      ]
    },
    {
      "cell_type": "code",
      "execution_count": null,
      "id": "ae0a8555-a57d-4517-af4a-fe079e93352d",
      "metadata": {
        "colab": {
          "base_uri": "https://localhost:8080/"
        },
        "id": "ae0a8555-a57d-4517-af4a-fe079e93352d",
        "outputId": "87887d4f-fc81-4718-9f2d-704f42ba3d4a"
      },
      "outputs": [
        {
          "output_type": "stream",
          "name": "stdout",
          "text": [
            "Distances from the k nearest neighbors: [[1.6363606 5.3372316 5.426313  5.443817  5.487928 ]]\n",
            "Indices from the k nearest neighbors: [[     0 409057  72742  27690  38201]]\n",
            "Average distance of the k nearest neighbors: 4.666330337524414\n",
            "CPU times: user 751 µs, sys: 0 ns, total: 751 µs\n",
            "Wall time: 758 µs\n"
          ]
        },
        {
          "output_type": "execute_result",
          "data": {
            "text/plain": [
              "(array([[1.6363606, 5.3372316, 5.426313 , 5.443817 , 5.487928 ]],\n",
              "       dtype=float32),\n",
              " array([[     0, 409057,  72742,  27690,  38201]]),\n",
              " 4.6663303,\n",
              " 0.2892017364501953)"
            ]
          },
          "metadata": {},
          "execution_count": 31
        }
      ],
      "source": [
        "%%time\n",
        "run_knn(index3.search, query_vector, k=5)"
      ]
    },
    {
      "cell_type": "markdown",
      "id": "c2c902e3-c9bf-408e-9052-11af5a3b069f",
      "metadata": {
        "id": "c2c902e3-c9bf-408e-9052-11af5a3b069f"
      },
      "source": [
        "As expected, we observe that the product quantization and inverted based indexes are an order of magnitude faster than the flat index while the average distance is larger. In terms of accuracy, if we assume that the lower the distance the more accurate the result, the Flat Index gives us the most accurate result but is relatively slow."
      ]
    },
    {
      "cell_type": "markdown",
      "source": [
        "## **5. TODO 3.2: KNN Comparison**\n",
        "[back to top](#scrollTo=qfTG6NXWGjQt&uniqifier=1)"
      ],
      "metadata": {
        "id": "-2Xh5R8xT3to"
      },
      "id": "-2Xh5R8xT3to"
    },
    {
      "cell_type": "markdown",
      "id": "044a818f-19ab-4c26-8532-922c9aa1d673",
      "metadata": {
        "id": "044a818f-19ab-4c26-8532-922c9aa1d673"
      },
      "source": [
        "Your second goal in this section is to compare your KNN to the 3 Faiss indexes we created above: Compare the average distance obtained and the time it took to query the 500k vectors. A nice 2D plot would also give you a good idea of the latency-accuracy trade-off involved."
      ]
    },
    {
      "cell_type": "code",
      "execution_count": null,
      "id": "2e69dd09-6a21-49a8-8ca8-4d5164a7e674",
      "metadata": {
        "id": "2e69dd09-6a21-49a8-8ca8-4d5164a7e674"
      },
      "outputs": [],
      "source": [
        "IndexFlatL2 = index1.search\n",
        "IndexIVFFlat = index2.search\n",
        "IndexIVFPQ = index3.search"
      ]
    },
    {
      "cell_type": "code",
      "source": [
        "functions = [find_top_k_nn, IndexFlatL2, IndexIVFFlat, IndexIVFPQ]\n",
        "functionss_names = [\"kNN\", \"IndexFlatL2\", \"IndexIVFFlat\", \"IndexIVFPQ\"]\n",
        "\n",
        "results = []\n",
        "\n",
        "# Loop through the list of functions\n",
        "for i in range(len(functions)):\n",
        "    distances, indices, average_distance, runtime = run_knn(functions[i], query_vector)\n",
        "    results.append((functionss_names[i], average_distance, runtime))\n",
        "\n",
        "# Separate the results for plotting\n",
        "names, avg_distances, runtimes = zip(*results)\n",
        "\n",
        "# Plotting\n",
        "plt.figure()\n",
        "plt.scatter(runtimes, avg_distances)\n",
        "\n",
        "# Annotating the points\n",
        "for i, name in enumerate(names):\n",
        "    plt.annotate(name, (runtimes[i], avg_distances[i]))\n",
        "\n",
        "# Setting labels and title\n",
        "plt.xlabel('Time (milliseconds)')\n",
        "plt.ylabel('Average Distance')\n",
        "plt.title('Time vs Average Distance for Different Search Functions')\n",
        "\n",
        "# Show plot\n",
        "plt.show()"
      ],
      "metadata": {
        "colab": {
          "base_uri": "https://localhost:8080/",
          "height": 680
        },
        "id": "8pMfiVF7rapb",
        "outputId": "57ea6b21-cb9a-4dd3-ef6c-d8eb375a3874"
      },
      "id": "8pMfiVF7rapb",
      "execution_count": null,
      "outputs": [
        {
          "output_type": "stream",
          "name": "stdout",
          "text": [
            "Distances from the k nearest neighbors: [0.0, 2.2075490951538086, 2.2283101081848145, 2.2385754585266113, 2.248366117477417]\n",
            "Indices from the k nearest neighbors: [0, 260846, 120114, 257179, 119384]\n",
            "Average distance of the k nearest neighbors: 1.7845601558685302\n",
            "Distances from the k nearest neighbors: [[0.        4.873273  4.9653664 5.01122   5.055151 ]]\n",
            "Indices from the k nearest neighbors: [[     0 260846 120114 257179 119384]]\n",
            "Average distance of the k nearest neighbors: 3.98100209236145\n",
            "Distances from the k nearest neighbors: [[0.        5.055151  5.3904743 5.531457  5.6039724]]\n",
            "Indices from the k nearest neighbors: [[     0 119384  38201 409057  27690]]\n",
            "Average distance of the k nearest neighbors: 4.316210746765137\n",
            "Distances from the k nearest neighbors: [[1.6363606 5.3372316 5.426313  5.443817  5.487928 ]]\n",
            "Indices from the k nearest neighbors: [[     0 409057  72742  27690  38201]]\n",
            "Average distance of the k nearest neighbors: 4.666330337524414\n"
          ]
        },
        {
          "output_type": "display_data",
          "data": {
            "text/plain": [
              "<Figure size 640x480 with 1 Axes>"
            ],
            "image/png": "[encoded data removed]"
          },
          "metadata": {}
        }
      ]
    },
    {
      "cell_type": "markdown",
      "id": "e127987e-44f9-43b3-9219-1036edd0d14c",
      "metadata": {
        "id": "e127987e-44f9-43b3-9219-1036edd0d14c"
      },
      "source": [
        "# <u>User Representations:</u>"
      ]
    },
    {
      "cell_type": "markdown",
      "source": [
        "## **1. Introduction**\n",
        "[back to top](#scrollTo=qfTG6NXWGjQt&uniqifier=1)"
      ],
      "metadata": {
        "id": "Yk2dt4l1VS_A"
      },
      "id": "Yk2dt4l1VS_A"
    },
    {
      "cell_type": "markdown",
      "id": "13c18e33-3a62-4afe-95af-9d33ef87917c",
      "metadata": {
        "id": "13c18e33-3a62-4afe-95af-9d33ef87917c"
      },
      "source": [
        "In the second part of this week's project, we'll establish a few ways of estimating user representations and understand how each impacts the performance of a ranker.  \n",
        "  \n",
        "<br>More broadly, we will:\n",
        "* Fix the article representations\n",
        "* Fix the downstream task (ranking)\n",
        "* Vary the user representations\n",
        "* Measure changes in performance in terms of MRR\n",
        "  \n",
        "<br>**This section benefits from using a GPU!**  \n",
        "You can use it for free, in Google Colab, by going to the menu bar above, selecting `Runtime`, then `Change runtime type`, then selecting `GPU` as the `Hardware accelerator`."
      ]
    },
    {
      "cell_type": "markdown",
      "source": [
        "## **2. Setup**\n",
        "[back to top](#scrollTo=qfTG6NXWGjQt&uniqifier=1)"
      ],
      "metadata": {
        "id": "oU7Z49ymW5yO"
      },
      "id": "oU7Z49ymW5yO"
    },
    {
      "cell_type": "code",
      "source": [
        "!pip install pip==22.0"
      ],
      "metadata": {
        "colab": {
          "base_uri": "https://localhost:8080/"
        },
        "id": "1ZXltXlvHMIC",
        "outputId": "a98c8055-9fef-434b-983f-e5c9e7945cec"
      },
      "id": "1ZXltXlvHMIC",
      "execution_count": null,
      "outputs": [
        {
          "output_type": "stream",
          "name": "stdout",
          "text": [
            "Collecting pip==22.0\n",
            "  Downloading pip-22.0-py3-none-any.whl (2.1 MB)\n",
            "\u001b[2K     \u001b[90m━━━━━━━━━━━━━━━━━━━━━━━━━━━━━━━━━━━━━━━━\u001b[0m \u001b[32m2.1/2.1 MB\u001b[0m \u001b[31m14.1 MB/s\u001b[0m eta \u001b[36m0:00:00\u001b[0m\n",
            "\u001b[?25hInstalling collected packages: pip\n",
            "  Attempting uninstall: pip\n",
            "    Found existing installation: pip 23.1.2\n",
            "    Uninstalling pip-23.1.2:\n",
            "      Successfully uninstalled pip-23.1.2\n",
            "\u001b[31mERROR: pip's dependency resolver does not currently take into account all the packages that are installed. This behaviour is the source of the following dependency conflicts.\n",
            "pip-tools 6.13.0 requires pip>=22.2, but you have pip 22.0 which is incompatible.\u001b[0m\u001b[31m\n",
            "\u001b[0mSuccessfully installed pip-22.0\n"
          ]
        }
      ]
    },
    {
      "cell_type": "code",
      "source": [
        "# Installs and imports\n",
        "\n",
        "# Install LightGBM with GPU support\n",
        "!pip uninstall lightgbm --y\n",
        "!pip install lightgbm[gpu]"
      ],
      "metadata": {
        "id": "KAgpyXiduDc8"
      },
      "id": "KAgpyXiduDc8",
      "execution_count": null,
      "outputs": []
    },
    {
      "cell_type": "code",
      "source": [
        "# Install dependencies\n",
        "!apt-get update\n",
        "!apt-get install -y cmake libboost-all-dev\n",
        "\n",
        "# Clone LightGBM repository\n",
        "!git clone --recursive https://github.com/microsoft/LightGBM\n",
        "\n",
        "# Create build directory\n",
        "%cd LightGBM\n",
        "!mkdir build\n",
        "%cd build\n",
        "\n",
        "# Configure build with GPU support\n",
        "!cmake -DUSE_GPU=1 ..\n",
        "\n",
        "# Build and install LightGBM\n",
        "!make -j4\n",
        "!make install"
      ],
      "metadata": {
        "id": "-ygyPQZDH4Ot"
      },
      "id": "-ygyPQZDH4Ot",
      "execution_count": null,
      "outputs": []
    },
    {
      "cell_type": "code",
      "source": [
        "!apt-get install libnvidia-compute-525"
      ],
      "metadata": {
        "id": "wQ_VNlK2JHdi"
      },
      "id": "wQ_VNlK2JHdi",
      "execution_count": null,
      "outputs": []
    },
    {
      "cell_type": "code",
      "source": [
        "!mkdir -p /etc/OpenCL/vendors && echo \"libnvidia-opencl.so.1\" > /etc/OpenCL/vendors/nvidia.icd"
      ],
      "metadata": {
        "id": "gI0-BQoGJNMM"
      },
      "id": "gI0-BQoGJNMM",
      "execution_count": null,
      "outputs": []
    },
    {
      "cell_type": "code",
      "execution_count": null,
      "id": "251abdd1-1cd4-41f9-af70-23d22a1aa455",
      "metadata": {
        "id": "251abdd1-1cd4-41f9-af70-23d22a1aa455"
      },
      "outputs": [],
      "source": [
        "import numpy as np\n",
        "import pandas as pd\n",
        "import random\n",
        "import gc\n",
        "from sklearn.feature_extraction.text import TfidfVectorizer\n",
        "from sklearn.decomposition import TruncatedSVD\n",
        "from gensim.models import Doc2Vec\n",
        "from gensim.models.doc2vec import TaggedDocument\n",
        "import lightgbm as lgb\n",
        "from datetime import timedelta\n",
        "from tqdm import tqdm\n",
        "import h5py\n",
        "import os\n",
        "import shutil\n",
        "from collections import defaultdict\n",
        "from IPython.display import clear_output\n",
        "\n",
        "clear_output()"
      ]
    },
    {
      "cell_type": "code",
      "source": [
        "# Download data\n",
        "!pip install -U --no-cache-dir gdown --pre\n",
        "!gdown --no-cookies --folder https://drive.google.com/drive/folders/1j9QpkSKwqFfpgohbVxdPDKuwmwJXZ6yz?usp=sharing\n",
        "\n",
        "clear_output()"
      ],
      "metadata": {
        "id": "2qqBlHJTXqgL"
      },
      "id": "2qqBlHJTXqgL",
      "execution_count": null,
      "outputs": []
    },
    {
      "cell_type": "markdown",
      "id": "5ab51d11-a651-45c5-ac15-f7dc6d9993d8",
      "metadata": {
        "id": "5ab51d11-a651-45c5-ac15-f7dc6d9993d8"
      },
      "source": [
        "Assemble train and test sets as we've done in previous notebooks:"
      ]
    },
    {
      "cell_type": "code",
      "execution_count": null,
      "id": "dd30ce60-cc85-47cc-b9cf-4afc85d93d80",
      "metadata": {
        "id": "dd30ce60-cc85-47cc-b9cf-4afc85d93d80"
      },
      "outputs": [],
      "source": [
        "# Read in data into memory with some explicit datatypes so they're easier to work with\n",
        "\n",
        "tran_dtypes = {\"t_dat\":\"str\",\n",
        "               \"customer_id\":\"str\",\n",
        "               \"article_id\":\"int\",\n",
        "               \"product_code\":\"int\",\n",
        "               \"price\":\"float\",\n",
        "               \"sales_channel_id\":\"int\"}\n",
        "art_dtypes = {\"article_id\":\"int\",\n",
        "              \"product_code\":\"int\",\n",
        "              \"product_type_no\":\"int\",\n",
        "              \"graphical_appearance_no\":\"int\",\n",
        "              \"colour_group_code\":\"int\",\n",
        "              \"department_no\":\"int\",\n",
        "              \"index_code\":\"str\",\n",
        "              \"index_group_no\":\"int\",\n",
        "              \"section_no\":\"int\",\n",
        "              \"garment_group_no\":\"int\"}\n",
        "cust_dtypes = {\"customer_id\":\"str\"}\n",
        "\n",
        "article_df = pd.read_csv(\"hmdata/articles.csv.zip\", dtype=art_dtypes)\n",
        "customer_df = pd.read_csv(\"hmdata/customers.csv.zip\", dtype=cust_dtypes)\n",
        "transaction_df = pd.read_csv('hmdata/transactions_train.csv.zip', dtype=tran_dtypes)"
      ]
    },
    {
      "cell_type": "code",
      "execution_count": null,
      "id": "b4fccef4-15d3-4f2e-865c-d6923baceb3b",
      "metadata": {
        "id": "b4fccef4-15d3-4f2e-865c-d6923baceb3b",
        "colab": {
          "base_uri": "https://localhost:8080/"
        },
        "outputId": "731cf97b-1dfd-4ac1-9f95-3ad81e8531e6"
      },
      "outputs": [
        {
          "output_type": "execute_result",
          "data": {
            "text/plain": [
              "0"
            ]
          },
          "metadata": {},
          "execution_count": 10
        }
      ],
      "source": [
        "# Create train and test sets\n",
        "\n",
        "N_DAYS_TRAIN = 45\n",
        "N_DAYS_TEST = 7\n",
        "\n",
        "max_date = transaction_df['t_dat'].max()\n",
        "train = transaction_df[(transaction_df['t_dat']>=((pd.to_datetime(max_date) - timedelta(days=N_DAYS_TRAIN+N_DAYS_TEST)).date().strftime('%Y-%m-%d')))\n",
        "                       & (transaction_df['t_dat']<((pd.to_datetime(max_date) - timedelta(days=N_DAYS_TEST)).date().strftime('%Y-%m-%d')))]\n",
        "test = transaction_df[(transaction_df['t_dat']>=((pd.to_datetime(max_date) - timedelta(days=N_DAYS_TEST)).date().strftime('%Y-%m-%d')))]\n",
        "\n",
        "# Delete transaction_df from the namespace to free up some memory\n",
        "transaction_df = None\n",
        "del transaction_df\n",
        "gc.collect()"
      ]
    },
    {
      "cell_type": "code",
      "execution_count": null,
      "id": "1bd281c2-0886-405c-bd18-626a7b4e5ddd",
      "metadata": {
        "id": "1bd281c2-0886-405c-bd18-626a7b4e5ddd",
        "colab": {
          "base_uri": "https://localhost:8080/"
        },
        "outputId": "53eb677f-9edb-474a-9d80-660d75d0515d"
      },
      "outputs": [
        {
          "output_type": "execute_result",
          "data": {
            "text/plain": [
              "0"
            ]
          },
          "metadata": {},
          "execution_count": 11
        }
      ],
      "source": [
        "# Remove users from test that are not in train to remove cold-start scenarios\n",
        "test = test[test['customer_id'].isin(train['customer_id'].unique())]\n",
        "\n",
        "# Make distinction between train and test articles since we'll be creating article representations using the training set\n",
        "train_article_df = article_df[article_df['article_id'].isin(train['article_id'].unique())].copy()\n",
        "test_article_df = article_df[~article_df['article_id'].isin(train['article_id'].unique())].copy()\n",
        "\n",
        "# Free up memory again\n",
        "gc.collect()"
      ]
    },
    {
      "cell_type": "code",
      "execution_count": null,
      "id": "de284215-b7bf-46e6-b554-0584aeeb1a8e",
      "metadata": {
        "id": "de284215-b7bf-46e6-b554-0584aeeb1a8e",
        "colab": {
          "base_uri": "https://localhost:8080/"
        },
        "outputId": "00159749-7e09-4b34-96ab-5eb5eb65fe25"
      },
      "outputs": [
        {
          "output_type": "stream",
          "name": "stderr",
          "text": [
            "100%|██████████| 1769097/1769097 [00:05<00:00, 336105.99it/s]\n",
            "100%|██████████| 149631/149631 [00:00<00:00, 485875.73it/s]\n"
          ]
        },
        {
          "output_type": "execute_result",
          "data": {
            "text/plain": [
              "((5307291, 3), (448893, 3))"
            ]
          },
          "metadata": {},
          "execution_count": 12
        }
      ],
      "source": [
        "# Generate N negative samples per row (user-article transaction)\n",
        "\n",
        "def generate_negative_samples(df, article_list, num_neg=1, negative_sample_multiplier=20):\n",
        "    \"\"\"\n",
        "    Generates `num_neg` negative samples from `article_list` per row (customer_id, article_id interaction) in `df`.\n",
        "\n",
        "    Args:\n",
        "        df (DataFrame): Positive transactions between customers and articles. Expects features `customer_id` and `article_id`.\n",
        "        article_list (list): Article IDs for negative sampling.\n",
        "        num_neg (int): Number of negative samples to generate per row.\n",
        "        negative_sample_multiplier (int): Multiplier that allows us to randomly sample negative candidates all at once.\n",
        "            Necessary to be larger than 1 in most cases since we will filter out some candidates.\n",
        "\n",
        "    Raises:\n",
        "        Warning in case we did not generate the intended number of negative samples per row.\n",
        "\n",
        "    Returns:\n",
        "        negative_df (DataFrame): Original, positive samples concatenated with generated, negative samples.\n",
        "    \"\"\"\n",
        "    # Create lookup of positive samples. We don't want to include negative samples that are actually positives\n",
        "    customer2positives = dict(df.groupby('customer_id')['article_id'].apply(lambda x: x.values))\n",
        "    customer2positives = {k:set(v) for k,v in customer2positives.items()}\n",
        "\n",
        "    # Sample random negatives all at once\n",
        "    np.random.seed(42)\n",
        "    random_sample_size = (len(df), num_neg*negative_sample_multiplier)\n",
        "    random_samples = np.random.choice(article_list,\n",
        "                                      size=random_sample_size,\n",
        "                                      replace=True)\n",
        "\n",
        "    # Generate negative samples\n",
        "    customers, articles, labels = [], [], []\n",
        "    for n, (customer_id, article_id) in enumerate(tqdm(zip(df['customer_id'], df['article_id']), total=len(df),\n",
        "                                                       leave=True, position=0)):\n",
        "        customers.append(customer_id)\n",
        "        articles.append(article_id)\n",
        "        labels.append(1)\n",
        "        count, temp_negatives = 0, set()\n",
        "        for negative_id in random_samples[n]:\n",
        "            if (negative_id not in customer2positives[customer_id]) \\\n",
        "                & (negative_id not in temp_negatives):\n",
        "                customers.append(customer_id)\n",
        "                articles.append(negative_id)\n",
        "                labels.append(0)\n",
        "                temp_negatives.add(negative_id)\n",
        "                count += 1\n",
        "            if count == num_neg:\n",
        "                break\n",
        "\n",
        "    # Create result dataframe of positives and negatives, and data quality check\n",
        "    negative_df = pd.DataFrame({'customer_id':customers, 'article_id':articles, 'label':labels})\n",
        "    if len(negative_df) != (len(df)*num_neg+len(df)):\n",
        "        print('WARNING: Not enough samples generated. Increase `negative_sample_multiplier`.')\n",
        "    return negative_df\n",
        "\n",
        "\n",
        "# Note: We only generate negative samples from the training set to avoid leakage\n",
        "articles_set = list(train.article_id.unique())\n",
        "train_negative = generate_negative_samples(train, articles_set, num_neg=2)\n",
        "test_negative = generate_negative_samples(test, articles_set, num_neg=2)\n",
        "\n",
        "train_negative.shape, test_negative.shape"
      ]
    },
    {
      "cell_type": "markdown",
      "source": [
        "## **3. Initial User and Item Representations**\n",
        "[back to top](#scrollTo=qfTG6NXWGjQt&uniqifier=1)"
      ],
      "metadata": {
        "id": "Frr6CK1NX6dJ"
      },
      "id": "Frr6CK1NX6dJ"
    },
    {
      "cell_type": "markdown",
      "id": "3df9c2e0-af9e-406d-a9c6-c38a87347728",
      "metadata": {
        "id": "3df9c2e0-af9e-406d-a9c6-c38a87347728"
      },
      "source": [
        "We'll start by extracting our fixed article representations by taking the raw categorical features and concatenating them with TF-IDF  representations of article descriptions. We then process them with SVD. In total TF-IDF followed by SVD is a technique known as [Latent Semantic Indexing (LSI)](https://radimrehurek.com/gensim/models/lsimodel.html)."
      ]
    },
    {
      "cell_type": "code",
      "execution_count": null,
      "id": "2f0d3430-6ff8-4d07-9707-83d332492c9d",
      "metadata": {
        "colab": {
          "base_uri": "https://localhost:8080/"
        },
        "id": "2f0d3430-6ff8-4d07-9707-83d332492c9d",
        "outputId": "c2852f56-9ca7-4ada-cf03-f342a53718bf"
      },
      "outputs": [
        {
          "output_type": "stream",
          "name": "stdout",
          "text": [
            "CPU times: user 34.5 s, sys: 4.49 s, total: 39 s\n",
            "Wall time: 31.1 s\n"
          ]
        }
      ],
      "source": [
        "%%time\n",
        "\n",
        "def train_article_representations():\n",
        "    \"\"\"\n",
        "    Trains article representations for both the train and test sets.\n",
        "\n",
        "    Args:\n",
        "        None.\n",
        "\n",
        "    Returns:\n",
        "        article2vec (dict): Article ID to vector representation lookup.\n",
        "\n",
        "    \"\"\"\n",
        "    # Find categorical columns\n",
        "    ohe_columns = []\n",
        "    for col in train_article_df.columns:\n",
        "        if train_article_df[col].dtype == \"int64\" and len(train_article_df[col].unique()) <= 500:\n",
        "            ohe_columns.append(col)\n",
        "\n",
        "    # Get ohe article features\n",
        "    # Make sure test only has values included in train, and the order of the encodings is the same\n",
        "    train_ohe_vectors = pd.get_dummies(train_article_df[ohe_columns], columns=ohe_columns)\n",
        "    test_ohe_vectors = pd.get_dummies(test_article_df[ohe_columns], columns=ohe_columns)\n",
        "    for col in train_ohe_vectors.columns:\n",
        "        if col not in test_ohe_vectors.columns:\n",
        "            test_ohe_vectors[col] = 0\n",
        "    test_ohe_vectors = test_ohe_vectors[train_ohe_vectors.columns].values\n",
        "    train_ohe_vectors = train_ohe_vectors.values\n",
        "\n",
        "    # Get tf-idf article features\n",
        "    tfidf = TfidfVectorizer(min_df=3)\n",
        "    train_tfidf_vectors = tfidf.fit_transform(train_article_df[\"detail_desc\"].fillna(\"nodesc\"))\n",
        "    test_tfidf_vectors = tfidf.transform(test_article_df[\"detail_desc\"].fillna(\"nodesc\"))\n",
        "\n",
        "    # Represent articles as 200 element vectors using concatenated ohe and tf-idf features\n",
        "    svd = TruncatedSVD(n_components=200, random_state=42)\n",
        "    train_article_vectors = np.hstack([train_ohe_vectors,\n",
        "                                       np.asarray(train_tfidf_vectors.todense())])\n",
        "    train_article_vectors = svd.fit_transform(train_article_vectors)\n",
        "    test_article_vectors = np.hstack([test_ohe_vectors,\n",
        "                                      np.asarray(test_tfidf_vectors.todense())])\n",
        "    test_article_vectors = svd.transform(test_article_vectors)\n",
        "\n",
        "    # Create article to vector lookup\n",
        "    article2vec = dict(zip(train_article_df['article_id'], train_article_vectors))\n",
        "    article2vec.update(dict(zip(test_article_df['article_id'], test_article_vectors)))\n",
        "\n",
        "    return article2vec\n",
        "\n",
        "\n",
        "article2vec = train_article_representations()"
      ]
    },
    {
      "cell_type": "markdown",
      "id": "f0c3082e-1da7-466f-8b9f-c777c8ef63cd",
      "metadata": {
        "id": "f0c3082e-1da7-466f-8b9f-c777c8ef63cd"
      },
      "source": [
        "Next we'll write the first function to create user representations as a set of raw features:"
      ]
    },
    {
      "cell_type": "code",
      "execution_count": null,
      "id": "5de63a95-ef6c-4796-8e59-0cb33b9b948e",
      "metadata": {
        "id": "5de63a95-ef6c-4796-8e59-0cb33b9b948e"
      },
      "outputs": [],
      "source": [
        "def user_representation_1():\n",
        "    \"\"\"\n",
        "    First function to generate user representations: Raw user features.\n",
        "\n",
        "    Args:\n",
        "        None.\n",
        "\n",
        "    Returns:\n",
        "        user2vec (dictionary): Customer to vector representations lookup.\n",
        "    \"\"\"\n",
        "    df_cust = customer_df.copy()\n",
        "    df_cust[\"age\"] = df_cust[\"age\"].fillna(df_cust[\"age\"].mean())\n",
        "    df_cust[[\"FN\",\"Active\"]] = df_cust[[\"FN\",\"Active\"]].fillna(0)\n",
        "    df_cust[\"club_member_status\"] = df_cust[\"club_member_status\"].apply(lambda x:1 if x == \"ACTIVE\" else 0)\n",
        "    df_cust[\"fashion_news_frequency\"] = df_cust[\"fashion_news_frequency\"].apply(lambda x:0 if x == \"NONE\" else 1)\n",
        "    df_cust = df_cust[[\"customer_id\",\"age\",\"FN\",\"Active\",\"club_member_status\",\"fashion_news_frequency\"]]\n",
        "    user2vec = df_cust.set_index('customer_id').apply(lambda x: x.values, axis=1).to_dict()\n",
        "    return user2vec"
      ]
    },
    {
      "cell_type": "markdown",
      "source": [
        "Now we have all the ingredients we need: A basic version of user representations, article representations, and transactions data on which we can train our downstream task. We'll consider the task of predicting whether or not a user will purchase an article as we've been doing the past 2 weeks."
      ],
      "metadata": {
        "id": "P7cb1GX0ckr0"
      },
      "id": "P7cb1GX0ckr0"
    },
    {
      "cell_type": "markdown",
      "source": [
        "## **4. LightGBM as a Ranker**\n",
        "[back to top](#scrollTo=qfTG6NXWGjQt&uniqifier=1)"
      ],
      "metadata": {
        "id": "_FYTNTwUc3ot"
      },
      "id": "_FYTNTwUc3ot"
    },
    {
      "cell_type": "markdown",
      "id": "219f3784-220e-4889-ae88-09c80f556479",
      "metadata": {
        "id": "219f3784-220e-4889-ae88-09c80f556479"
      },
      "source": [
        "While we have used neural models so far, let's try a tree-based model, [LightGBM](https://lightgbm.readthedocs.io/en/v3.3.2/), for this task. Note that, due to Colab's compute constraints, it would normally be difficult to train a model with the amount of data we currently have. We've leveraged [h5py](https://docs.h5py.org/en/latest/quick.html) files, which allow for storing data on disk as opposed to in memory, so that we can train on data that is too large to fit in memory!"
      ]
    },
    {
      "cell_type": "code",
      "execution_count": null,
      "id": "21e76b18-8d9e-4a1b-bf84-a929c8f16c6f",
      "metadata": {
        "id": "21e76b18-8d9e-4a1b-bf84-a929c8f16c6f"
      },
      "outputs": [],
      "source": [
        "# Model parameters\n",
        "\n",
        "random_seed = 42\n",
        "\n",
        "lgb_params = {\n",
        "    \"objective\": \"binary\",\n",
        "    \"num_trees\":300,\n",
        "    \"max_leaves\":300,\n",
        "    \"bagging_seed\": random_seed,\n",
        "    \"random_state\": random_seed,\n",
        "    \"verbose\": 1,\n",
        "    \"device\": \"gpu\"\n",
        "}"
      ]
    },
    {
      "cell_type": "code",
      "execution_count": null,
      "id": "5e0c7a4f-8e4d-42f7-b379-1ebc870375d9",
      "metadata": {
        "id": "5e0c7a4f-8e4d-42f7-b379-1ebc870375d9"
      },
      "outputs": [],
      "source": [
        "# Train and evaluate LightGBM model\n",
        "\n",
        "def calculate_test_mrr(predictions):\n",
        "    \"\"\"\n",
        "    Calculates and prints Mean Reciprocal Rank (MRR) on the test set.\n",
        "\n",
        "    Args:\n",
        "        predictions (np.array): Model predictions.\n",
        "\n",
        "    Returns:\n",
        "        None\n",
        "    \"\"\"\n",
        "    dataframe = test_negative.copy()\n",
        "    dataframe['prediction_score'] = predictions\n",
        "    dataframe.sort_values(by=['customer_id', 'prediction_score'], ascending=False, inplace=True)\n",
        "    reciprocal_rank = dataframe.groupby('customer_id').apply(lambda x: 1/(np.where(x['label']==1)[0][0]+1))\n",
        "    dataframe.drop('prediction_score', axis=1, inplace=True)\n",
        "    print(f'Test MRR: {reciprocal_rank.mean():.4f}')\n",
        "    print('Distribution:')\n",
        "    display(reciprocal_rank.describe())\n",
        "\n",
        "\n",
        "def evaluate(model, user2vec, article2vec):\n",
        "    \"\"\"\n",
        "    Evaluates trained models.\n",
        "\n",
        "    Args:\n",
        "        model (LightGBM Model): Trained LightGBM model for inference.\n",
        "        train_features (np.array): Raw train data in the same format used during training.\n",
        "        test_features (np.array): Raw test data in the same format used during training.\n",
        "\n",
        "    Returns:\n",
        "        None\n",
        "    \"\"\"\n",
        "\n",
        "    # Make predictions\n",
        "    preds = []\n",
        "    for i in tqdm(range(0, len(test_negative), 100000)):\n",
        "        X_chunk = np.concatenate([np.stack(test_negative['customer_id'].iloc[i:(i+100000)].map(user2vec).values),\n",
        "                                  np.stack(test_negative['article_id'].iloc[i:(i+100000)].map(article2vec).values)], axis=1)\n",
        "        preds.extend(model.predict(X_chunk))\n",
        "\n",
        "    # Calculate test MRR\n",
        "    calculate_test_mrr(preds)\n",
        "\n",
        "\n",
        "class HDFSequence(lgb.Sequence):\n",
        "    def __init__(self, hdf_dataset):\n",
        "        \"\"\"\n",
        "        From LightGBM Docs: https://github.com/microsoft/LightGBM/blob/master/examples/python-guide/dataset_from_multi_hdf5.py\n",
        "\n",
        "        Construct a sequence object from HDF5 with required interface.\n",
        "        Parameters\n",
        "        ----------\n",
        "        hdf_dataset : h5py.Dataset\n",
        "            Dataset in HDF5 file.\n",
        "        batch_size : int\n",
        "            Size of a batch. When reading data to construct lightgbm Dataset, each read reads batch_size rows.\n",
        "        \"\"\"\n",
        "        self.data = hdf_dataset\n",
        "        self.batch_size = 64\n",
        "\n",
        "    def __getitem__(self, idx):\n",
        "        return self.data[idx]\n",
        "\n",
        "    def __len__(self):\n",
        "        return len(self.data)\n",
        "\n",
        "def train_and_evaluate_lightgbm(user_representation_functions):\n",
        "    \"\"\"\n",
        "    Trains and evaluates the LightGBM model given user representation methods.\n",
        "\n",
        "    Args:\n",
        "        user_representation_functions (list of functions): List of functions\n",
        "            that return a user2vec representation dictionary where\n",
        "            user IDs are keys and their representations are values.\n",
        "\n",
        "    Returns:\n",
        "        None.\n",
        "    \"\"\"\n",
        "\n",
        "    # Calculate and organize user features\n",
        "    print(\"Calculating user features...\")\n",
        "    user2vec = defaultdict(lambda: np.array([]))\n",
        "    for n, user_rep_function in enumerate(user_representation_functions):\n",
        "        print(f\"\\t{n+1}/{len(user_representation_functions)} functions...\")\n",
        "        temp_user2vec = user_rep_function()\n",
        "        for user, vec in temp_user2vec.items():\n",
        "            user2vec[user] = np.concatenate([user2vec[user], vec])\n",
        "        temp_user2vec = None\n",
        "        del temp_user2vec\n",
        "        gc.collect()\n",
        "\n",
        "    # Create the train dataset\n",
        "    print(\"Creating train Dataset...\")\n",
        "    # Save HDF5 files\n",
        "    try:\n",
        "        shutil.rmtree('hdf5_files')\n",
        "        os.mkdir('hdf5_files')\n",
        "    except:\n",
        "        os.mkdir('hdf5_files')\n",
        "    for n, i in tqdm(enumerate(range(0, len(train_negative), 100000))):\n",
        "        with h5py.File(f'hdf5_files/train_features_{n}.hdf5', 'w') as f:\n",
        "            X_chunk = np.concatenate([np.stack(train_negative['customer_id'].iloc[i:(i+100000)].map(user2vec).values),\n",
        "                                      np.stack(train_negative['article_id'].iloc[i:(i+100000)].map(article2vec).values)], axis=1)\n",
        "            f.create_dataset('X', data=X_chunk, chunks=(64,X_chunk.shape[1]), compression='lzf')\n",
        "            y_chunk = train_negative['label'].values[i:(i+100000)]\n",
        "            f.create_dataset('Y', data=y_chunk, chunks=(len(y_chunk),), compression='lzf')\n",
        "    # Read the HDF5 files\n",
        "    data, ylist = [], []\n",
        "    for f in tqdm(os.listdir('hdf5_files')):\n",
        "        f = h5py.File(f\"hdf5_files/{f}\", 'r')\n",
        "        data.append(HDFSequence(f['X']))\n",
        "        ylist.append(f['Y'][:])\n",
        "    # Create dataset\n",
        "    train_dataset = lgb.Dataset(data, label=np.concatenate(ylist))\n",
        "\n",
        "    # Train\n",
        "    print('Training...')\n",
        "    model = lgb.train(lgb_params, train_set=train_dataset)\n",
        "\n",
        "    # Delete HDF5 files\n",
        "    shutil.rmtree('hdf5_files')\n",
        "\n",
        "    # Evaluate\n",
        "    print(\"Evaluating...\")\n",
        "    evaluate(model, user2vec, article2vec)"
      ]
    },
    {
      "cell_type": "markdown",
      "source": [
        "Below we show how to use the training function we defined above. Given a list of `user representation` functions, which return a user-to-representation dictionary object, we can train and evaluate our model based on MRR. In the next sections, you'll add more user representations and see the effects on the task."
      ],
      "metadata": {
        "id": "Fs2tLaPcdpbx"
      },
      "id": "Fs2tLaPcdpbx"
    },
    {
      "cell_type": "code",
      "source": [
        "%%time\n",
        "train_and_evaluate_lightgbm([user_representation_1])"
      ],
      "metadata": {
        "colab": {
          "base_uri": "https://localhost:8080/",
          "height": 607
        },
        "id": "49PK_mLywdcJ",
        "outputId": "822ee030-8506-4362-bdcb-f6a986487377"
      },
      "id": "49PK_mLywdcJ",
      "execution_count": null,
      "outputs": [
        {
          "output_type": "stream",
          "name": "stdout",
          "text": [
            "Calculating user features...\n",
            "\t1/1 functions...\n",
            "Creating train Dataset...\n"
          ]
        },
        {
          "output_type": "stream",
          "name": "stderr",
          "text": [
            "54it [01:44,  1.94s/it]\n",
            "100%|██████████| 54/54 [00:00<00:00, 246.16it/s]\n",
            "/usr/local/lib/python3.10/dist-packages/lightgbm/engine.py:172: UserWarning: Found `num_trees` in params. Will use it instead of argument\n",
            "  _log_warning(f\"Found `{alias}` in params. Will use it instead of argument\")\n"
          ]
        },
        {
          "output_type": "stream",
          "name": "stdout",
          "text": [
            "Training...\n",
            "[LightGBM] [Info] Number of positive: 1769097, number of negative: 3538194\n",
            "[LightGBM] [Info] This is the GPU trainer!!\n",
            "[LightGBM] [Info] Total Bins 51084\n",
            "[LightGBM] [Info] Number of data points in the train set: 5307291, number of used features: 205\n",
            "[LightGBM] [Info] Using GPU Device: Tesla T4, Vendor: NVIDIA Corporation\n",
            "[LightGBM] [Info] Compiling OpenCL Kernel with 256 bins...\n",
            "[LightGBM] [Info] GPU programs have been built\n",
            "[LightGBM] [Info] Size of histogram bin entry: 8\n",
            "[LightGBM] [Info] 205 dense feature groups (1052.78 MB) transferred to GPU in 1.207285 secs. 0 sparse feature groups\n",
            "[LightGBM] [Info] [binary:BoostFromScore]: pavg=0.333333 -> initscore=-0.693147\n",
            "[LightGBM] [Info] Start training from score -0.693147\n",
            "Evaluating...\n"
          ]
        },
        {
          "output_type": "stream",
          "name": "stderr",
          "text": [
            "100%|██████████| 5/5 [00:16<00:00,  3.34s/it]\n"
          ]
        },
        {
          "output_type": "stream",
          "name": "stdout",
          "text": [
            "Test MRR: 0.8847\n",
            "Distribution:\n"
          ]
        },
        {
          "output_type": "display_data",
          "data": {
            "text/plain": [
              "count    42395.000000\n",
              "mean         0.884652\n",
              "std          0.230158\n",
              "min          0.071429\n",
              "25%          1.000000\n",
              "50%          1.000000\n",
              "75%          1.000000\n",
              "max          1.000000\n",
              "dtype: float64"
            ]
          },
          "metadata": {}
        },
        {
          "output_type": "stream",
          "name": "stdout",
          "text": [
            "CPU times: user 12min 57s, sys: 29.3 s, total: 13min 26s\n",
            "Wall time: 9min 24s\n"
          ]
        }
      ]
    },
    {
      "cell_type": "code",
      "source": [
        "%%time\n",
        "train_and_evaluate_lightgbm([user_representation_1])"
      ],
      "metadata": {
        "colab": {
          "base_uri": "https://localhost:8080/",
          "height": 585
        },
        "id": "TBrpF0Dw4SYH",
        "outputId": "d101f62b-10cb-4fab-fe81-61c79825243f"
      },
      "id": "TBrpF0Dw4SYH",
      "execution_count": null,
      "outputs": [
        {
          "output_type": "stream",
          "name": "stdout",
          "text": [
            "Calculating user features...\n",
            "\t1/1 functions...\n",
            "Creating train Dataset...\n"
          ]
        },
        {
          "output_type": "stream",
          "name": "stderr",
          "text": [
            "54it [01:12,  1.34s/it]\n",
            "100%|██████████| 54/54 [00:00<00:00, 165.24it/s]\n"
          ]
        },
        {
          "output_type": "stream",
          "name": "stdout",
          "text": [
            "Training...\n",
            "[LightGBM] [Info] Number of positive: 1769097, number of negative: 3538194\n",
            "[LightGBM] [Info] This is the GPU trainer!!\n",
            "[LightGBM] [Info] Total Bins 51086\n",
            "[LightGBM] [Info] Number of data points in the train set: 5307291, number of used features: 205\n",
            "[LightGBM] [Info] Using GPU Device: Tesla T4, Vendor: NVIDIA Corporation\n",
            "[LightGBM] [Info] Compiling OpenCL Kernel with 256 bins...\n",
            "[LightGBM] [Info] GPU programs have been built\n",
            "[LightGBM] [Info] Size of histogram bin entry: 8\n",
            "[LightGBM] [Info] 205 dense feature groups (1052.78 MB) transferred to GPU in 1.248005 secs. 0 sparse feature groups\n",
            "[LightGBM] [Info] [binary:BoostFromScore]: pavg=0.333333 -> initscore=-0.693147\n",
            "[LightGBM] [Info] Start training from score -0.693147\n",
            "Evaluating...\n"
          ]
        },
        {
          "output_type": "stream",
          "name": "stderr",
          "text": [
            "100%|██████████| 5/5 [00:14<00:00,  2.89s/it]\n"
          ]
        },
        {
          "output_type": "stream",
          "name": "stdout",
          "text": [
            "Test MRR: 0.8852\n",
            "Distribution:\n"
          ]
        },
        {
          "output_type": "display_data",
          "data": {
            "text/plain": [
              "count    42395.000000\n",
              "mean         0.885178\n",
              "std          0.229665\n",
              "min          0.071429\n",
              "25%          1.000000\n",
              "50%          1.000000\n",
              "75%          1.000000\n",
              "max          1.000000\n",
              "dtype: float64"
            ]
          },
          "metadata": {}
        },
        {
          "output_type": "stream",
          "name": "stdout",
          "text": [
            "CPU times: user 12min 30s, sys: 22.3 s, total: 12min 52s\n",
            "Wall time: 8min 2s\n"
          ]
        }
      ]
    },
    {
      "cell_type": "markdown",
      "source": [
        "Even with raw user representations we significantly outperform our neural rankers! Note that we didn't tune either model particularly thoroughly, but it's clear that LightGBM is a highly competitve ranker."
      ],
      "metadata": {
        "id": "rygtKRLYuEMR"
      },
      "id": "rygtKRLYuEMR"
    },
    {
      "cell_type": "markdown",
      "source": [
        "## **5. TODO 3.3: Your User Representations**\n",
        "[back to top](#scrollTo=qfTG6NXWGjQt&uniqifier=1)"
      ],
      "metadata": {
        "id": "L-ErqwvYd9F7"
      },
      "id": "L-ErqwvYd9F7"
    },
    {
      "cell_type": "markdown",
      "id": "2a4b63a5-56ee-4bd2-b7b8-2aebb5299b31",
      "metadata": {
        "id": "2a4b63a5-56ee-4bd2-b7b8-2aebb5299b31"
      },
      "source": [
        "We have now trained a LightGBM model using `user_representation_1` as the user representation technique. Your goals are to implement `user_representation_2` and `user_representation_3` functions, and train/evaluate the resulting LightGBM model, with the following two ways of estimating user representations:\n",
        "\n",
        "1. `user_representation_2`: Average of embeddings of recently purchased articles, using the `article2vec` dictionary created by the `train_article_representations` function above.\n",
        "2. `user_representation_3`: Use Doc2Vec where we treat each user as a document, and the set of articles the user has purchased as the set of words in the document. You can find a good implementation of Doc2Vec [here](https://radimrehurek.com/gensim/models/doc2vec.html).  \n",
        "  \n",
        "<br>We will be concatenating each new user representation to `user_representation_1` to show how each effect the model and how represensations 2 and 3 differ."
      ]
    },
    {
      "cell_type": "code",
      "execution_count": null,
      "id": "5b277163-f1d2-4767-92ed-498ebf9fb5bb",
      "metadata": {
        "id": "5b277163-f1d2-4767-92ed-498ebf9fb5bb"
      },
      "outputs": [],
      "source": [
        "def user_representation_2():\n",
        "    \"\"\"\n",
        "    Second function to generate user representations: Average of embeddings of recently purchased articles.\n",
        "\n",
        "    Args:\n",
        "        None.\n",
        "\n",
        "    Returns:\n",
        "        user2vec (dictionary): Customer to vector representations lookup.\n",
        "            Example: {'customer_id_1':vector_1, ..., 'customer_id_n':vector_n}\n",
        "    \"\"\"\n",
        "    # Your code goes here\n",
        "        # Note: You can reference train_negative[train_negative['label']==1] to isolate all customers and articles they've interacted with\n",
        "\n",
        "    num_articles = 50\n",
        "    df_custome_article = train_negative[train_negative['label']==1]\n",
        "\n",
        "    user2vec = df_custome_article.groupby('customer_id')['article_id'].apply(\n",
        "        lambda articles: np.mean([article2vec[x] for x in articles[:num_articles]] if len(articles) >= num_articles else [article2vec[x] for x in articles], axis=0)\n",
        "    ).to_dict()\n",
        "    return user2vec"
      ]
    },
    {
      "cell_type": "code",
      "source": [
        "%%time\n",
        "# We have saved our solution's results below for your reference\n",
        "train_and_evaluate_lightgbm([user_representation_1, user_representation_2])"
      ],
      "metadata": {
        "colab": {
          "base_uri": "https://localhost:8080/",
          "height": 624
        },
        "id": "2YqRVIRV4VTo",
        "outputId": "d9c37295-fe3a-46a3-8331-83b9143b2a6b"
      },
      "id": "2YqRVIRV4VTo",
      "execution_count": null,
      "outputs": [
        {
          "output_type": "stream",
          "name": "stdout",
          "text": [
            "Calculating user features...\n",
            "\t1/2 functions...\n",
            "\t2/2 functions...\n",
            "Creating train Dataset...\n"
          ]
        },
        {
          "output_type": "stream",
          "name": "stderr",
          "text": [
            "54it [02:39,  2.96s/it]\n",
            "100%|██████████| 54/54 [00:00<00:00, 194.58it/s]\n",
            "/usr/local/lib/python3.10/dist-packages/lightgbm/engine.py:172: UserWarning: Found `num_trees` in params. Will use it instead of argument\n",
            "  _log_warning(f\"Found `{alias}` in params. Will use it instead of argument\")\n"
          ]
        },
        {
          "output_type": "stream",
          "name": "stdout",
          "text": [
            "Training...\n",
            "[LightGBM] [Info] Number of positive: 1769097, number of negative: 3538194\n",
            "[LightGBM] [Info] This is the GPU trainer!!\n",
            "[LightGBM] [Info] Total Bins 102084\n",
            "[LightGBM] [Info] Number of data points in the train set: 5307291, number of used features: 405\n",
            "[LightGBM] [Info] Using GPU Device: Tesla T4, Vendor: NVIDIA Corporation\n",
            "[LightGBM] [Info] Compiling OpenCL Kernel with 256 bins...\n",
            "[LightGBM] [Info] GPU programs have been built\n",
            "[LightGBM] [Info] Size of histogram bin entry: 8\n",
            "[LightGBM] [Info] 405 dense feature groups (2065.06 MB) transferred to GPU in 2.628795 secs. 0 sparse feature groups\n",
            "[LightGBM] [Info] [binary:BoostFromScore]: pavg=0.333333 -> initscore=-0.693147\n",
            "[LightGBM] [Info] Start training from score -0.693147\n",
            "Evaluating...\n"
          ]
        },
        {
          "output_type": "stream",
          "name": "stderr",
          "text": [
            "100%|██████████| 5/5 [00:32<00:00,  6.46s/it]\n"
          ]
        },
        {
          "output_type": "stream",
          "name": "stdout",
          "text": [
            "Test MRR: 0.8169\n",
            "Distribution:\n"
          ]
        },
        {
          "output_type": "display_data",
          "data": {
            "text/plain": [
              "count    42395.000000\n",
              "mean         0.816915\n",
              "std          0.278247\n",
              "min          0.041667\n",
              "25%          0.500000\n",
              "50%          1.000000\n",
              "75%          1.000000\n",
              "max          1.000000\n",
              "dtype: float64"
            ]
          },
          "metadata": {}
        },
        {
          "output_type": "stream",
          "name": "stdout",
          "text": [
            "CPU times: user 26min 47s, sys: 45.3 s, total: 27min 33s\n",
            "Wall time: 18min 49s\n"
          ]
        }
      ]
    },
    {
      "cell_type": "code",
      "source": [
        "%%time\n",
        "# We have saved our solution's results below for your reference\n",
        "train_and_evaluate_lightgbm([user_representation_1, user_representation_2])"
      ],
      "metadata": {
        "colab": {
          "base_uri": "https://localhost:8080/",
          "height": 656
        },
        "outputId": "3ff3abba-28b7-4082-9b1a-eafb55b575ac",
        "id": "6W4oNvCwOaM7"
      },
      "execution_count": null,
      "outputs": [
        {
          "output_type": "stream",
          "name": "stdout",
          "text": [
            "Calculating user features...\n",
            "\t1/2 functions...\n",
            "\t2/2 functions...\n"
          ]
        },
        {
          "output_type": "stream",
          "name": "stderr",
          "text": [
            "100%|██████████| 330712/330712 [00:26<00:00, 12509.55it/s]\n"
          ]
        },
        {
          "output_type": "stream",
          "name": "stdout",
          "text": [
            "Creating train Dataset...\n"
          ]
        },
        {
          "output_type": "stream",
          "name": "stderr",
          "text": [
            "54it [01:35,  1.76s/it]\n",
            "100%|██████████| 54/54 [00:00<00:00, 201.48it/s]\n",
            "/usr/local/lib/python3.7/dist-packages/lightgbm/engine.py:177: UserWarning: Found `num_trees` in params. Will use it instead of argument\n",
            "  _log_warning(f\"Found `{alias}` in params. Will use it instead of argument\")\n"
          ]
        },
        {
          "output_type": "stream",
          "name": "stdout",
          "text": [
            "Training...\n",
            "[LightGBM] [Info] Number of positive: 1769097, number of negative: 3538194\n",
            "[LightGBM] [Info] This is the GPU trainer!!\n",
            "[LightGBM] [Info] Total Bins 102086\n",
            "[LightGBM] [Info] Number of data points in the train set: 5307291, number of used features: 405\n",
            "[LightGBM] [Info] Using GPU Device: Tesla T4, Vendor: NVIDIA Corporation\n",
            "[LightGBM] [Info] Compiling OpenCL Kernel with 256 bins...\n",
            "[LightGBM] [Info] GPU programs have been built\n",
            "[LightGBM] [Info] Size of histogram bin entry: 8\n",
            "[LightGBM] [Info] 405 dense feature groups (2065.06 MB) transferred to GPU in 2.491092 secs. 0 sparse feature groups\n",
            "[LightGBM] [Info] [binary:BoostFromScore]: pavg=0.333333 -> initscore=-0.693147\n",
            "[LightGBM] [Info] Start training from score -0.693147\n",
            "Evaluating...\n"
          ]
        },
        {
          "output_type": "stream",
          "name": "stderr",
          "text": [
            "100%|██████████| 5/5 [00:22<00:00,  4.48s/it]\n"
          ]
        },
        {
          "output_type": "stream",
          "name": "stdout",
          "text": [
            "Test MRR: 0.8156\n",
            "Distribution:\n"
          ]
        },
        {
          "output_type": "display_data",
          "data": {
            "text/plain": [
              "count    42395.000000\n",
              "mean         0.815565\n",
              "std          0.278938\n",
              "min          0.041667\n",
              "25%          0.500000\n",
              "50%          1.000000\n",
              "75%          1.000000\n",
              "max          1.000000\n",
              "dtype: float64"
            ]
          },
          "metadata": {}
        },
        {
          "output_type": "stream",
          "name": "stdout",
          "text": [
            "CPU times: user 22min 16s, sys: 36.6 s, total: 22min 52s\n",
            "Wall time: 13min 54s\n"
          ]
        }
      ],
      "id": "6W4oNvCwOaM7"
    },
    {
      "cell_type": "markdown",
      "source": [
        "This is _very_ interesting - it seems as though adding these extra features significantly hurt model performance. It's an important lesson in that more complex features aren't necessarily better and that starting simply before scaling up will help you build better models. That said, there are a couple reasons this might be the case including:  \n",
        "1. There are many parameters to tune in LightGBM.\n",
        "2. We didn't do any extra feature engineering, such as the cosine similarity between the user's average article vector and the query article vector.  \n",
        "  \n",
        "<br>Next we'll see if Doc2Vec can give us any improvement."
      ],
      "metadata": {
        "id": "VHbUcxHcvN_n"
      },
      "id": "VHbUcxHcvN_n"
    },
    {
      "cell_type": "code",
      "execution_count": null,
      "id": "6d3b1638-fc8b-456d-a123-367fd6fc54e8",
      "metadata": {
        "id": "6d3b1638-fc8b-456d-a123-367fd6fc54e8"
      },
      "outputs": [],
      "source": [
        "def user_representation_3():\n",
        "    \"\"\"\n",
        "    Third function to generate user representations: Doc2Vec.\n",
        "    Doc2vec model is an embedding learning method that enables us to learn representations of a document.\n",
        "    We treat each user as a document, and the set of articles the user has purchased as the set of words in the document.\n",
        "\n",
        "    Args:\n",
        "        None.\n",
        "\n",
        "    Returns:\n",
        "        user2vec (dictionary): Customer to vector representations lookup.\n",
        "            Example: {'customer_id_1':vector_1, ..., 'customer_id_n':vector_n}\n",
        "    \"\"\"\n",
        "\n",
        "    # Your code goes here\n",
        "    # Note: We used a vector size of 200 and a random_seed of 42\n",
        "\n",
        "    df_custome_article = train_negative[train_negative['label']==1]\n",
        "\n",
        "    grouped_data = df_custome_article.groupby('customer_id')['article_id'].apply(list).reset_index()\n",
        "    documents = grouped_data.apply(lambda row: TaggedDocument(words=row['article_id'], tags=[row['customer_id']]), axis=1).tolist()\n",
        "\n",
        "    model = Doc2Vec(documents, vector_size=200, seed=42, window=5, min_count=1, workers=4)\n",
        "\n",
        "    user2vec = {tag: model.dv[tag] for tag in grouped_data['customer_id']}\n",
        "\n",
        "    return user2vec"
      ]
    },
    {
      "cell_type": "code",
      "source": [
        "%%time\n",
        "# We have saved our solution's results below for your reference\n",
        "train_and_evaluate_lightgbm([user_representation_1, user_representation_3])"
      ],
      "metadata": {
        "colab": {
          "base_uri": "https://localhost:8080/",
          "height": 624
        },
        "id": "8KSE-t19S2gc",
        "outputId": "9f309ca1-0739-44de-c741-743fa0117b84"
      },
      "id": "8KSE-t19S2gc",
      "execution_count": null,
      "outputs": [
        {
          "output_type": "stream",
          "name": "stdout",
          "text": [
            "Calculating user features...\n",
            "\t1/2 functions...\n",
            "\t2/2 functions...\n",
            "Creating train Dataset...\n"
          ]
        },
        {
          "output_type": "stream",
          "name": "stderr",
          "text": [
            "54it [02:53,  3.22s/it]\n",
            "100%|██████████| 54/54 [00:00<00:00, 192.71it/s]\n",
            "/usr/local/lib/python3.10/dist-packages/lightgbm/engine.py:172: UserWarning: Found `num_trees` in params. Will use it instead of argument\n",
            "  _log_warning(f\"Found `{alias}` in params. Will use it instead of argument\")\n"
          ]
        },
        {
          "output_type": "stream",
          "name": "stdout",
          "text": [
            "Training...\n",
            "[LightGBM] [Info] Number of positive: 1769097, number of negative: 3538194\n",
            "[LightGBM] [Info] This is the GPU trainer!!\n",
            "[LightGBM] [Info] Total Bins 102084\n",
            "[LightGBM] [Info] Number of data points in the train set: 5307291, number of used features: 405\n",
            "[LightGBM] [Info] Using GPU Device: Tesla T4, Vendor: NVIDIA Corporation\n",
            "[LightGBM] [Info] Compiling OpenCL Kernel with 256 bins...\n",
            "[LightGBM] [Info] GPU programs have been built\n",
            "[LightGBM] [Info] Size of histogram bin entry: 8\n",
            "[LightGBM] [Info] 405 dense feature groups (2065.06 MB) transferred to GPU in 2.365396 secs. 0 sparse feature groups\n",
            "[LightGBM] [Info] [binary:BoostFromScore]: pavg=0.333333 -> initscore=-0.693147\n",
            "[LightGBM] [Info] Start training from score -0.693147\n",
            "Evaluating...\n"
          ]
        },
        {
          "output_type": "stream",
          "name": "stderr",
          "text": [
            "100%|██████████| 5/5 [00:28<00:00,  5.75s/it]\n"
          ]
        },
        {
          "output_type": "stream",
          "name": "stdout",
          "text": [
            "Test MRR: 0.8874\n",
            "Distribution:\n"
          ]
        },
        {
          "output_type": "display_data",
          "data": {
            "text/plain": [
              "count    42395.000000\n",
              "mean         0.887435\n",
              "std          0.228703\n",
              "min          0.045455\n",
              "25%          1.000000\n",
              "50%          1.000000\n",
              "75%          1.000000\n",
              "max          1.000000\n",
              "dtype: float64"
            ]
          },
          "metadata": {}
        },
        {
          "output_type": "stream",
          "name": "stdout",
          "text": [
            "CPU times: user 32min 46s, sys: 1min 35s, total: 34min 22s\n",
            "Wall time: 24min 4s\n"
          ]
        }
      ]
    },
    {
      "cell_type": "code",
      "source": [
        "%%time\n",
        "# We have saved our solution's results below for your reference\n",
        "train_and_evaluate_lightgbm([user_representation_1, user_representation_3])"
      ],
      "metadata": {
        "id": "KliEG91r4bCJ",
        "colab": {
          "base_uri": "https://localhost:8080/",
          "height": 656
        },
        "outputId": "9a755679-dba8-4ab4-ce3f-546e1d023ce2"
      },
      "id": "KliEG91r4bCJ",
      "execution_count": null,
      "outputs": [
        {
          "output_type": "stream",
          "name": "stdout",
          "text": [
            "Calculating user features...\n",
            "\t1/2 functions...\n",
            "\t2/2 functions...\n"
          ]
        },
        {
          "output_type": "stream",
          "name": "stderr",
          "text": [
            "Doc2Vec Inference: 100%|██████████| 330712/330712 [02:51<00:00, 1928.57it/s]\n"
          ]
        },
        {
          "output_type": "stream",
          "name": "stdout",
          "text": [
            "Creating train Dataset...\n"
          ]
        },
        {
          "output_type": "stream",
          "name": "stderr",
          "text": [
            "54it [01:35,  1.77s/it]\n",
            "100%|██████████| 54/54 [00:00<00:00, 172.84it/s]\n",
            "/usr/local/lib/python3.7/dist-packages/lightgbm/engine.py:177: UserWarning: Found `num_trees` in params. Will use it instead of argument\n",
            "  _log_warning(f\"Found `{alias}` in params. Will use it instead of argument\")\n"
          ]
        },
        {
          "output_type": "stream",
          "name": "stdout",
          "text": [
            "Training...\n",
            "[LightGBM] [Info] Number of positive: 1769097, number of negative: 3538194\n",
            "[LightGBM] [Info] This is the GPU trainer!!\n",
            "[LightGBM] [Info] Total Bins 102086\n",
            "[LightGBM] [Info] Number of data points in the train set: 5307291, number of used features: 405\n",
            "[LightGBM] [Info] Using GPU Device: Tesla T4, Vendor: NVIDIA Corporation\n",
            "[LightGBM] [Info] Compiling OpenCL Kernel with 256 bins...\n",
            "[LightGBM] [Info] GPU programs have been built\n",
            "[LightGBM] [Info] Size of histogram bin entry: 8\n",
            "[LightGBM] [Info] 405 dense feature groups (2065.06 MB) transferred to GPU in 2.449282 secs. 0 sparse feature groups\n",
            "[LightGBM] [Info] [binary:BoostFromScore]: pavg=0.333333 -> initscore=-0.693147\n",
            "[LightGBM] [Info] Start training from score -0.693147\n",
            "Evaluating...\n"
          ]
        },
        {
          "output_type": "stream",
          "name": "stderr",
          "text": [
            "100%|██████████| 5/5 [00:20<00:00,  4.08s/it]\n"
          ]
        },
        {
          "output_type": "stream",
          "name": "stdout",
          "text": [
            "Test MRR: 0.8873\n",
            "Distribution:\n"
          ]
        },
        {
          "output_type": "display_data",
          "data": {
            "text/plain": [
              "count    42395.000000\n",
              "mean         0.887316\n",
              "std          0.228841\n",
              "min          0.050000\n",
              "25%          1.000000\n",
              "50%          1.000000\n",
              "75%          1.000000\n",
              "max          1.000000\n",
              "dtype: float64"
            ]
          },
          "metadata": {}
        },
        {
          "output_type": "stream",
          "name": "stdout",
          "text": [
            "CPU times: user 27min 47s, sys: 1min 4s, total: 28min 51s\n",
            "Wall time: 19min 28s\n"
          ]
        }
      ]
    },
    {
      "cell_type": "markdown",
      "source": [
        "Huzzah! Doc2Vec has given us an improvement in our test-set MRR!"
      ],
      "metadata": {
        "id": "VJKSq2FRiahd"
      },
      "id": "VJKSq2FRiahd"
    },
    {
      "cell_type": "markdown",
      "source": [
        "## **6. TODO 3.4: LSTM User Representations (Optional)**\n",
        "[back to top](#scrollTo=qfTG6NXWGjQt&uniqifier=1)"
      ],
      "metadata": {
        "id": "-BxR9VPpjoNi"
      },
      "id": "-BxR9VPpjoNi"
    },
    {
      "cell_type": "markdown",
      "id": "ce141145-f5af-4f2d-9d94-f4bb50e6208f",
      "metadata": {
        "id": "ce141145-f5af-4f2d-9d94-f4bb50e6208f"
      },
      "source": [
        "As an optional task, implement `user_representation_4` where user representations are learnt by a sequential LSTM model. The LSTM model will need to be trained on a task -- the task itself could be the downstream task of predicting whether or not a user would purchase a given article. The final hidden layer of the LSTM model can be used as the user representation."
      ]
    },
    {
      "cell_type": "code",
      "execution_count": null,
      "id": "88eb3b58-062c-4c96-b3f0-2db4407ce1b3",
      "metadata": {
        "id": "88eb3b58-062c-4c96-b3f0-2db4407ce1b3"
      },
      "outputs": [],
      "source": [
        "def user_representation_4():\n",
        "    \"\"\"\n",
        "    Optional, fourth function to generate user representations: LSTM.\n",
        "\n",
        "    Args:\n",
        "        None.\n",
        "\n",
        "    Returns:\n",
        "        user2vec (dictionary): Customer to vector representations lookup.\n",
        "            Example: {'customer_id_1':vector_1, ..., 'customer_id_n':vector_n}\n",
        "    \"\"\"\n",
        "    user2vec = {}\n",
        "\n",
        "    # Your code goes here\n",
        "\n",
        "\n",
        "    return user2vec"
      ]
    },
    {
      "cell_type": "code",
      "source": [
        "%%time\n",
        "train_and_evaluate_lightgbm([user_representation_1, user_representation_4])"
      ],
      "metadata": {
        "id": "rc-wYVS44P47"
      },
      "id": "rc-wYVS44P47",
      "execution_count": null,
      "outputs": []
    }
  ],
  "metadata": {
    "environment": {
      "kernel": "python3",
      "name": "tf2-gpu.2-6.m89",
      "type": "gcloud",
      "uri": "gcr.io/deeplearning-platform-release/tf2-gpu.2-6:m89"
    },
    "kernelspec": {
      "display_name": "Python 3 (ipykernel)",
      "language": "python",
      "name": "python3"
    },
    "language_info": {
      "codemirror_mode": {
        "name": "ipython",
        "version": 3
      },
      "file_extension": ".py",
      "mimetype": "text/x-python",
      "name": "python",
      "nbconvert_exporter": "python",
      "pygments_lexer": "ipython3",
      "version": "3.8.10"
    },
    "colab": {
      "provenance": [],
      "collapsed_sections": [
        "cB4tqBSaHIqt",
        "9wDLwRU6HUNG",
        "3u93B8JdJ9pg",
        "TRAg9cqeMiKl",
        "-2Xh5R8xT3to",
        "-BxR9VPpjoNi"
      ]
    },
    "accelerator": "GPU"
  },
  "nbformat": 4,
  "nbformat_minor": 5
}