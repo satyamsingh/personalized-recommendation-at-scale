{
 "cells": [
  {
   "cell_type": "markdown",
   "id": "EybixDfgbfdK",
   "metadata": {
    "id": "EybixDfgbfdK"
   },
   "source": [
    "<h4><i><font color='red'>The project has many components, and we encourage you to complete as many as you can! That said, we highly encourage you to submit your work even if your notebook is only partially completed - the TA can help review your work and provide tips on any places that you got stuck or have further questions!</font></i></h4>"
   ]
  },
  {
   "cell_type": "markdown",
   "id": "bvONhqQblFfl",
   "metadata": {
    "id": "bvONhqQblFfl"
   },
   "source": [
    "<font size=\"6\">**Table of Contents:**</font>  \n",
    "<br>\n",
    "<font size=\"5\">\n",
    "<u>Behavioral Metrics:</u>  \n",
    "1\\. [Introduction](#scrollTo=mKT-yDAzlP9Y&uniqifier=1)   \n",
    "2\\. [Setup](#scrollTo=SuQ7Xnp1lolE&uniqifier=1)   \n",
    "3\\. [Traditional metrics: NDCG@K](#scrollTo=H1_DJMNDoW-5&uniqifier=1)   \n",
    "4\\. [TODO 4.1: Implement 3 Behavioral Metrics](#scrollTo=rkHkC-SnsQRI&uniqifier=1)   \n",
    "5\\. [TODO 4.2: Implement a New, Non-Learnt Ranker](#scrollTo=a4ZcoFf8uL2v&uniqifier=1)   \n",
    "<br>\n",
    "<u>Off-Policy Evaluation:</u>  \n",
    "1\\. [Introduction](#scrollTo=LKg4HQSbxwCY&uniqifier=1)   \n",
    "2\\. [Setup](#scrollTo=Qp_3_z7myCKU&uniqifier=1)   \n",
    "3\\. [Rewards and IPS](#scrollTo=9RboprQXyuCB&uniqifier=1)   \n",
    "4\\. [TODO 4.3: Capped IPS and NCIS](#scrollTo=zQuEVahrzNV9&uniqifier=1)   \n",
    "</font>\n",
    "\n"
   ]
  },
  {
   "cell_type": "markdown",
   "id": "oN0zQSPYncJR",
   "metadata": {
    "id": "oN0zQSPYncJR"
   },
   "source": [
    "# <u>Behavioral Metrics:</u>"
   ]
  },
  {
   "cell_type": "markdown",
   "id": "mKT-yDAzlP9Y",
   "metadata": {
    "id": "mKT-yDAzlP9Y"
   },
   "source": [
    "## **1. Introduction**\n",
    "[back to top](#scrollTo=bvONhqQblFfl&uniqifier=1)"
   ]
  },
  {
   "cell_type": "markdown",
   "id": "41f1f7cb-9441-4fe1-962e-9e4cb3e3c192",
   "metadata": {
    "id": "41f1f7cb-9441-4fe1-962e-9e4cb3e3c192"
   },
   "source": [
    "Welcome to the last week of the course -- so excited to see that you've made it to the end! 👏\n",
    "\n",
    "We've already discussed the importance of measuring model performance. As Lord Kelvin said, \"To measure is to know – If you cannot measure it, you cannot improve it.\" And he was right – metrics are the only way we can actually evaluate our model’s performance!\n",
    "\n",
    "In this week's project, we will touch upon two key aspects related to evaluation:\n",
    "1. Behavioral metrics: We will work with a Spotify music sessions dataset and implement a few behavioral metrics to understand their relationships with traditional metrics.\n",
    "2. Off-policy evaluation: We will simulate a dataset where we have logged action policies, and see how IPS is implemented.\n",
    "  \n",
    "<br>\n",
    "\n",
    "### About the Data: Spotify Music Sessions\n",
    "Behavioral metrics include factors like what items a user interacts with and how, the amount of time they spend on the platform, and how they spend that time. To define and implement a few behavioral metrics, we will work with the Spotify music sessions dataset.\n",
    "\n",
    "The public part of the dataset consists of roughly 130 million listening sessions with associated user interactions on the Spotify service. In total, users interacted with almost 4 million tracks during these sessions, and the dataset includes acoustic features and metadata for all of these tracks. We'll be working with a sample of the full dataset.\n",
    "  \n",
    "<br>A detailed description of the dataset can be found [here](https://drive.google.com/file/d/1BELTuH4nBeyHna5EAGzJv-HWHKrbxPsf/view?usp=sharing).\n"
   ]
  },
  {
   "cell_type": "markdown",
   "id": "SuQ7Xnp1lolE",
   "metadata": {
    "id": "SuQ7Xnp1lolE"
   },
   "source": [
    "## **2. Setup**\n",
    "[back to top](#scrollTo=bvONhqQblFfl&uniqifier=1)"
   ]
  },
  {
   "cell_type": "code",
   "execution_count": 1,
   "id": "837dcaa9-cc0b-4345-bbee-3a09683decf9",
   "metadata": {
    "id": "837dcaa9-cc0b-4345-bbee-3a09683decf9"
   },
   "outputs": [],
   "source": [
    "# Imports\n",
    "import numpy as np\n",
    "import pandas as pd\n",
    "from sklearn.metrics import ndcg_score\n",
    "from collections import OrderedDict\n",
    "from IPython.display import clear_output\n",
    "from functools import partial\n",
    "from tqdm import tqdm\n",
    "tqdm.pandas()\n",
    "\n",
    "\n",
    "# Download the data\n",
    "!pip install -U --no-cache-dir gdown --pre\n",
    "!gdown --no-cookies --fuzzy https://drive.google.com/file/d/1Z8N0Xf9M34PuN4V5G5uAxasvOCm6TVp4/view?usp=sharing\n",
    "!gdown --no-cookies --fuzzy https://drive.google.com/file/d/1D3RyRBKBaw0KbLxpJUQDjVIt5CLpE2n9/view?usp=sharing\n",
    "\n",
    "clear_output()"
   ]
  },
  {
   "cell_type": "code",
   "execution_count": 2,
   "id": "88eb3b58-062c-4c96-b3f0-2db4407ce1b3",
   "metadata": {
    "colab": {
     "base_uri": "https://localhost:8080/"
    },
    "id": "88eb3b58-062c-4c96-b3f0-2db4407ce1b3",
    "outputId": "f977a69b-0892-4f0b-d940-9006a27a3ecf"
   },
   "outputs": [
    {
     "data": {
      "text/plain": [
       "((167880, 21), (50704, 30))"
      ]
     },
     "execution_count": 2,
     "metadata": {},
     "output_type": "execute_result"
    }
   ],
   "source": [
    "# Read in data\n",
    "log = pd.read_csv(\"log_mini.csv\")\n",
    "tracks = pd.read_csv(\"tf_mini.csv\")\n",
    "\n",
    "log.shape, tracks.shape"
   ]
  },
  {
   "cell_type": "code",
   "execution_count": 3,
   "id": "fd87ac5a",
   "metadata": {},
   "outputs": [],
   "source": [
    "pd.set_option('display.max_rows', None)"
   ]
  },
  {
   "cell_type": "markdown",
   "id": "H1_DJMNDoW-5",
   "metadata": {
    "id": "H1_DJMNDoW-5"
   },
   "source": [
    "## **3. Traditional metrics: NDCG@K**\n",
    "[back to top](#scrollTo=bvONhqQblFfl&uniqifier=1)"
   ]
  },
  {
   "cell_type": "markdown",
   "id": "aba926f1-1f49-4b9d-b358-b780132f0070",
   "metadata": {
    "id": "aba926f1-1f49-4b9d-b358-b780132f0070"
   },
   "source": [
    "Normalized Discounted Cumulative Gain (NDCG) is a metric used to evaluate a ranked list of candidates, which values both order and relevancy of the items. In other words, it is able to use the fact that some documents are \"more\" relevant than others. Highly relevant items should come before medium relevant items, which should come before non-relevant items.\n",
    "  \n",
    "<br>We will use the log dataframe as the main dataframe for evaluation of metrics. The `skip_1` flag can be used as a relevance signal -- if the user found the recommendation relevant, `skip_1 = False`. With this relevance signal, we can compute simple NDCG metrics -- one for each session and then averaged across all sessions. This will serve as a base metric for comparison.\n",
    "\n",
    "Note: the ranking logic here is assumed to be the production ranker, i.e. sorting by `session_position` gives the exact order of tracks the Spotify ranker presented to the user.\n",
    "  \n",
    "<br>Let's compute a simple skip rate and NDCG metric for the production ranker:"
   ]
  },
  {
   "cell_type": "code",
   "execution_count": 4,
   "id": "O4TZsRjUU6gQ",
   "metadata": {
    "colab": {
     "base_uri": "https://localhost:8080/"
    },
    "id": "O4TZsRjUU6gQ",
    "outputId": "ee3f6ba5-398f-49d4-c266-c015c5b3445f"
   },
   "outputs": [
    {
     "data": {
      "text/plain": [
       "0.40894"
      ]
     },
     "execution_count": 4,
     "metadata": {},
     "output_type": "execute_result"
    }
   ],
   "source": [
    "# Compute average skip rate @ 10\n",
    "\n",
    "topk = 10\n",
    "log.sort_values(by=['session_position']).groupby(\"session_id\").apply(lambda x: np.mean(x['skip_1'].values[:topk])).mean()"
   ]
  },
  {
   "cell_type": "code",
   "execution_count": 5,
   "id": "3iZkO9041pBS",
   "metadata": {
    "colab": {
     "base_uri": "https://localhost:8080/"
    },
    "id": "3iZkO9041pBS",
    "outputId": "03912234-e8c7-497d-cda4-2c905d7e3c16"
   },
   "outputs": [
    {
     "name": "stderr",
     "output_type": "stream",
     "text": [
      "100%|███████████████████████████████████████████████████████████████████████████████████████████████████████████████████████████████████████████████████████████████| 10000/10000 [00:02<00:00, 3639.18it/s]\n"
     ]
    },
    {
     "data": {
      "text/plain": [
       "0.8330266041453142"
      ]
     },
     "execution_count": 5,
     "metadata": {},
     "output_type": "execute_result"
    }
   ],
   "source": [
    "# Compute NDCG @ 10\n",
    "\n",
    "def compute_ndcg(df, topk):\n",
    "    df = df.iloc[:topk]\n",
    "    true_relevance = np.asarray(1-np.asarray(df['skip_1']*1.0))\n",
    "    ranker_scores = np.asarray(1/(np.asarray(range(len(df)))+1)) # Approximate the ranker scores using the session position\n",
    "    return ndcg_score([true_relevance], [ranker_scores])\n",
    "\n",
    "topk = 10\n",
    "log.sort_values(by=['session_position']).groupby(\"session_id\").progress_apply(partial(compute_ndcg, topk=topk)).mean()"
   ]
  },
  {
   "cell_type": "markdown",
   "id": "rkHkC-SnsQRI",
   "metadata": {
    "id": "rkHkC-SnsQRI"
   },
   "source": [
    "## **4. TODO 4.1: Implement 3 Behavioral Metrics**\n",
    "[back to top](#scrollTo=bvONhqQblFfl&uniqifier=1)"
   ]
  },
  {
   "cell_type": "markdown",
   "id": "85f93877-750a-476d-b530-96659c5a8bd5",
   "metadata": {
    "id": "85f93877-750a-476d-b530-96659c5a8bd5"
   },
   "source": [
    "Your first goal is to implement three behavioral metrics and compare their correlations:\n",
    "1. *Time to first skip:* How long did it take for the user to get the first bad recommendation, i.e. a recommendation they skipped. Since we can't easily calculate time, we can use number of songs as a proxy and compute the metric as number of songs it took for the first skip.\n",
    "\n",
    "2. *Sustained dissatisfaction:* We assume that the user is dissatisfied in a sustained manner if they skip 3 songs consecutively.\n",
    "\n",
    "3. *Session coherence:* We define coherence as how similar the recommended musical tracks are. We can use the acoustic_vector of the music tracks to calculate the similarity.\n",
    "\n",
    "Once these metrics are implemented, compute them for `topk=5` and `topk=10`. Compare their estimates for the production ranker as a correlation plot. Please note which metrics are correlated with NDCG."
   ]
  },
  {
   "cell_type": "code",
   "execution_count": 6,
   "id": "b8eba1c0-5ef0-40eb-9cbd-18df57607747",
   "metadata": {
    "id": "b8eba1c0-5ef0-40eb-9cbd-18df57607747"
   },
   "outputs": [],
   "source": [
    "# Implement session metric 1:\n",
    "    # Time to first skip (number of songs to first skip)\n",
    "    # Our implementation found the answer to be 4.6380\n",
    "        # We assumed no skips yields the number of songs listened to as opposed to a null"
   ]
  },
  {
   "cell_type": "code",
   "execution_count": 36,
   "id": "58fdb19f",
   "metadata": {},
   "outputs": [
    {
     "name": "stderr",
     "output_type": "stream",
     "text": [
      "100%|███████████████████████████████████████████████████████████████████████████████████████████████████████████████████████████████████████████████████████████████| 10000/10000 [00:06<00:00, 1552.14it/s]"
     ]
    },
    {
     "name": "stdout",
     "output_type": "stream",
     "text": [
      "CPU times: user 6.37 s, sys: 172 ms, total: 6.55 s\n",
      "Wall time: 6.56 s\n"
     ]
    },
    {
     "name": "stderr",
     "output_type": "stream",
     "text": [
      "\n"
     ]
    },
    {
     "data": {
      "text/plain": [
       "4.6348"
      ]
     },
     "execution_count": 36,
     "metadata": {},
     "output_type": "execute_result"
    }
   ],
   "source": [
    "%%time\n",
    "\n",
    "def time_to_first_skip(df, topk):\n",
    "    df = df[:topk]\n",
    "    df_skipped = df[df['skip_1']]\n",
    "    \n",
    "    if df_skipped.shape[0] == 0:\n",
    "        return df.tail(1)['session_position']\n",
    "    else:\n",
    "        return df_skipped.head(1)['session_position']\n",
    "\n",
    "topk = 20\n",
    "log\\\n",
    "    .sort_values(by = ['session_position'])\\\n",
    "    .groupby(\"session_id\")\\\n",
    "    .progress_apply(partial(time_to_first_skip, topk = topk))\\\n",
    "    .mean()"
   ]
  },
  {
   "cell_type": "code",
   "execution_count": 8,
   "id": "aabd3d1a-8710-4883-88f5-bf3f926ebba3",
   "metadata": {
    "id": "aabd3d1a-8710-4883-88f5-bf3f926ebba3"
   },
   "outputs": [],
   "source": [
    "# Implement session metric 2:\n",
    "    # Sustained dissatisfaction: Proportions of sessions with 3 consecutive skips\n",
    "    # Our implementation found the answer to be 0.6543"
   ]
  },
  {
   "cell_type": "code",
   "execution_count": 9,
   "id": "eb66d300",
   "metadata": {},
   "outputs": [
    {
     "name": "stderr",
     "output_type": "stream",
     "text": [
      "100%|███████████████████████████████████████████████████████████████████████████████████████████████████████████████████████████████████████████████████████████████| 10000/10000 [00:02<00:00, 3924.53it/s]"
     ]
    },
    {
     "name": "stdout",
     "output_type": "stream",
     "text": [
      "CPU times: user 2.38 s, sys: 104 ms, total: 2.48 s\n",
      "Wall time: 2.59 s\n"
     ]
    },
    {
     "name": "stderr",
     "output_type": "stream",
     "text": [
      "\n"
     ]
    },
    {
     "data": {
      "text/plain": [
       "0.6543"
      ]
     },
     "execution_count": 9,
     "metadata": {},
     "output_type": "execute_result"
    }
   ],
   "source": [
    "%%time\n",
    "def sustained_dissatisfaction(df, topk):\n",
    "    df = df[:topk]\n",
    "    column_to_check = 'skip_1'\n",
    "    consecutive_same_value = ((df[column_to_check] == True) & \n",
    "        (df[column_to_check] == df[column_to_check].shift(1)) & (\n",
    "        df[column_to_check] == df[column_to_check].shift(2))\n",
    "    )\n",
    "\n",
    "    if consecutive_same_value.any():\n",
    "        return 1\n",
    "    else:\n",
    "        return 0\n",
    "    \n",
    "    \n",
    "topk = 20\n",
    "\n",
    "log\\\n",
    "    .sort_values(by = ['session_position'])\\\n",
    "    .groupby(\"session_id\")\\\n",
    "    .progress_apply(partial(sustained_dissatisfaction, topk = topk))\\\n",
    "    .mean()"
   ]
  },
  {
   "cell_type": "code",
   "execution_count": 10,
   "id": "5f41f788-daf7-44a4-9612-178f190e58bd",
   "metadata": {
    "id": "5f41f788-daf7-44a4-9612-178f190e58bd"
   },
   "outputs": [],
   "source": [
    "# Implement session metric 3:\n",
    "    # Session coherence: Average similarity between the top recommended tracks\n",
    "    # Our implementation found the answer to be ~0.8097\n",
    "        # We calculated the Cosine Similarity between tracks using the 8 element acoustic vector per track\n",
    "        # Cosine Similarity is the dot product of unit-length vectors\n",
    "        # Feel free to use a different similarity metric, such as Euclidean Distance from last week"
   ]
  },
  {
   "cell_type": "code",
   "execution_count": 11,
   "id": "42215763",
   "metadata": {},
   "outputs": [],
   "source": [
    "acoustic_columns = [f'acoustic_vector_{i}' for i in range(8)]\n",
    "tracks['acoustic_vector'] = pd.Series(np.array(tracks[acoustic_columns]).tolist())"
   ]
  },
  {
   "cell_type": "code",
   "execution_count": 12,
   "id": "78c0f72e",
   "metadata": {},
   "outputs": [],
   "source": [
    "log = log.merge(tracks[['track_id', 'acoustic_vector']], \n",
    "          right_on = ['track_id'], \n",
    "          left_on = ['track_id_clean'], \n",
    "          how = 'inner')"
   ]
  },
  {
   "cell_type": "code",
   "execution_count": 13,
   "id": "f40e1f25",
   "metadata": {},
   "outputs": [],
   "source": [
    "def cosine_similarity(v1, v2):\n",
    "  \"\"\"\n",
    "  Calculates the cosine similarity between two vectors.\n",
    "\n",
    "  Args:\n",
    "    v1: The first vector.\n",
    "    v2: The second vector.\n",
    "\n",
    "  Returns:\n",
    "    The cosine similarity between the two vectors.\n",
    "  \"\"\"\n",
    "\n",
    "  return np.dot(v1, v2) / (np.linalg.norm(v1) * np.linalg.norm(v2))\n",
    "\n",
    "def calculate_cosine_similarity(df, topk):\n",
    "    \"\"\"\n",
    "    Calculates the cosine similarity between all pairs of vectors in a DataFrame.\n",
    "\n",
    "    Args:\n",
    "    df: The DataFrame containing the vectors.\n",
    "\n",
    "    Returns:\n",
    "    A new DataFrame with the cosine similarity between each pair of vectors.\n",
    "    \"\"\"\n",
    "    df = df[:topk]\n",
    "    sim_score = 0\n",
    "    count = 0\n",
    "    for i in range(len(df)):\n",
    "        for j in range(i+1, len(df)):\n",
    "            sim_score += cosine_similarity(df['acoustic_vector'].iloc[i], df['acoustic_vector'].iloc[j])\n",
    "            count += 1\n",
    "            \n",
    "    return sim_score/count\n"
   ]
  },
  {
   "cell_type": "code",
   "execution_count": 14,
   "id": "98818628",
   "metadata": {},
   "outputs": [
    {
     "name": "stderr",
     "output_type": "stream",
     "text": [
      "100%|████████████████████████████████████████████████████████████████████████████████████████████████████████████████████████████████████████████████████████████████| 10000/10000 [00:18<00:00, 536.66it/s]\n"
     ]
    },
    {
     "data": {
      "text/plain": [
       "0.8097159162012062"
      ]
     },
     "execution_count": 14,
     "metadata": {},
     "output_type": "execute_result"
    }
   ],
   "source": [
    "topk = 20\n",
    "log\\\n",
    "    .sort_values(by = ['session_position'])\\\n",
    "    .groupby(\"session_id\")\\\n",
    "    .progress_apply(partial(calculate_cosine_similarity, topk = topk))\\\n",
    "    .mean()"
   ]
  },
  {
   "cell_type": "code",
   "execution_count": 15,
   "id": "pI1fUhZ6tJQ2",
   "metadata": {
    "id": "pI1fUhZ6tJQ2"
   },
   "outputs": [
    {
     "name": "stderr",
     "output_type": "stream",
     "text": [
      "100%|███████████████████████████████████████████████████████████████████████████████████████████████████████████████████████████████████████████████████████████████| 10000/10000 [00:06<00:00, 1560.43it/s]\n",
      "100%|███████████████████████████████████████████████████████████████████████████████████████████████████████████████████████████████████████████████████████████████| 10000/10000 [00:02<00:00, 4279.11it/s]\n",
      "100%|███████████████████████████████████████████████████████████████████████████████████████████████████████████████████████████████████████████████████████████████| 10000/10000 [00:01<00:00, 6078.31it/s]\n",
      "100%|███████████████████████████████████████████████████████████████████████████████████████████████████████████████████████████████████████████████████████████████| 10000/10000 [00:02<00:00, 4126.16it/s]\n",
      "100%|███████████████████████████████████████████████████████████████████████████████████████████████████████████████████████████████████████████████████████████████| 10000/10000 [00:06<00:00, 1574.70it/s]\n",
      "100%|███████████████████████████████████████████████████████████████████████████████████████████████████████████████████████████████████████████████████████████████| 10000/10000 [00:02<00:00, 4212.26it/s]\n",
      "100%|███████████████████████████████████████████████████████████████████████████████████████████████████████████████████████████████████████████████████████████████| 10000/10000 [00:06<00:00, 1570.91it/s]\n",
      "100%|███████████████████████████████████████████████████████████████████████████████████████████████████████████████████████████████████████████████████████████████| 10000/10000 [00:02<00:00, 4149.88it/s]\n",
      "100%|███████████████████████████████████████████████████████████████████████████████████████████████████████████████████████████████████████████████████████████████| 10000/10000 [00:06<00:00, 1465.51it/s]\n",
      "100%|███████████████████████████████████████████████████████████████████████████████████████████████████████████████████████████████████████████████████████████████| 10000/10000 [00:02<00:00, 4189.34it/s]\n",
      "100%|████████████████████████████████████████████████████████████████████████████████████████████████████████████████████████████████████████████████████████████████| 10000/10000 [00:12<00:00, 811.51it/s]\n",
      "100%|███████████████████████████████████████████████████████████████████████████████████████████████████████████████████████████████████████████████████████████████| 10000/10000 [00:02<00:00, 4191.07it/s]\n",
      "100%|███████████████████████████████████████████████████████████████████████████████████████████████████████████████████████████████████████████████████████████████| 10000/10000 [00:06<00:00, 1463.32it/s]\n",
      "100%|███████████████████████████████████████████████████████████████████████████████████████████████████████████████████████████████████████████████████████████████| 10000/10000 [00:02<00:00, 4208.97it/s]\n",
      "100%|████████████████████████████████████████████████████████████████████████████████████████████████████████████████████████████████████████████████████████████████| 10000/10000 [00:19<00:00, 523.97it/s]\n",
      "100%|███████████████████████████████████████████████████████████████████████████████████████████████████████████████████████████████████████████████████████████████| 10000/10000 [00:02<00:00, 4188.10it/s]\n"
     ]
    }
   ],
   "source": [
    "# Correlation plot amongst metrics and NDCG\n",
    "columns = ['NDCG', 'Time To First Skip', 'Sustained Dissatisfaction', 'Session Coherence']\n",
    "performance_metrics = pd.DataFrame(columns = columns)\n",
    "metrics_data = []\n",
    "\n",
    "for topk in [5, 10, 15, 20]:\n",
    "    skip_time = log\\\n",
    "        .sort_values(by = ['session_position'])\\\n",
    "        .groupby(\"session_id\")\\\n",
    "        .progress_apply(partial(time_to_first_skip, topk = topk))\\\n",
    "        .mean()\n",
    "    \n",
    "    sustained_dis = log\\\n",
    "        .sort_values(by = ['session_position'])\\\n",
    "        .groupby(\"session_id\")\\\n",
    "        .progress_apply(partial(sustained_dissatisfaction, topk = topk))\\\n",
    "        .mean()\n",
    "    \n",
    "    sesson_coherence = log\\\n",
    "        .sort_values(by = ['session_position'])\\\n",
    "        .groupby(\"session_id\")\\\n",
    "        .progress_apply(partial(calculate_cosine_similarity, topk = topk))\\\n",
    "        .mean()\n",
    "    \n",
    "    ndcg = log\\\n",
    "        .sort_values(by=['session_position'])\\\n",
    "        .groupby(\"session_id\")\\\n",
    "        .progress_apply(partial(compute_ndcg, topk=topk))\\\n",
    "        .mean()\n",
    "    \n",
    "    metrics_data.append({\n",
    "        'topk': topk,\n",
    "        'Time to First Skip': skip_time,\n",
    "        'Sustained Dissatisfaction': sustained_dis,\n",
    "        'Session Coherence': sesson_coherence,\n",
    "        'NDCG': ndcg\n",
    "    })\n",
    "    \n",
    "performance_metrics = pd.DataFrame(metrics_data)"
   ]
  },
  {
   "cell_type": "code",
   "execution_count": 16,
   "id": "973c93ed",
   "metadata": {},
   "outputs": [
    {
     "data": {
      "image/png": "[encoded data removed]",
      "text/plain": [
       "<Figure size 720x576 with 2 Axes>"
      ]
     },
     "metadata": {
      "needs_background": "light"
     },
     "output_type": "display_data"
    }
   ],
   "source": [
    "import seaborn as sns\n",
    "import matplotlib.pyplot as plt\n",
    "\n",
    "# Calculate the correlation matrix\n",
    "corr_matrix = performance_metrics.corr()\n",
    "\n",
    "# Create a heatmap using Seaborn\n",
    "plt.figure(figsize=(10, 8))  # Adjust the figure size as needed\n",
    "sns.heatmap(corr_matrix, annot=True, cmap=\"coolwarm\", fmt=\".2f\", linewidths=0.5)\n",
    "\n",
    "# Customize the plot (optional)\n",
    "plt.title(\"Correlation Matrix Heatmap\")\n",
    "plt.xticks(rotation=45)\n",
    "plt.yticks(rotation=0)\n",
    "plt.tight_layout()\n",
    "\n",
    "# Show the plot\n",
    "plt.show()\n"
   ]
  },
  {
   "cell_type": "markdown",
   "id": "a4ZcoFf8uL2v",
   "metadata": {
    "id": "a4ZcoFf8uL2v"
   },
   "source": [
    "## **5. TODO 4.2: Implement a New, Non-Learnt Ranker**\n",
    "[back to top](#scrollTo=bvONhqQblFfl&uniqifier=1)"
   ]
  },
  {
   "cell_type": "markdown",
   "id": "26c7ffa6-2c35-45c0-9d6d-78ab11f30632",
   "metadata": {
    "id": "26c7ffa6-2c35-45c0-9d6d-78ab11f30632"
   },
   "source": [
    "Your next goal is to implement another simple, non-learnt ranking logic, and compare the performance of both the production ranker and new ranking policy on the NDCG and three behavioral metrics you created above. A simple ranking policy could include sort by track popularity, or sort by danceability score for the track.\n",
    "  \n",
    "<br>Implement your ranker and then comment on its performance on our behavioral metrics compared to Spotify's production ranker:"
   ]
  },
  {
   "cell_type": "code",
   "execution_count": 17,
   "id": "41ff332c",
   "metadata": {},
   "outputs": [
    {
     "name": "stdout",
     "output_type": "stream",
     "text": [
      "CPU times: user 1e+03 ns, sys: 1 µs, total: 2 µs\n",
      "Wall time: 4.05 µs\n"
     ]
    }
   ],
   "source": [
    "%%time\n",
    "def new_poplarity_score():\n",
    "    tracks['new_popularity'] = tracks['us_popularity_estimate'] + np.random.normal(0, 5, size=len(tracks))\n",
    "    tracks['new_popularity'] = tracks['new_popularity']*100/tracks['new_popularity'].max()\n",
    "    \n",
    "    return tracks"
   ]
  },
  {
   "cell_type": "code",
   "execution_count": 18,
   "id": "23b0a9c4",
   "metadata": {},
   "outputs": [],
   "source": [
    "def add_new_pop_score(log):\n",
    "    if 'new_popularity' in log.columns:\n",
    "        log = log.drop('new_popularity', axis = 1)\n",
    "        \n",
    "    log = log.drop('track_id', axis = 1)\n",
    "    tracks = new_poplarity_score()\n",
    "    log = log.merge(tracks[['track_id', 'new_popularity']], \n",
    "          right_on = ['track_id'], \n",
    "          left_on = ['track_id_clean'], \n",
    "          how = 'inner')\n",
    "    \n",
    "    return log"
   ]
  },
  {
   "cell_type": "code",
   "execution_count": 19,
   "id": "0aeefb45",
   "metadata": {},
   "outputs": [],
   "source": [
    "new_log = add_new_pop_score(log)"
   ]
  },
  {
   "cell_type": "code",
   "execution_count": 27,
   "id": "e9e74169",
   "metadata": {},
   "outputs": [],
   "source": [
    "# Group by 'session_id' and sort each group by 'new_pop_score' in descending order\n",
    "new_log = new_log.sort_values(by=['session_id', 'new_popularity'], ascending=[True, False])\n",
    "# Create a 'rank' column within each group\n",
    "new_log['session_position'] = new_log.groupby('session_id').cumcount() + 1"
   ]
  },
  {
   "cell_type": "code",
   "execution_count": 28,
   "id": "11a257c8",
   "metadata": {},
   "outputs": [
    {
     "data": {
      "text/plain": [
       "(167880, 24)"
      ]
     },
     "execution_count": 28,
     "metadata": {},
     "output_type": "execute_result"
    }
   ],
   "source": [
    "new_log.shape"
   ]
  },
  {
   "cell_type": "code",
   "execution_count": 29,
   "id": "3ef590f1",
   "metadata": {},
   "outputs": [
    {
     "name": "stderr",
     "output_type": "stream",
     "text": [
      "100%|███████████████████████████████████████████████████████████████████████████████████████████████████████████████████████████████████████████████████████████████| 10000/10000 [00:06<00:00, 1522.97it/s]\n",
      "100%|███████████████████████████████████████████████████████████████████████████████████████████████████████████████████████████████████████████████████████████████| 10000/10000 [00:02<00:00, 4246.28it/s]\n",
      "100%|███████████████████████████████████████████████████████████████████████████████████████████████████████████████████████████████████████████████████████████████| 10000/10000 [00:01<00:00, 6106.66it/s]\n",
      "100%|███████████████████████████████████████████████████████████████████████████████████████████████████████████████████████████████████████████████████████████████| 10000/10000 [00:02<00:00, 4018.06it/s]\n",
      "100%|███████████████████████████████████████████████████████████████████████████████████████████████████████████████████████████████████████████████████████████████| 10000/10000 [00:06<00:00, 1565.98it/s]\n",
      "100%|███████████████████████████████████████████████████████████████████████████████████████████████████████████████████████████████████████████████████████████████| 10000/10000 [00:02<00:00, 4218.01it/s]\n",
      "100%|███████████████████████████████████████████████████████████████████████████████████████████████████████████████████████████████████████████████████████████████| 10000/10000 [00:06<00:00, 1596.54it/s]\n",
      "100%|███████████████████████████████████████████████████████████████████████████████████████████████████████████████████████████████████████████████████████████████| 10000/10000 [00:02<00:00, 3981.78it/s]\n",
      "100%|███████████████████████████████████████████████████████████████████████████████████████████████████████████████████████████████████████████████████████████████| 10000/10000 [00:06<00:00, 1512.53it/s]\n",
      "100%|███████████████████████████████████████████████████████████████████████████████████████████████████████████████████████████████████████████████████████████████| 10000/10000 [00:02<00:00, 4179.85it/s]\n",
      "100%|████████████████████████████████████████████████████████████████████████████████████████████████████████████████████████████████████████████████████████████████| 10000/10000 [00:12<00:00, 817.27it/s]\n",
      "100%|███████████████████████████████████████████████████████████████████████████████████████████████████████████████████████████████████████████████████████████████| 10000/10000 [00:02<00:00, 4175.06it/s]\n",
      "100%|███████████████████████████████████████████████████████████████████████████████████████████████████████████████████████████████████████████████████████████████| 10000/10000 [00:06<00:00, 1560.03it/s]\n",
      "100%|███████████████████████████████████████████████████████████████████████████████████████████████████████████████████████████████████████████████████████████████| 10000/10000 [00:02<00:00, 4210.59it/s]\n",
      "100%|████████████████████████████████████████████████████████████████████████████████████████████████████████████████████████████████████████████████████████████████| 10000/10000 [00:18<00:00, 527.85it/s]\n",
      "100%|███████████████████████████████████████████████████████████████████████████████████████████████████████████████████████████████████████████████████████████████| 10000/10000 [00:02<00:00, 4196.05it/s]\n"
     ]
    }
   ],
   "source": [
    "# Correlation plot amongst metrics and NDCG\n",
    "columns = ['NDCG', 'Time To First Skip', 'Sustained Dissatisfaction', 'Session Coherence']\n",
    "performance_metrics_new_ranker = pd.DataFrame(columns = columns)\n",
    "metrics_data = []\n",
    "\n",
    "for topk in [5, 10, 15, 20]:\n",
    "    skip_time = new_log\\\n",
    "        .sort_values(by = ['session_position'])\\\n",
    "        .groupby(\"session_id\")\\\n",
    "        .progress_apply(partial(time_to_first_skip, topk = topk))\\\n",
    "        .mean()\n",
    "    \n",
    "    sustained_dis = new_log\\\n",
    "        .sort_values(by = ['session_position'])\\\n",
    "        .groupby(\"session_id\")\\\n",
    "        .progress_apply(partial(sustained_dissatisfaction, topk = topk))\\\n",
    "        .mean()\n",
    "    \n",
    "    sesson_coherence = new_log\\\n",
    "        .sort_values(by = ['session_position'])\\\n",
    "        .groupby(\"session_id\")\\\n",
    "        .progress_apply(partial(calculate_cosine_similarity, topk = topk))\\\n",
    "        .mean()\n",
    "    \n",
    "    ndcg = new_log\\\n",
    "        .sort_values(by=['session_position'])\\\n",
    "        .groupby(\"session_id\")\\\n",
    "        .progress_apply(partial(compute_ndcg, topk=topk))\\\n",
    "        .mean()\n",
    "    \n",
    "    metrics_data.append({\n",
    "        'topk': topk,\n",
    "        'Time to First Skip': skip_time,\n",
    "        'Sustained Dissatisfaction': sustained_dis,\n",
    "        'Session Coherence': sesson_coherence,\n",
    "        'NDCG': ndcg\n",
    "    })\n",
    "    \n",
    "performance_metrics_new_ranker = pd.DataFrame(metrics_data)"
   ]
  },
  {
   "cell_type": "code",
   "execution_count": 31,
   "id": "d2dbed05",
   "metadata": {
    "scrolled": true
   },
   "outputs": [
    {
     "data": {
      "text/html": [
       "<div>\n",
       "<style scoped>\n",
       "    .dataframe tbody tr th:only-of-type {\n",
       "        vertical-align: middle;\n",
       "    }\n",
       "\n",
       "    .dataframe tbody tr th {\n",
       "        vertical-align: top;\n",
       "    }\n",
       "\n",
       "    .dataframe thead th {\n",
       "        text-align: right;\n",
       "    }\n",
       "</style>\n",
       "<table border=\"1\" class=\"dataframe\">\n",
       "  <thead>\n",
       "    <tr style=\"text-align: right;\">\n",
       "      <th></th>\n",
       "      <th>topk</th>\n",
       "      <th>Time to First Skip</th>\n",
       "      <th>Sustained Dissatisfaction</th>\n",
       "      <th>Session Coherence</th>\n",
       "      <th>NDCG</th>\n",
       "    </tr>\n",
       "  </thead>\n",
       "  <tbody>\n",
       "    <tr>\n",
       "      <th>0</th>\n",
       "      <td>5</td>\n",
       "      <td>2.5332</td>\n",
       "      <td>0.2340</td>\n",
       "      <td>0.812444</td>\n",
       "      <td>0.770430</td>\n",
       "    </tr>\n",
       "    <tr>\n",
       "      <th>1</th>\n",
       "      <td>10</td>\n",
       "      <td>3.2795</td>\n",
       "      <td>0.3865</td>\n",
       "      <td>0.810489</td>\n",
       "      <td>0.788455</td>\n",
       "    </tr>\n",
       "    <tr>\n",
       "      <th>2</th>\n",
       "      <td>15</td>\n",
       "      <td>3.5981</td>\n",
       "      <td>0.4519</td>\n",
       "      <td>0.810967</td>\n",
       "      <td>0.793803</td>\n",
       "    </tr>\n",
       "    <tr>\n",
       "      <th>3</th>\n",
       "      <td>20</td>\n",
       "      <td>3.7398</td>\n",
       "      <td>0.4791</td>\n",
       "      <td>0.809716</td>\n",
       "      <td>0.796645</td>\n",
       "    </tr>\n",
       "  </tbody>\n",
       "</table>\n",
       "</div>"
      ],
      "text/plain": [
       "   topk  Time to First Skip  Sustained Dissatisfaction  Session Coherence  \\\n",
       "0     5              2.5332                     0.2340           0.812444   \n",
       "1    10              3.2795                     0.3865           0.810489   \n",
       "2    15              3.5981                     0.4519           0.810967   \n",
       "3    20              3.7398                     0.4791           0.809716   \n",
       "\n",
       "       NDCG  \n",
       "0  0.770430  \n",
       "1  0.788455  \n",
       "2  0.793803  \n",
       "3  0.796645  "
      ]
     },
     "execution_count": 31,
     "metadata": {},
     "output_type": "execute_result"
    }
   ],
   "source": [
    "# New ranker's performance\n",
    "performance_metrics_new_ranker"
   ]
  },
  {
   "cell_type": "code",
   "execution_count": 32,
   "id": "75bccf3d",
   "metadata": {
    "scrolled": true
   },
   "outputs": [
    {
     "data": {
      "text/html": [
       "<div>\n",
       "<style scoped>\n",
       "    .dataframe tbody tr th:only-of-type {\n",
       "        vertical-align: middle;\n",
       "    }\n",
       "\n",
       "    .dataframe tbody tr th {\n",
       "        vertical-align: top;\n",
       "    }\n",
       "\n",
       "    .dataframe thead th {\n",
       "        text-align: right;\n",
       "    }\n",
       "</style>\n",
       "<table border=\"1\" class=\"dataframe\">\n",
       "  <thead>\n",
       "    <tr style=\"text-align: right;\">\n",
       "      <th></th>\n",
       "      <th>topk</th>\n",
       "      <th>Time to First Skip</th>\n",
       "      <th>Sustained Dissatisfaction</th>\n",
       "      <th>Session Coherence</th>\n",
       "      <th>NDCG</th>\n",
       "    </tr>\n",
       "  </thead>\n",
       "  <tbody>\n",
       "    <tr>\n",
       "      <th>0</th>\n",
       "      <td>5</td>\n",
       "      <td>3.0775</td>\n",
       "      <td>0.2964</td>\n",
       "      <td>0.823414</td>\n",
       "      <td>0.823570</td>\n",
       "    </tr>\n",
       "    <tr>\n",
       "      <th>1</th>\n",
       "      <td>10</td>\n",
       "      <td>4.0886</td>\n",
       "      <td>0.5238</td>\n",
       "      <td>0.817412</td>\n",
       "      <td>0.833027</td>\n",
       "    </tr>\n",
       "    <tr>\n",
       "      <th>2</th>\n",
       "      <td>15</td>\n",
       "      <td>4.4767</td>\n",
       "      <td>0.6164</td>\n",
       "      <td>0.812755</td>\n",
       "      <td>0.833890</td>\n",
       "    </tr>\n",
       "    <tr>\n",
       "      <th>3</th>\n",
       "      <td>20</td>\n",
       "      <td>4.6348</td>\n",
       "      <td>0.6543</td>\n",
       "      <td>0.809716</td>\n",
       "      <td>0.834000</td>\n",
       "    </tr>\n",
       "  </tbody>\n",
       "</table>\n",
       "</div>"
      ],
      "text/plain": [
       "   topk  Time to First Skip  Sustained Dissatisfaction  Session Coherence  \\\n",
       "0     5              3.0775                     0.2964           0.823414   \n",
       "1    10              4.0886                     0.5238           0.817412   \n",
       "2    15              4.4767                     0.6164           0.812755   \n",
       "3    20              4.6348                     0.6543           0.809716   \n",
       "\n",
       "       NDCG  \n",
       "0  0.823570  \n",
       "1  0.833027  \n",
       "2  0.833890  \n",
       "3  0.834000  "
      ]
     },
     "execution_count": 32,
     "metadata": {},
     "output_type": "execute_result"
    }
   ],
   "source": [
    "# Old rankers performance\n",
    "performance_metrics"
   ]
  },
  {
   "cell_type": "markdown",
   "id": "QE9kKG28vT-H",
   "metadata": {
    "id": "QE9kKG28vT-H"
   },
   "source": [
    "# <u>Off-Policy Evaluation:</u>"
   ]
  },
  {
   "cell_type": "markdown",
   "id": "LKg4HQSbxwCY",
   "metadata": {
    "id": "LKg4HQSbxwCY"
   },
   "source": [
    "## **1. Introduction**\n",
    "[back to top](#scrollTo=bvONhqQblFfl&uniqifier=1)"
   ]
  },
  {
   "cell_type": "markdown",
   "id": "b7e4812d-3b39-4def-a293-7da0297f32a1",
   "metadata": {
    "id": "b7e4812d-3b39-4def-a293-7da0297f32a1"
   },
   "source": [
    "We log listener behavior based on the recommendations that the production recommender serves to the listener. Using this data to assess any new recommender system, however, can present challenges – the production recommender and the new recommender can drastically differ in the results that they display to the user. For example, maybe the new recommender presents a lot of niche content, while the production recommender presents a lot of popular options. This can be an issue when evaluating a new recommender – If you don’t have any feedback on a recommendation because you never presented it to a user, how can you evaluate whether it’s a good recommendation?\n",
    "If you have a new policy to test that’s very similar to your old approach, then this won’t be an issue, and it’ll be easy to test! However, if the policy is very different, then you’ll need to collect special logged data.\n",
    "\n",
    "In this part of the project, we will simulate a recommendation policy and leverage counterfactual estimators as metrics to compare performance."
   ]
  },
  {
   "cell_type": "markdown",
   "id": "Qp_3_z7myCKU",
   "metadata": {
    "id": "Qp_3_z7myCKU"
   },
   "source": [
    "## **2. Setup**\n",
    "[back to top](#scrollTo=bvONhqQblFfl&uniqifier=1)"
   ]
  },
  {
   "cell_type": "markdown",
   "id": "i38fIQrsx50p",
   "metadata": {
    "id": "i38fIQrsx50p"
   },
   "source": [
    "Let's first begin by generating a few users and products. For ease of simulation, we assume users derive equal satisfaction from each item:"
   ]
  },
  {
   "cell_type": "code",
   "execution_count": 45,
   "id": "539cfda5-98eb-415c-a98b-ccb9acc22031",
   "metadata": {
    "id": "539cfda5-98eb-415c-a98b-ccb9acc22031"
   },
   "outputs": [],
   "source": [
    "users = np.array([\"user1\", \"user2\", \"user3\"])\n",
    "\n",
    "products = np.array(\n",
    "    [\n",
    "        \"product_a\",\n",
    "        \"product_b\",\n",
    "        \"product_c\",\n",
    "        \"product_d\",\n",
    "        \"product_e\",\n",
    "        \"product_f\",\n",
    "        \"product_g\",\n",
    "    ]\n",
    ")\n",
    "\n",
    "satisfaction = {\n",
    "    \"product_a\": 100,\n",
    "    \"product_b\": 150,\n",
    "    \"product_c\": 100,\n",
    "    \"product_d\": 200,\n",
    "    \"product_e\": 500,\n",
    "    \"product_f\": 120,\n",
    "    \"product_g\": 160,\n",
    "}"
   ]
  },
  {
   "cell_type": "markdown",
   "id": "1a77fd2c-7586-4ea5-9e28-67d6f3050bab",
   "metadata": {
    "id": "1a77fd2c-7586-4ea5-9e28-67d6f3050bab"
   },
   "source": [
    "Let's also implement whether a given user will accept a given recommendation or not. Once done, we can implement a target policy that makes recommendations."
   ]
  },
  {
   "cell_type": "code",
   "execution_count": 46,
   "id": "fd59b6ef-5d27-47b5-8b39-8adfd8eae51d",
   "metadata": {
    "id": "fd59b6ef-5d27-47b5-8b39-8adfd8eae51d"
   },
   "outputs": [],
   "source": [
    "def will_purchase(user, product):\n",
    "    if user == \"user1\" and (\n",
    "        product == \"product_a\" or product == \"product_b\" or product == \"product_c\"\n",
    "    ):\n",
    "        return True\n",
    "    elif user == \"user2\" and (product == \"product_d\" or product == \"product_e\"):\n",
    "        return True\n",
    "    elif user == \"user3\" and (product == \"product_f\" or product == \"product_g\"):\n",
    "        return True\n",
    "    else:\n",
    "        return False\n",
    "\n",
    "\n",
    "def choose_user():\n",
    "    return np.random.choice(users, size=1)\n",
    "\n",
    "\n",
    "def logging_policy():\n",
    "    return np.random.choice(products, size=1), 1 / len(products)\n",
    "\n",
    "\n",
    "class TargetPolicy:\n",
    "    def __init__(self):\n",
    "        self.user_probs = {\n",
    "            \"user1\": np.array([0.1, 0.1, 0.2, 0.1, 0.15, 0.15, 0.20]),\n",
    "            \"user2\": np.array([0.1, 0.10, 0.05, 0.25, 0.3, 0.1, 0.1]),\n",
    "            \"user3\": np.array([0.06, 0.06, 0.3, 0.06, 0.06, 0.4, 0.06]),\n",
    "        }\n",
    "\n",
    "        for user, probs in self.user_probs.items():\n",
    "            assert probs.sum() == 1\n",
    "            assert len(probs) == len(products)\n",
    "\n",
    "    def recommend(self, user):\n",
    "        user_prob = self.user_probs[user]\n",
    "        product = np.random.choice(products, size=1, p=user_prob)\n",
    "        product_idx = np.where(products == product)\n",
    "        prob = user_prob[product_idx]\n",
    "\n",
    "        return product, prob\n",
    "\n",
    "    def get_prob(self, user, product):\n",
    "        user_prob = self.user_probs[user]\n",
    "        product_idx = np.where(products == product)\n",
    "        product_prob = user_prob[product_idx]\n",
    "\n",
    "        return product_prob"
   ]
  },
  {
   "cell_type": "markdown",
   "id": "b0d1d10d-a993-42fb-a26c-106a46001719",
   "metadata": {
    "id": "b0d1d10d-a993-42fb-a26c-106a46001719"
   },
   "source": [
    "Having defined all key components of the dataset generation, let's create logged data that we can finally use for evaluation purposes:"
   ]
  },
  {
   "cell_type": "code",
   "execution_count": 47,
   "id": "e78f2bd2-5ad1-4b9e-87b5-abad2b3098a2",
   "metadata": {
    "id": "e78f2bd2-5ad1-4b9e-87b5-abad2b3098a2"
   },
   "outputs": [],
   "source": [
    "def compute_satisfaction(user, product):\n",
    "    if will_purchase(user, product):\n",
    "        return satisfaction[product.item()]\n",
    "    else:\n",
    "        return 0\n",
    "\n",
    "\n",
    "def create_logs(n=1000):\n",
    "    logs = []\n",
    "    target_policy = TargetPolicy()\n",
    "\n",
    "    for _ in tqdm(range(n)):\n",
    "        user = choose_user()\n",
    "\n",
    "        logging_product, logging_prob = logging_policy()\n",
    "        model_prob = target_policy.get_prob(user.item(), logging_product)\n",
    "\n",
    "        target_product, _ = target_policy.recommend(user.item())\n",
    "\n",
    "        logging_satisfaction = compute_satisfaction(user, logging_product)\n",
    "        target_satisfaction = compute_satisfaction(user, target_product)\n",
    "\n",
    "        log = OrderedDict(\n",
    "            {\n",
    "                \"user_features\": user.item(),\n",
    "                \"item_placed\": logging_product.item(),\n",
    "                \"item_prob\": logging_prob,\n",
    "                \"item_satisfaction\": logging_satisfaction,\n",
    "                \"model_prob\": model_prob.item(),\n",
    "                \"ab_test_satisfaction\": target_satisfaction,\n",
    "            }\n",
    "        )\n",
    "\n",
    "        logs.append(log)\n",
    "\n",
    "    return pd.DataFrame(logs)"
   ]
  },
  {
   "cell_type": "markdown",
   "id": "bf3731a5-75ba-4522-889a-a3bdba5d46dc",
   "metadata": {
    "id": "bf3731a5-75ba-4522-889a-a3bdba5d46dc"
   },
   "source": [
    "Here is what our logged data now looks like:"
   ]
  },
  {
   "cell_type": "code",
   "execution_count": 48,
   "id": "4ff18b51-9484-4e15-9f73-c8950343fac9",
   "metadata": {
    "colab": {
     "base_uri": "https://localhost:8080/",
     "height": 224
    },
    "id": "4ff18b51-9484-4e15-9f73-c8950343fac9",
    "outputId": "4ae268b6-27e6-4f5f-bbec-31404d679d13"
   },
   "outputs": [
    {
     "name": "stderr",
     "output_type": "stream",
     "text": [
      "100%|████████████████████████████████████████████████████████████████████████████████████████████████████████████████████████████████████████████████████████████████| 1000/1000 [00:00<00:00, 13695.64it/s]\n"
     ]
    },
    {
     "data": {
      "text/html": [
       "<div>\n",
       "<style scoped>\n",
       "    .dataframe tbody tr th:only-of-type {\n",
       "        vertical-align: middle;\n",
       "    }\n",
       "\n",
       "    .dataframe tbody tr th {\n",
       "        vertical-align: top;\n",
       "    }\n",
       "\n",
       "    .dataframe thead th {\n",
       "        text-align: right;\n",
       "    }\n",
       "</style>\n",
       "<table border=\"1\" class=\"dataframe\">\n",
       "  <thead>\n",
       "    <tr style=\"text-align: right;\">\n",
       "      <th></th>\n",
       "      <th>user_features</th>\n",
       "      <th>item_placed</th>\n",
       "      <th>item_prob</th>\n",
       "      <th>item_satisfaction</th>\n",
       "      <th>model_prob</th>\n",
       "      <th>ab_test_satisfaction</th>\n",
       "    </tr>\n",
       "  </thead>\n",
       "  <tbody>\n",
       "    <tr>\n",
       "      <th>0</th>\n",
       "      <td>user3</td>\n",
       "      <td>product_d</td>\n",
       "      <td>0.142857</td>\n",
       "      <td>0</td>\n",
       "      <td>0.06</td>\n",
       "      <td>120</td>\n",
       "    </tr>\n",
       "    <tr>\n",
       "      <th>1</th>\n",
       "      <td>user2</td>\n",
       "      <td>product_e</td>\n",
       "      <td>0.142857</td>\n",
       "      <td>500</td>\n",
       "      <td>0.30</td>\n",
       "      <td>500</td>\n",
       "    </tr>\n",
       "    <tr>\n",
       "      <th>2</th>\n",
       "      <td>user1</td>\n",
       "      <td>product_f</td>\n",
       "      <td>0.142857</td>\n",
       "      <td>0</td>\n",
       "      <td>0.15</td>\n",
       "      <td>0</td>\n",
       "    </tr>\n",
       "    <tr>\n",
       "      <th>3</th>\n",
       "      <td>user2</td>\n",
       "      <td>product_e</td>\n",
       "      <td>0.142857</td>\n",
       "      <td>500</td>\n",
       "      <td>0.30</td>\n",
       "      <td>200</td>\n",
       "    </tr>\n",
       "    <tr>\n",
       "      <th>4</th>\n",
       "      <td>user2</td>\n",
       "      <td>product_c</td>\n",
       "      <td>0.142857</td>\n",
       "      <td>0</td>\n",
       "      <td>0.05</td>\n",
       "      <td>500</td>\n",
       "    </tr>\n",
       "  </tbody>\n",
       "</table>\n",
       "</div>"
      ],
      "text/plain": [
       "  user_features item_placed  item_prob  item_satisfaction  model_prob  \\\n",
       "0         user3   product_d   0.142857                  0        0.06   \n",
       "1         user2   product_e   0.142857                500        0.30   \n",
       "2         user1   product_f   0.142857                  0        0.15   \n",
       "3         user2   product_e   0.142857                500        0.30   \n",
       "4         user2   product_c   0.142857                  0        0.05   \n",
       "\n",
       "   ab_test_satisfaction  \n",
       "0                   120  \n",
       "1                   500  \n",
       "2                     0  \n",
       "3                   200  \n",
       "4                   500  "
      ]
     },
     "execution_count": 48,
     "metadata": {},
     "output_type": "execute_result"
    }
   ],
   "source": [
    "logs = create_logs(n=1000)\n",
    "logs.head(5)"
   ]
  },
  {
   "cell_type": "markdown",
   "id": "9RboprQXyuCB",
   "metadata": {
    "id": "9RboprQXyuCB"
   },
   "source": [
    "## **3. Rewards and IPS**\n",
    "[back to top](#scrollTo=bvONhqQblFfl&uniqifier=1)"
   ]
  },
  {
   "cell_type": "markdown",
   "id": "cc6a4c42-467f-4dfd-8e75-3d58a9c77781",
   "metadata": {
    "id": "cc6a4c42-467f-4dfd-8e75-3d58a9c77781"
   },
   "source": [
    "With the dataset ready, let's compute the mean rewards (satisfaction) for the logging/production policy and the target policy. Note that due to randomness in the log generation process your result will likely differ.\n"
   ]
  },
  {
   "cell_type": "code",
   "execution_count": 49,
   "id": "082465c7-b149-40ac-aa40-a44116d2a7bf",
   "metadata": {
    "colab": {
     "base_uri": "https://localhost:8080/"
    },
    "id": "082465c7-b149-40ac-aa40-a44116d2a7bf",
    "outputId": "5d0b4494-e5b7-446b-c68a-48b259e1fa5d"
   },
   "outputs": [
    {
     "name": "stderr",
     "output_type": "stream",
     "text": [
      "100%|████████████████████████████████████████████████████████████████████████████████████████████████████████████████████████████████████████████████████████████| 100000/100000 [00:04<00:00, 22763.33it/s]\n"
     ]
    },
    {
     "name": "stdout",
     "output_type": "stream",
     "text": [
      "Expected reward from logging policy: 63.07\n",
      "Expected reward from target policy: 100.07\n"
     ]
    }
   ],
   "source": [
    "sim = create_logs(n=100_000)\n",
    "logging_policy_reward = sim[\"item_satisfaction\"].mean()\n",
    "target_policy_reward = sim[\"ab_test_satisfaction\"].mean()\n",
    "\n",
    "print(f\"Expected reward from logging policy: {logging_policy_reward:.2f}\")\n",
    "print(f\"Expected reward from target policy: {target_policy_reward:.2f}\")"
   ]
  },
  {
   "cell_type": "markdown",
   "id": "37a954a7-a0ea-4bec-9d60-3ec0ea549f40",
   "metadata": {
    "id": "37a954a7-a0ea-4bec-9d60-3ec0ea549f40"
   },
   "source": [
    "Now let's implement the IPS estimator:"
   ]
  },
  {
   "cell_type": "code",
   "execution_count": 50,
   "id": "f574b73d-38b7-4504-addc-47fd23839d40",
   "metadata": {
    "colab": {
     "base_uri": "https://localhost:8080/"
    },
    "id": "f574b73d-38b7-4504-addc-47fd23839d40",
    "outputId": "9c605668-6c88-4bae-e06c-1ff66bd83f48"
   },
   "outputs": [
    {
     "data": {
      "text/plain": [
       "100.9708"
      ]
     },
     "execution_count": 50,
     "metadata": {},
     "output_type": "execute_result"
    }
   ],
   "source": [
    "def compute_ips(df):\n",
    "    assert {\"model_prob\", \"item_prob\", \"item_satisfaction\"}.issubset(df.columns)\n",
    "    return (df[\"model_prob\"] / df[\"item_prob\"] * df[\"item_satisfaction\"]).mean()\n",
    "\n",
    "compute_ips(logs)"
   ]
  },
  {
   "cell_type": "markdown",
   "id": "8d2a93e4-0e1d-45e1-846f-d7fd73bfb9de",
   "metadata": {
    "id": "8d2a93e4-0e1d-45e1-846f-d7fd73bfb9de"
   },
   "source": [
    "Computing the IPS estimator on our 1,000 entry log gives an average revenue much closer to our expected reward from the target policy compared to that of the logging policy. Therefore, we should be confident to deploy our target policy to production and do an A/B test comparing it with the logging policy as a final validation."
   ]
  },
  {
   "cell_type": "markdown",
   "id": "zQuEVahrzNV9",
   "metadata": {
    "id": "zQuEVahrzNV9"
   },
   "source": [
    "## **4. TODO 4.3: Capped IPS and NCIS**\n",
    "[back to top](#scrollTo=bvONhqQblFfl&uniqifier=1)"
   ]
  },
  {
   "cell_type": "markdown",
   "id": "ce6d30c6-7684-47d6-a65c-523138f5ee5a",
   "metadata": {
    "id": "ce6d30c6-7684-47d6-a65c-523138f5ee5a"
   },
   "source": [
    "Your goal is to implement two additional off-policy estimators:\n",
    "1. Capped IPS\n",
    "2. Normalized Capped Importance Sampling (NCIS)\n",
    "\n",
    "Feel free to try different capping thresholds, and compare the reward and standard deviations of these estimators with the IPS estimator and mean reward."
   ]
  },
  {
   "cell_type": "code",
   "execution_count": 51,
   "id": "5ec2fbc1-4b2d-4984-bc83-34d47cb067b4",
   "metadata": {
    "id": "5ec2fbc1-4b2d-4984-bc83-34d47cb067b4"
   },
   "outputs": [],
   "source": [
    "def compute_capped_ips(logs, cap=1000):\n",
    "    \"\"\"\n",
    "    Computes the Capped IPS.\n",
    "\n",
    "    Args:\n",
    "        logs (DataFrame): Generated logs data\n",
    "        cap (int): Capping threshold\n",
    "\n",
    "    Returns:\n",
    "        ips (float): Resulting IPS\n",
    "    \"\"\"\n",
    "    ips = 0\n",
    "\n",
    "    # Your code goes here\n",
    "    ips = (np.minimum(logs[\"model_prob\"] / logs[\"item_prob\"], cap) * logs[\"item_satisfaction\"]).mean()\n",
    "\n",
    "    return ips"
   ]
  },
  {
   "cell_type": "code",
   "execution_count": 56,
   "id": "e4b03cee-1438-4f1f-a170-4b535979b231",
   "metadata": {
    "id": "e4b03cee-1438-4f1f-a170-4b535979b231"
   },
   "outputs": [],
   "source": [
    "def compute_ncis(logs, cap=1000):\n",
    "    \"\"\"\n",
    "    Computes the NCIS.\n",
    "\n",
    "    Args:\n",
    "        logs (DataFrame): Generated logs data\n",
    "        cap (int): Capping threshold\n",
    "\n",
    "    Returns:\n",
    "        ncis (float): Resulting NCIS\n",
    "    \"\"\"\n",
    "    ncis = 0\n",
    "\n",
    "    # Your code goes here\n",
    "    capped_probs = np.minimum(logs['model_prob'] / logs['item_prob'], cap)\n",
    "    ncis = (capped_probs * logs[\"item_satisfaction\"]).mean() / capped_probs.mean()\n",
    "    \n",
    "    return ncis"
   ]
  },
  {
   "cell_type": "code",
   "execution_count": 57,
   "id": "7ad5cc23",
   "metadata": {},
   "outputs": [
    {
     "data": {
      "text/plain": [
       "(100.9708, 55.0688)"
      ]
     },
     "execution_count": 57,
     "metadata": {},
     "output_type": "execute_result"
    }
   ],
   "source": [
    "compute_capped_ips(logs, cap=1000), compute_capped_ips(logs, cap=1)"
   ]
  },
  {
   "cell_type": "code",
   "execution_count": 58,
   "id": "eb82810d",
   "metadata": {},
   "outputs": [
    {
     "data": {
      "text/plain": [
       "(101.98967687195079, 76.83018025559463)"
      ]
     },
     "execution_count": 58,
     "metadata": {},
     "output_type": "execute_result"
    }
   ],
   "source": [
    "compute_ncis(logs, cap=1000), compute_ncis(logs, cap=1)"
   ]
  },
  {
   "cell_type": "code",
   "execution_count": null,
   "id": "75727f94",
   "metadata": {},
   "outputs": [],
   "source": []
  }
 ],
 "metadata": {
  "colab": {
   "collapsed_sections": [
    "oN0zQSPYncJR",
    "mKT-yDAzlP9Y",
    "SuQ7Xnp1lolE",
    "H1_DJMNDoW-5",
    "rkHkC-SnsQRI",
    "a4ZcoFf8uL2v",
    "QE9kKG28vT-H",
    "LKg4HQSbxwCY",
    "Qp_3_z7myCKU",
    "9RboprQXyuCB",
    "zQuEVahrzNV9"
   ],
   "provenance": []
  },
  "environment": {
   "kernel": "python3",
   "name": "tf2-gpu.2-6.m89",
   "type": "gcloud",
   "uri": "gcr.io/deeplearning-platform-release/tf2-gpu.2-6:m89"
  },
  "kernelspec": {
   "display_name": "Python 3.9 (tensorflow)",
   "language": "python",
   "name": "tensorflow"
  },
  "language_info": {
   "codemirror_mode": {
    "name": "ipython",
    "version": 3
   },
   "file_extension": ".py",
   "mimetype": "text/x-python",
   "name": "python",
   "nbconvert_exporter": "python",
   "pygments_lexer": "ipython3",
   "version": "3.9.7"
  }
 },
 "nbformat": 4,
 "nbformat_minor": 5
}
